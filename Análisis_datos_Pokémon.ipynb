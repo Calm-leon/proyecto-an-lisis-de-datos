{
  "nbformat": 4,
  "nbformat_minor": 0,
  "metadata": {
    "colab": {
      "provenance": [],
      "authorship_tag": "ABX9TyOj202rcwmi47Ne+4jlaI4Z",
      "include_colab_link": true
    },
    "kernelspec": {
      "name": "python3",
      "display_name": "Python 3"
    },
    "language_info": {
      "name": "python"
    }
  },
  "cells": [
    {
      "cell_type": "markdown",
      "metadata": {
        "id": "view-in-github",
        "colab_type": "text"
      },
      "source": [
        "<a href=\"https://colab.research.google.com/github/Calm-leon/proyecto-an-lisis-de-datos/blob/main/An%C3%A1lisis_datos_Pok%C3%A9mon.ipynb\" target=\"_parent\"><img src=\"https://colab.research.google.com/assets/colab-badge.svg\" alt=\"Open In Colab\"/></a>"
      ]
    },
    {
      "cell_type": "markdown",
      "source": [
        "# Fundamentos del Proyecto de Ciencia de Datos: Análisis de Pokémon Legendario.\n",
        "\n",
        "---------------\n",
        "## Contexto\n",
        "---------------\n",
        "\n",
        "Dentro del Mundo Pokémon, se considera legendario a aquel Pokémon generalmente raro, con poderes sobrenaturales y que destacan sobre el resto de criaturas. La mayoría de estos Pokémon forman parte del proceso de creación del Mundo y han intervenido de una u otra manera en él. Así mismo, suelen ser realmente difíciles de avistar y mucho más todavía de capturar; pues raramente se muestran ante los humanos.  \n",
        "\n",
        "Hace un tiempo se hizo una investigación sobre los 801 Pokémon existentes en ese entonces. En este mundo, los Pokémon Legendarios se pueden dividir en diferentes grupos según la naturaleza de los mismos. Se impusieron varias restricciones a la selección de esta instancia en una base de datos. \n",
        "\n",
        "\n",
        "-----------------\n",
        "## Objectivo\n",
        "-----------------\n",
        "\n",
        "Analizar las habilidades con las que debe contar un Pokémon para que sea considerado legendario. \n",
        "\n",
        "-------------------------"
      ],
      "metadata": {
        "id": "bQ2MxLZKcXH8"
      }
    }
  ]
}
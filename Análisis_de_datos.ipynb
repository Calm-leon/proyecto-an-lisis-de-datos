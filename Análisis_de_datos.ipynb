{
  "nbformat": 4,
  "nbformat_minor": 0,
  "metadata": {
    "colab": {
      "provenance": [],
      "collapsed_sections": [],
      "include_colab_link": true
    },
    "kernelspec": {
      "name": "python3",
      "display_name": "Python 3"
    },
    "language_info": {
      "name": "python"
    }
  },
  "cells": [
    {
      "cell_type": "markdown",
      "metadata": {
        "id": "view-in-github",
        "colab_type": "text"
      },
      "source": [
        "<a href=\"https://colab.research.google.com/github/Calm-leon/proyecto-an-lisis-de-datos/blob/main/An%C3%A1lisis_de_datos.ipynb\" target=\"_parent\"><img src=\"https://colab.research.google.com/assets/colab-badge.svg\" alt=\"Open In Colab\"/></a>"
      ]
    },
    {
      "cell_type": "markdown",
      "metadata": {
        "id": "BL_LfsVn_bv1"
      },
      "source": [
        "# Fundamentos del Proyecto de Ciencia de Datos: Análisis de Pokémon Legendario.\n",
        "\n",
        "---------------\n",
        "## Contexto\n",
        "---------------\n",
        "\n",
        "Dentro del Mundo Pokémon, se considera legendario a aquel Pokémon generalmente raro, con poderes sobrenaturales y que destacan sobre el resto de criaturas. La mayoría de estos Pokémon forman parte del proceso de creación del Mundo y han intervenido de una u otra manera en él. Así mismo, suelen ser realmente difíciles de avistar y mucho más todavía de capturar; pues raramente se muestran ante los humanos.  \n",
        "\n",
        "Hace un tiempo se hizo una investigación sobre los 801 Pokémon existentes en ese entonces. En este mundo, los Pokémon Legendarios se pueden dividir en diferentes grupos según la naturaleza de los mismos. Se impusieron varias restricciones a la selección de esta instancia en una base de datos. \n",
        "\n",
        "\n",
        "-----------------\n",
        "## Objectivo\n",
        "-----------------\n",
        "\n",
        "Analizar las habilidades con las que debe contar un Pokémon para que sea considerado legendario. \n",
        "\n",
        "-------------------------\n",
        "## Diccionaro de Conjunto de Datos de pokedex\n",
        "-------------------------\n",
        "\n",
        "El conjunto de datos tiene la siguiente información: \n",
        "\n",
        "* Número Pokedex: Identificador en la guía enciclopédica Pokédex.\n",
        "* Nombre: Nombre de la especie del Pokémon según su evolución.\n",
        "* Ataque: Representa la fuerza natural del Pokémon al realizar un movimiento físico (se consideran físicos aquellos movimientos donde el Pokémon cause un daño al hacer contacto con otro Pokémon o en el que requiera usar fuerza física) (N).\n",
        "* Defensa: Representa la resistencia natural de un Pokémon ante los movimientos físicos.\n",
        "* Altura: Altura de la especie del Pokémon según su evolución (m).\n",
        "* Caballos de fuerza: Potencia de la especie del Pokémon según su evolución (hp)\n",
        "* Porcentaje masculino: Porcentaje de masculinidad de cada Pokémon según la especie.\n",
        "* Velocidad de ataque: Velocidad de cada uno de los ataques de acuerdo a la evolución de cada Pokémon. \n",
        "* Velocidad de defensa: \n",
        "* Velocidad: Velocidad con la que se desplaza la especie del Pokémon. \n",
        "* Tipo: Tipo de Pokémon. \n",
        "* Peso: Peso del Pokémon (kg). \n",
        "* Generación: \n",
        "* Es Legendario: ¿Es legendario? (bit,0:no y 1:si)\n",
        "\n",
        "-------------------------\n",
        "## Diccionaro de Conjunto de Datos de pokemon\n",
        "-------------------------"
      ]
    },
    {
      "cell_type": "markdown",
      "metadata": {
        "id": "vVR3oeVo_bv5"
      },
      "source": [
        "## P 1: Importación de bibliotecas a usar."
      ]
    },
    {
      "cell_type": "code",
      "execution_count": 7,
      "metadata": {
        "id": "sQPI1Bzz_bv5"
      },
      "outputs": [],
      "source": [
        "import numpy as np # Crea arreglos de grandes dimensiones y contiene funciones matemátematicas de alto nivel. \n",
        "import pandas as pd # Nos facilita la manipulación, tratamiento y análisis de los datos.\n",
        "import seaborn as sns # Visualización de los datos.\n",
        "import matplotlib.pyplot as plt # Trazado para graficos en dos dimenciones.\n",
        "import scipy.stats as stats # Distribuciones estadisticas y .stats se utiliza para analizar la distribución normal.\n",
        "%matplotlib inline "
      ]
    },
    {
      "cell_type": "markdown",
      "metadata": {
        "id": "mMa-2YFV_bv7"
      },
      "source": [
        "## Respuesta 1:\n",
        "\n",
        "- **NumPy** es una librería esencial para el análisis de datos y el cálculo científico. Hace arreglos manipulables de grandes dimensiones y contiene un gran número de funciones matemátematicas de alto nivel.\n",
        "Suele importarse con el alias np de la siguiente forma: `import numpy as np`. \n",
        "\n",
        "- **Pandas** es la librería más utilizada para el análisis, tratamiento (leer y escribir datos en diferentes formatos) y manipulación de datos, sus estructuras básicas son marcos de datos y series. Se basa en NumPy y generalmente se importa con el alias pd como `import pandas as pd`.\n",
        "\n",
        "- **Seaborn** es una librería que funciona como una interfaz para Matplotlib y está integrada con pandas. Se utiliza para la visualización de datos con la creación de trazados estadiaticos. Se importa normalmente con el alias sns de la siguiente forma: `import seaborn as sns`. \n",
        "\n",
        "- **Matplotlib** es una librería para crear diagramas matemáticos, estadísticos y científicos. La colección matplotlib.pyplot emula la forma de hacer las cosas de Matlab. Se importa con el alias plt como `import matplotlib.pyplot as plt` y el comando `%matplotlib inline` muestra los gráficos dentro del cuaderno Jupyter.\n",
        "\n",
        "- **Scipy.stats**"
      ]
    },
    {
      "cell_type": "code",
      "source": [],
      "metadata": {
        "id": "KaPwb8_2FyX5"
      },
      "execution_count": null,
      "outputs": []
    },
    {
      "cell_type": "markdown",
      "metadata": {
        "id": "8WpI8LC7_bv7"
      },
      "source": [
        "## P 2: Leer el conjunto de datos dado. "
      ]
    },
    {
      "cell_type": "code",
      "execution_count": 8,
      "metadata": {
        "id": "OTzXe_vA_bv7"
      },
      "outputs": [],
      "source": [
        "#la variable pokedex es una estructura tipo DataFrame creada con el archivo de datos separados por comas pokedex.csv\n",
        "pokedex = pd.read_csv(\"https://raw.githubusercontent.com/MuhammadBilalTahir/What-makes-a-Pokemon-Legendary/main/pokedex.csv\")\n",
        "pokemon = pd.read_csv(\"https://raw.githubusercontent.com/Calm-leon/proyecto-an-lisis-de-datos/0marR0driguez-patch-1/Pokemon.csv\")"
      ]
    },
    {
      "cell_type": "markdown",
      "metadata": {
        "id": "H3SziaVY_bv8"
      },
      "source": [
        "## P 3. Muestra los últimos 10 registros del conjunto de datos. ¿Cuántas columnas hay?"
      ]
    },
    {
      "cell_type": "code",
      "source": [
        "#el método tail(n) muestra las últimas n filas de un conjunto de datos\n",
        "pokedex.tail(10)"
      ],
      "metadata": {
        "colab": {
          "base_uri": "https://localhost:8080/",
          "height": 407
        },
        "id": "L3yhl5lTrA9E",
        "outputId": "f5647883-776c-4b2c-d9a7-06b591ec8431"
      },
      "execution_count": 9,
      "outputs": [
        {
          "output_type": "execute_result",
          "data": {
            "text/plain": [
              "     pokedex_number        name  attack  defense  height_m   hp  \\\n",
              "791             792      Lunala     113       89       4.0  137   \n",
              "792             793    Nihilego      53       47       1.2  109   \n",
              "793             794    Buzzwole     139      139       2.4  107   \n",
              "794             795   Pheromosa     137       37       1.8   71   \n",
              "795             796   Xurkitree      89       71       3.8   83   \n",
              "796             797  Celesteela     101      103       9.2   97   \n",
              "797             798     Kartana     181      131       0.3   59   \n",
              "798             799    Guzzlord     101       53       5.5  223   \n",
              "799             800    Necrozma     107      101       2.4   97   \n",
              "800             801    Magearna      95      115       1.0   80   \n",
              "\n",
              "     percentage_male  sp_attack  sp_defense  speed      type  weight_kg  \\\n",
              "791              NaN        137         107     97   psychic      120.0   \n",
              "792              NaN        127         131    103      rock       55.5   \n",
              "793              NaN         53          53     79       bug      333.6   \n",
              "794              NaN        137          37    151       bug       25.0   \n",
              "795              NaN        173          71     83  electric      100.0   \n",
              "796              NaN        107         101     61     steel      999.9   \n",
              "797              NaN         59          31    109     grass        0.1   \n",
              "798              NaN         97          53     43      dark      888.0   \n",
              "799              NaN        127          89     79   psychic      230.0   \n",
              "800              NaN        130         115     65     steel       80.5   \n",
              "\n",
              "     generation  is_legendary  \n",
              "791           7             1  \n",
              "792           7             1  \n",
              "793           7             1  \n",
              "794           7             1  \n",
              "795           7             1  \n",
              "796           7             1  \n",
              "797           7             1  \n",
              "798           7             1  \n",
              "799           7             1  \n",
              "800           7             1  "
            ],
            "text/html": [
              "\n",
              "  <div id=\"df-5d41a560-898a-4f2e-aafa-70b92b5b1c03\">\n",
              "    <div class=\"colab-df-container\">\n",
              "      <div>\n",
              "<style scoped>\n",
              "    .dataframe tbody tr th:only-of-type {\n",
              "        vertical-align: middle;\n",
              "    }\n",
              "\n",
              "    .dataframe tbody tr th {\n",
              "        vertical-align: top;\n",
              "    }\n",
              "\n",
              "    .dataframe thead th {\n",
              "        text-align: right;\n",
              "    }\n",
              "</style>\n",
              "<table border=\"1\" class=\"dataframe\">\n",
              "  <thead>\n",
              "    <tr style=\"text-align: right;\">\n",
              "      <th></th>\n",
              "      <th>pokedex_number</th>\n",
              "      <th>name</th>\n",
              "      <th>attack</th>\n",
              "      <th>defense</th>\n",
              "      <th>height_m</th>\n",
              "      <th>hp</th>\n",
              "      <th>percentage_male</th>\n",
              "      <th>sp_attack</th>\n",
              "      <th>sp_defense</th>\n",
              "      <th>speed</th>\n",
              "      <th>type</th>\n",
              "      <th>weight_kg</th>\n",
              "      <th>generation</th>\n",
              "      <th>is_legendary</th>\n",
              "    </tr>\n",
              "  </thead>\n",
              "  <tbody>\n",
              "    <tr>\n",
              "      <th>791</th>\n",
              "      <td>792</td>\n",
              "      <td>Lunala</td>\n",
              "      <td>113</td>\n",
              "      <td>89</td>\n",
              "      <td>4.0</td>\n",
              "      <td>137</td>\n",
              "      <td>NaN</td>\n",
              "      <td>137</td>\n",
              "      <td>107</td>\n",
              "      <td>97</td>\n",
              "      <td>psychic</td>\n",
              "      <td>120.0</td>\n",
              "      <td>7</td>\n",
              "      <td>1</td>\n",
              "    </tr>\n",
              "    <tr>\n",
              "      <th>792</th>\n",
              "      <td>793</td>\n",
              "      <td>Nihilego</td>\n",
              "      <td>53</td>\n",
              "      <td>47</td>\n",
              "      <td>1.2</td>\n",
              "      <td>109</td>\n",
              "      <td>NaN</td>\n",
              "      <td>127</td>\n",
              "      <td>131</td>\n",
              "      <td>103</td>\n",
              "      <td>rock</td>\n",
              "      <td>55.5</td>\n",
              "      <td>7</td>\n",
              "      <td>1</td>\n",
              "    </tr>\n",
              "    <tr>\n",
              "      <th>793</th>\n",
              "      <td>794</td>\n",
              "      <td>Buzzwole</td>\n",
              "      <td>139</td>\n",
              "      <td>139</td>\n",
              "      <td>2.4</td>\n",
              "      <td>107</td>\n",
              "      <td>NaN</td>\n",
              "      <td>53</td>\n",
              "      <td>53</td>\n",
              "      <td>79</td>\n",
              "      <td>bug</td>\n",
              "      <td>333.6</td>\n",
              "      <td>7</td>\n",
              "      <td>1</td>\n",
              "    </tr>\n",
              "    <tr>\n",
              "      <th>794</th>\n",
              "      <td>795</td>\n",
              "      <td>Pheromosa</td>\n",
              "      <td>137</td>\n",
              "      <td>37</td>\n",
              "      <td>1.8</td>\n",
              "      <td>71</td>\n",
              "      <td>NaN</td>\n",
              "      <td>137</td>\n",
              "      <td>37</td>\n",
              "      <td>151</td>\n",
              "      <td>bug</td>\n",
              "      <td>25.0</td>\n",
              "      <td>7</td>\n",
              "      <td>1</td>\n",
              "    </tr>\n",
              "    <tr>\n",
              "      <th>795</th>\n",
              "      <td>796</td>\n",
              "      <td>Xurkitree</td>\n",
              "      <td>89</td>\n",
              "      <td>71</td>\n",
              "      <td>3.8</td>\n",
              "      <td>83</td>\n",
              "      <td>NaN</td>\n",
              "      <td>173</td>\n",
              "      <td>71</td>\n",
              "      <td>83</td>\n",
              "      <td>electric</td>\n",
              "      <td>100.0</td>\n",
              "      <td>7</td>\n",
              "      <td>1</td>\n",
              "    </tr>\n",
              "    <tr>\n",
              "      <th>796</th>\n",
              "      <td>797</td>\n",
              "      <td>Celesteela</td>\n",
              "      <td>101</td>\n",
              "      <td>103</td>\n",
              "      <td>9.2</td>\n",
              "      <td>97</td>\n",
              "      <td>NaN</td>\n",
              "      <td>107</td>\n",
              "      <td>101</td>\n",
              "      <td>61</td>\n",
              "      <td>steel</td>\n",
              "      <td>999.9</td>\n",
              "      <td>7</td>\n",
              "      <td>1</td>\n",
              "    </tr>\n",
              "    <tr>\n",
              "      <th>797</th>\n",
              "      <td>798</td>\n",
              "      <td>Kartana</td>\n",
              "      <td>181</td>\n",
              "      <td>131</td>\n",
              "      <td>0.3</td>\n",
              "      <td>59</td>\n",
              "      <td>NaN</td>\n",
              "      <td>59</td>\n",
              "      <td>31</td>\n",
              "      <td>109</td>\n",
              "      <td>grass</td>\n",
              "      <td>0.1</td>\n",
              "      <td>7</td>\n",
              "      <td>1</td>\n",
              "    </tr>\n",
              "    <tr>\n",
              "      <th>798</th>\n",
              "      <td>799</td>\n",
              "      <td>Guzzlord</td>\n",
              "      <td>101</td>\n",
              "      <td>53</td>\n",
              "      <td>5.5</td>\n",
              "      <td>223</td>\n",
              "      <td>NaN</td>\n",
              "      <td>97</td>\n",
              "      <td>53</td>\n",
              "      <td>43</td>\n",
              "      <td>dark</td>\n",
              "      <td>888.0</td>\n",
              "      <td>7</td>\n",
              "      <td>1</td>\n",
              "    </tr>\n",
              "    <tr>\n",
              "      <th>799</th>\n",
              "      <td>800</td>\n",
              "      <td>Necrozma</td>\n",
              "      <td>107</td>\n",
              "      <td>101</td>\n",
              "      <td>2.4</td>\n",
              "      <td>97</td>\n",
              "      <td>NaN</td>\n",
              "      <td>127</td>\n",
              "      <td>89</td>\n",
              "      <td>79</td>\n",
              "      <td>psychic</td>\n",
              "      <td>230.0</td>\n",
              "      <td>7</td>\n",
              "      <td>1</td>\n",
              "    </tr>\n",
              "    <tr>\n",
              "      <th>800</th>\n",
              "      <td>801</td>\n",
              "      <td>Magearna</td>\n",
              "      <td>95</td>\n",
              "      <td>115</td>\n",
              "      <td>1.0</td>\n",
              "      <td>80</td>\n",
              "      <td>NaN</td>\n",
              "      <td>130</td>\n",
              "      <td>115</td>\n",
              "      <td>65</td>\n",
              "      <td>steel</td>\n",
              "      <td>80.5</td>\n",
              "      <td>7</td>\n",
              "      <td>1</td>\n",
              "    </tr>\n",
              "  </tbody>\n",
              "</table>\n",
              "</div>\n",
              "      <button class=\"colab-df-convert\" onclick=\"convertToInteractive('df-5d41a560-898a-4f2e-aafa-70b92b5b1c03')\"\n",
              "              title=\"Convert this dataframe to an interactive table.\"\n",
              "              style=\"display:none;\">\n",
              "        \n",
              "  <svg xmlns=\"http://www.w3.org/2000/svg\" height=\"24px\"viewBox=\"0 0 24 24\"\n",
              "       width=\"24px\">\n",
              "    <path d=\"M0 0h24v24H0V0z\" fill=\"none\"/>\n",
              "    <path d=\"M18.56 5.44l.94 2.06.94-2.06 2.06-.94-2.06-.94-.94-2.06-.94 2.06-2.06.94zm-11 1L8.5 8.5l.94-2.06 2.06-.94-2.06-.94L8.5 2.5l-.94 2.06-2.06.94zm10 10l.94 2.06.94-2.06 2.06-.94-2.06-.94-.94-2.06-.94 2.06-2.06.94z\"/><path d=\"M17.41 7.96l-1.37-1.37c-.4-.4-.92-.59-1.43-.59-.52 0-1.04.2-1.43.59L10.3 9.45l-7.72 7.72c-.78.78-.78 2.05 0 2.83L4 21.41c.39.39.9.59 1.41.59.51 0 1.02-.2 1.41-.59l7.78-7.78 2.81-2.81c.8-.78.8-2.07 0-2.86zM5.41 20L4 18.59l7.72-7.72 1.47 1.35L5.41 20z\"/>\n",
              "  </svg>\n",
              "      </button>\n",
              "      \n",
              "  <style>\n",
              "    .colab-df-container {\n",
              "      display:flex;\n",
              "      flex-wrap:wrap;\n",
              "      gap: 12px;\n",
              "    }\n",
              "\n",
              "    .colab-df-convert {\n",
              "      background-color: #E8F0FE;\n",
              "      border: none;\n",
              "      border-radius: 50%;\n",
              "      cursor: pointer;\n",
              "      display: none;\n",
              "      fill: #1967D2;\n",
              "      height: 32px;\n",
              "      padding: 0 0 0 0;\n",
              "      width: 32px;\n",
              "    }\n",
              "\n",
              "    .colab-df-convert:hover {\n",
              "      background-color: #E2EBFA;\n",
              "      box-shadow: 0px 1px 2px rgba(60, 64, 67, 0.3), 0px 1px 3px 1px rgba(60, 64, 67, 0.15);\n",
              "      fill: #174EA6;\n",
              "    }\n",
              "\n",
              "    [theme=dark] .colab-df-convert {\n",
              "      background-color: #3B4455;\n",
              "      fill: #D2E3FC;\n",
              "    }\n",
              "\n",
              "    [theme=dark] .colab-df-convert:hover {\n",
              "      background-color: #434B5C;\n",
              "      box-shadow: 0px 1px 3px 1px rgba(0, 0, 0, 0.15);\n",
              "      filter: drop-shadow(0px 1px 2px rgba(0, 0, 0, 0.3));\n",
              "      fill: #FFFFFF;\n",
              "    }\n",
              "  </style>\n",
              "\n",
              "      <script>\n",
              "        const buttonEl =\n",
              "          document.querySelector('#df-5d41a560-898a-4f2e-aafa-70b92b5b1c03 button.colab-df-convert');\n",
              "        buttonEl.style.display =\n",
              "          google.colab.kernel.accessAllowed ? 'block' : 'none';\n",
              "\n",
              "        async function convertToInteractive(key) {\n",
              "          const element = document.querySelector('#df-5d41a560-898a-4f2e-aafa-70b92b5b1c03');\n",
              "          const dataTable =\n",
              "            await google.colab.kernel.invokeFunction('convertToInteractive',\n",
              "                                                     [key], {});\n",
              "          if (!dataTable) return;\n",
              "\n",
              "          const docLinkHtml = 'Like what you see? Visit the ' +\n",
              "            '<a target=\"_blank\" href=https://colab.research.google.com/notebooks/data_table.ipynb>data table notebook</a>'\n",
              "            + ' to learn more about interactive tables.';\n",
              "          element.innerHTML = '';\n",
              "          dataTable['output_type'] = 'display_data';\n",
              "          await google.colab.output.renderOutput(dataTable, element);\n",
              "          const docLink = document.createElement('div');\n",
              "          docLink.innerHTML = docLinkHtml;\n",
              "          element.appendChild(docLink);\n",
              "        }\n",
              "      </script>\n",
              "    </div>\n",
              "  </div>\n",
              "  "
            ]
          },
          "metadata": {},
          "execution_count": 9
        }
      ]
    },
    {
      "cell_type": "code",
      "source": [
        "pokemon.tail(10)"
      ],
      "metadata": {
        "colab": {
          "base_uri": "https://localhost:8080/",
          "height": 444
        },
        "id": "wPwkEfiNp1nk",
        "outputId": "bd790471-56bf-4f93-affa-d070f51860b7"
      },
      "execution_count": 10,
      "outputs": [
        {
          "output_type": "execute_result",
          "data": {
            "text/plain": [
              "     Unnamed: 0  pokedex_number        name  attack  defense  height_m   hp  \\\n",
              "791         791             792      Lunala     113       89       4.0  137   \n",
              "792         792             793    Nihilego      53       47       1.2  109   \n",
              "793         793             794    Buzzwole     139      139       2.4  107   \n",
              "794         794             795   Pheromosa     137       37       1.8   71   \n",
              "795         795             796   Xurkitree      89       71       3.8   83   \n",
              "796         796             797  Celesteela     101      103       9.2   97   \n",
              "797         797             798     Kartana     181      131       0.3   59   \n",
              "798         798             799    Guzzlord     101       53       5.5  223   \n",
              "799         799             800    Necrozma     107      101       2.4   97   \n",
              "800         800             801    Magearna      95      115       1.0   80   \n",
              "\n",
              "     sp_attack  sp_defense  speed  weight_kg  Friccion  sp_attackdef  \\\n",
              "791        137         107     97      120.0     12.40        149.40   \n",
              "792        127         131    103       55.5      5.67        132.67   \n",
              "793         53          53     79      333.6     33.60         86.60   \n",
              "794        137          37    151       25.0      2.68        139.68   \n",
              "795        173          71     83      100.0     10.38        183.38   \n",
              "796        107         101     61      999.9    100.91        207.91   \n",
              "797         59          31    109        0.1      0.04         59.04   \n",
              "798         97          53     43      888.0     89.35        186.35   \n",
              "799        127          89     79      230.0     23.24        150.24   \n",
              "800        130         115     65       80.5      8.15        138.15   \n",
              "\n",
              "     sp_defensedef  speeddef  PoderPuchamon  is_legendary  \n",
              "791         119.40    109.40        146.950             1  \n",
              "792         136.67    108.67        114.385             1  \n",
              "793          86.60    112.60        144.750             1  \n",
              "794          39.68    153.68        118.890             1  \n",
              "795          81.38     93.38        119.140             1  \n",
              "796         201.91    161.91        169.105             1  \n",
              "797          31.04    109.04        128.070             1  \n",
              "798         142.35    132.35        170.025             1  \n",
              "799         112.24    102.24        136.070             1  \n",
              "800         123.15     73.15        126.325             1  "
            ],
            "text/html": [
              "\n",
              "  <div id=\"df-77e1e6fc-3c4d-40b2-9d9f-06584c3d4ff3\">\n",
              "    <div class=\"colab-df-container\">\n",
              "      <div>\n",
              "<style scoped>\n",
              "    .dataframe tbody tr th:only-of-type {\n",
              "        vertical-align: middle;\n",
              "    }\n",
              "\n",
              "    .dataframe tbody tr th {\n",
              "        vertical-align: top;\n",
              "    }\n",
              "\n",
              "    .dataframe thead th {\n",
              "        text-align: right;\n",
              "    }\n",
              "</style>\n",
              "<table border=\"1\" class=\"dataframe\">\n",
              "  <thead>\n",
              "    <tr style=\"text-align: right;\">\n",
              "      <th></th>\n",
              "      <th>Unnamed: 0</th>\n",
              "      <th>pokedex_number</th>\n",
              "      <th>name</th>\n",
              "      <th>attack</th>\n",
              "      <th>defense</th>\n",
              "      <th>height_m</th>\n",
              "      <th>hp</th>\n",
              "      <th>sp_attack</th>\n",
              "      <th>sp_defense</th>\n",
              "      <th>speed</th>\n",
              "      <th>weight_kg</th>\n",
              "      <th>Friccion</th>\n",
              "      <th>sp_attackdef</th>\n",
              "      <th>sp_defensedef</th>\n",
              "      <th>speeddef</th>\n",
              "      <th>PoderPuchamon</th>\n",
              "      <th>is_legendary</th>\n",
              "    </tr>\n",
              "  </thead>\n",
              "  <tbody>\n",
              "    <tr>\n",
              "      <th>791</th>\n",
              "      <td>791</td>\n",
              "      <td>792</td>\n",
              "      <td>Lunala</td>\n",
              "      <td>113</td>\n",
              "      <td>89</td>\n",
              "      <td>4.0</td>\n",
              "      <td>137</td>\n",
              "      <td>137</td>\n",
              "      <td>107</td>\n",
              "      <td>97</td>\n",
              "      <td>120.0</td>\n",
              "      <td>12.40</td>\n",
              "      <td>149.40</td>\n",
              "      <td>119.40</td>\n",
              "      <td>109.40</td>\n",
              "      <td>146.950</td>\n",
              "      <td>1</td>\n",
              "    </tr>\n",
              "    <tr>\n",
              "      <th>792</th>\n",
              "      <td>792</td>\n",
              "      <td>793</td>\n",
              "      <td>Nihilego</td>\n",
              "      <td>53</td>\n",
              "      <td>47</td>\n",
              "      <td>1.2</td>\n",
              "      <td>109</td>\n",
              "      <td>127</td>\n",
              "      <td>131</td>\n",
              "      <td>103</td>\n",
              "      <td>55.5</td>\n",
              "      <td>5.67</td>\n",
              "      <td>132.67</td>\n",
              "      <td>136.67</td>\n",
              "      <td>108.67</td>\n",
              "      <td>114.385</td>\n",
              "      <td>1</td>\n",
              "    </tr>\n",
              "    <tr>\n",
              "      <th>793</th>\n",
              "      <td>793</td>\n",
              "      <td>794</td>\n",
              "      <td>Buzzwole</td>\n",
              "      <td>139</td>\n",
              "      <td>139</td>\n",
              "      <td>2.4</td>\n",
              "      <td>107</td>\n",
              "      <td>53</td>\n",
              "      <td>53</td>\n",
              "      <td>79</td>\n",
              "      <td>333.6</td>\n",
              "      <td>33.60</td>\n",
              "      <td>86.60</td>\n",
              "      <td>86.60</td>\n",
              "      <td>112.60</td>\n",
              "      <td>144.750</td>\n",
              "      <td>1</td>\n",
              "    </tr>\n",
              "    <tr>\n",
              "      <th>794</th>\n",
              "      <td>794</td>\n",
              "      <td>795</td>\n",
              "      <td>Pheromosa</td>\n",
              "      <td>137</td>\n",
              "      <td>37</td>\n",
              "      <td>1.8</td>\n",
              "      <td>71</td>\n",
              "      <td>137</td>\n",
              "      <td>37</td>\n",
              "      <td>151</td>\n",
              "      <td>25.0</td>\n",
              "      <td>2.68</td>\n",
              "      <td>139.68</td>\n",
              "      <td>39.68</td>\n",
              "      <td>153.68</td>\n",
              "      <td>118.890</td>\n",
              "      <td>1</td>\n",
              "    </tr>\n",
              "    <tr>\n",
              "      <th>795</th>\n",
              "      <td>795</td>\n",
              "      <td>796</td>\n",
              "      <td>Xurkitree</td>\n",
              "      <td>89</td>\n",
              "      <td>71</td>\n",
              "      <td>3.8</td>\n",
              "      <td>83</td>\n",
              "      <td>173</td>\n",
              "      <td>71</td>\n",
              "      <td>83</td>\n",
              "      <td>100.0</td>\n",
              "      <td>10.38</td>\n",
              "      <td>183.38</td>\n",
              "      <td>81.38</td>\n",
              "      <td>93.38</td>\n",
              "      <td>119.140</td>\n",
              "      <td>1</td>\n",
              "    </tr>\n",
              "    <tr>\n",
              "      <th>796</th>\n",
              "      <td>796</td>\n",
              "      <td>797</td>\n",
              "      <td>Celesteela</td>\n",
              "      <td>101</td>\n",
              "      <td>103</td>\n",
              "      <td>9.2</td>\n",
              "      <td>97</td>\n",
              "      <td>107</td>\n",
              "      <td>101</td>\n",
              "      <td>61</td>\n",
              "      <td>999.9</td>\n",
              "      <td>100.91</td>\n",
              "      <td>207.91</td>\n",
              "      <td>201.91</td>\n",
              "      <td>161.91</td>\n",
              "      <td>169.105</td>\n",
              "      <td>1</td>\n",
              "    </tr>\n",
              "    <tr>\n",
              "      <th>797</th>\n",
              "      <td>797</td>\n",
              "      <td>798</td>\n",
              "      <td>Kartana</td>\n",
              "      <td>181</td>\n",
              "      <td>131</td>\n",
              "      <td>0.3</td>\n",
              "      <td>59</td>\n",
              "      <td>59</td>\n",
              "      <td>31</td>\n",
              "      <td>109</td>\n",
              "      <td>0.1</td>\n",
              "      <td>0.04</td>\n",
              "      <td>59.04</td>\n",
              "      <td>31.04</td>\n",
              "      <td>109.04</td>\n",
              "      <td>128.070</td>\n",
              "      <td>1</td>\n",
              "    </tr>\n",
              "    <tr>\n",
              "      <th>798</th>\n",
              "      <td>798</td>\n",
              "      <td>799</td>\n",
              "      <td>Guzzlord</td>\n",
              "      <td>101</td>\n",
              "      <td>53</td>\n",
              "      <td>5.5</td>\n",
              "      <td>223</td>\n",
              "      <td>97</td>\n",
              "      <td>53</td>\n",
              "      <td>43</td>\n",
              "      <td>888.0</td>\n",
              "      <td>89.35</td>\n",
              "      <td>186.35</td>\n",
              "      <td>142.35</td>\n",
              "      <td>132.35</td>\n",
              "      <td>170.025</td>\n",
              "      <td>1</td>\n",
              "    </tr>\n",
              "    <tr>\n",
              "      <th>799</th>\n",
              "      <td>799</td>\n",
              "      <td>800</td>\n",
              "      <td>Necrozma</td>\n",
              "      <td>107</td>\n",
              "      <td>101</td>\n",
              "      <td>2.4</td>\n",
              "      <td>97</td>\n",
              "      <td>127</td>\n",
              "      <td>89</td>\n",
              "      <td>79</td>\n",
              "      <td>230.0</td>\n",
              "      <td>23.24</td>\n",
              "      <td>150.24</td>\n",
              "      <td>112.24</td>\n",
              "      <td>102.24</td>\n",
              "      <td>136.070</td>\n",
              "      <td>1</td>\n",
              "    </tr>\n",
              "    <tr>\n",
              "      <th>800</th>\n",
              "      <td>800</td>\n",
              "      <td>801</td>\n",
              "      <td>Magearna</td>\n",
              "      <td>95</td>\n",
              "      <td>115</td>\n",
              "      <td>1.0</td>\n",
              "      <td>80</td>\n",
              "      <td>130</td>\n",
              "      <td>115</td>\n",
              "      <td>65</td>\n",
              "      <td>80.5</td>\n",
              "      <td>8.15</td>\n",
              "      <td>138.15</td>\n",
              "      <td>123.15</td>\n",
              "      <td>73.15</td>\n",
              "      <td>126.325</td>\n",
              "      <td>1</td>\n",
              "    </tr>\n",
              "  </tbody>\n",
              "</table>\n",
              "</div>\n",
              "      <button class=\"colab-df-convert\" onclick=\"convertToInteractive('df-77e1e6fc-3c4d-40b2-9d9f-06584c3d4ff3')\"\n",
              "              title=\"Convert this dataframe to an interactive table.\"\n",
              "              style=\"display:none;\">\n",
              "        \n",
              "  <svg xmlns=\"http://www.w3.org/2000/svg\" height=\"24px\"viewBox=\"0 0 24 24\"\n",
              "       width=\"24px\">\n",
              "    <path d=\"M0 0h24v24H0V0z\" fill=\"none\"/>\n",
              "    <path d=\"M18.56 5.44l.94 2.06.94-2.06 2.06-.94-2.06-.94-.94-2.06-.94 2.06-2.06.94zm-11 1L8.5 8.5l.94-2.06 2.06-.94-2.06-.94L8.5 2.5l-.94 2.06-2.06.94zm10 10l.94 2.06.94-2.06 2.06-.94-2.06-.94-.94-2.06-.94 2.06-2.06.94z\"/><path d=\"M17.41 7.96l-1.37-1.37c-.4-.4-.92-.59-1.43-.59-.52 0-1.04.2-1.43.59L10.3 9.45l-7.72 7.72c-.78.78-.78 2.05 0 2.83L4 21.41c.39.39.9.59 1.41.59.51 0 1.02-.2 1.41-.59l7.78-7.78 2.81-2.81c.8-.78.8-2.07 0-2.86zM5.41 20L4 18.59l7.72-7.72 1.47 1.35L5.41 20z\"/>\n",
              "  </svg>\n",
              "      </button>\n",
              "      \n",
              "  <style>\n",
              "    .colab-df-container {\n",
              "      display:flex;\n",
              "      flex-wrap:wrap;\n",
              "      gap: 12px;\n",
              "    }\n",
              "\n",
              "    .colab-df-convert {\n",
              "      background-color: #E8F0FE;\n",
              "      border: none;\n",
              "      border-radius: 50%;\n",
              "      cursor: pointer;\n",
              "      display: none;\n",
              "      fill: #1967D2;\n",
              "      height: 32px;\n",
              "      padding: 0 0 0 0;\n",
              "      width: 32px;\n",
              "    }\n",
              "\n",
              "    .colab-df-convert:hover {\n",
              "      background-color: #E2EBFA;\n",
              "      box-shadow: 0px 1px 2px rgba(60, 64, 67, 0.3), 0px 1px 3px 1px rgba(60, 64, 67, 0.15);\n",
              "      fill: #174EA6;\n",
              "    }\n",
              "\n",
              "    [theme=dark] .colab-df-convert {\n",
              "      background-color: #3B4455;\n",
              "      fill: #D2E3FC;\n",
              "    }\n",
              "\n",
              "    [theme=dark] .colab-df-convert:hover {\n",
              "      background-color: #434B5C;\n",
              "      box-shadow: 0px 1px 3px 1px rgba(0, 0, 0, 0.15);\n",
              "      filter: drop-shadow(0px 1px 2px rgba(0, 0, 0, 0.3));\n",
              "      fill: #FFFFFF;\n",
              "    }\n",
              "  </style>\n",
              "\n",
              "      <script>\n",
              "        const buttonEl =\n",
              "          document.querySelector('#df-77e1e6fc-3c4d-40b2-9d9f-06584c3d4ff3 button.colab-df-convert');\n",
              "        buttonEl.style.display =\n",
              "          google.colab.kernel.accessAllowed ? 'block' : 'none';\n",
              "\n",
              "        async function convertToInteractive(key) {\n",
              "          const element = document.querySelector('#df-77e1e6fc-3c4d-40b2-9d9f-06584c3d4ff3');\n",
              "          const dataTable =\n",
              "            await google.colab.kernel.invokeFunction('convertToInteractive',\n",
              "                                                     [key], {});\n",
              "          if (!dataTable) return;\n",
              "\n",
              "          const docLinkHtml = 'Like what you see? Visit the ' +\n",
              "            '<a target=\"_blank\" href=https://colab.research.google.com/notebooks/data_table.ipynb>data table notebook</a>'\n",
              "            + ' to learn more about interactive tables.';\n",
              "          element.innerHTML = '';\n",
              "          dataTable['output_type'] = 'display_data';\n",
              "          await google.colab.output.renderOutput(dataTable, element);\n",
              "          const docLink = document.createElement('div');\n",
              "          docLink.innerHTML = docLinkHtml;\n",
              "          element.appendChild(docLink);\n",
              "        }\n",
              "      </script>\n",
              "    </div>\n",
              "  </div>\n",
              "  "
            ]
          },
          "metadata": {},
          "execution_count": 10
        }
      ]
    },
    {
      "cell_type": "markdown",
      "metadata": {
        "id": "xqzI9UYB_bv9"
      },
      "source": [
        "## Respuesta 3:"
      ]
    },
    {
      "cell_type": "markdown",
      "metadata": {
        "id": "Lh7sxkKp_bv9"
      },
      "source": [
        "Aunque se imprimen 10 columnas, la primera columna corresponde a los índices de las filas. Por lo tanto, en realidad hay 9 columnas que corresponden a 9 atributos y una columna de índice."
      ]
    },
    {
      "cell_type": "code",
      "execution_count": 11,
      "metadata": {
        "id": "NkQH19sL374S",
        "outputId": "1e43a90e-c478-41e2-d221-233802a99cdf",
        "colab": {
          "base_uri": "https://localhost:8080/"
        }
      },
      "outputs": [
        {
          "output_type": "stream",
          "name": "stdout",
          "text": [
            "<class 'pandas.core.frame.DataFrame'>\n",
            "RangeIndex: 801 entries, 0 to 800\n",
            "Columns: 14 entries, pokedex_number to is_legendary\n",
            "dtypes: float64(3), int64(9), object(2)\n",
            "memory usage: 87.7+ KB\n"
          ]
        }
      ],
      "source": [
        "# el método info() cuenta las columnas (atributos) en el conjunto de datos\n",
        "pokedex.info(verbose = False)"
      ]
    },
    {
      "cell_type": "code",
      "source": [
        "pokemon.info(verbose = False)"
      ],
      "metadata": {
        "id": "0nfCYXRhC3EZ",
        "outputId": "be28572e-f58d-4897-cc3d-d74226c852fb",
        "colab": {
          "base_uri": "https://localhost:8080/"
        }
      },
      "execution_count": 12,
      "outputs": [
        {
          "output_type": "stream",
          "name": "stdout",
          "text": [
            "<class 'pandas.core.frame.DataFrame'>\n",
            "RangeIndex: 801 entries, 0 to 800\n",
            "Columns: 17 entries, Unnamed: 0 to is_legendary\n",
            "dtypes: float64(7), int64(9), object(1)\n",
            "memory usage: 106.5+ KB\n"
          ]
        }
      ]
    },
    {
      "cell_type": "markdown",
      "metadata": {
        "id": "xDnQFTsR_bv9"
      },
      "source": [
        "## P4. Mostrar los primeros 10 registros del conjunto de datos."
      ]
    },
    {
      "cell_type": "code",
      "execution_count": 13,
      "metadata": {
        "id": "fhOmMaSn_bv-",
        "outputId": "662d84fa-f857-4bec-86d8-cf5fcb119b96",
        "colab": {
          "base_uri": "https://localhost:8080/",
          "height": 363
        }
      },
      "outputs": [
        {
          "output_type": "execute_result",
          "data": {
            "text/plain": [
              "   pokedex_number        name  attack  defense  height_m  hp  percentage_male  \\\n",
              "0               1   Bulbasaur      49       49       0.7  45             88.1   \n",
              "1               2     Ivysaur      62       63       1.0  60             88.1   \n",
              "2               3    Venusaur     100      123       2.0  80             88.1   \n",
              "3               4  Charmander      52       43       0.6  39             88.1   \n",
              "4               5  Charmeleon      64       58       1.1  58             88.1   \n",
              "5               6   Charizard     104       78       1.7  78             88.1   \n",
              "6               7    Squirtle      48       65       0.5  44             88.1   \n",
              "7               8   Wartortle      63       80       1.0  59             88.1   \n",
              "8               9   Blastoise     103      120       1.6  79             88.1   \n",
              "9              10    Caterpie      30       35       0.3  45             50.0   \n",
              "\n",
              "   sp_attack  sp_defense  speed   type  weight_kg  generation  is_legendary  \n",
              "0         65          65     45  grass        6.9           1             0  \n",
              "1         80          80     60  grass       13.0           1             0  \n",
              "2        122         120     80  grass      100.0           1             0  \n",
              "3         60          50     65   fire        8.5           1             0  \n",
              "4         80          65     80   fire       19.0           1             0  \n",
              "5        159         115    100   fire       90.5           1             0  \n",
              "6         50          64     43  water        9.0           1             0  \n",
              "7         65          80     58  water       22.5           1             0  \n",
              "8        135         115     78  water       85.5           1             0  \n",
              "9         20          20     45    bug        2.9           1             0  "
            ],
            "text/html": [
              "\n",
              "  <div id=\"df-e74816be-d7bf-40e2-bfbb-7e59322512f1\">\n",
              "    <div class=\"colab-df-container\">\n",
              "      <div>\n",
              "<style scoped>\n",
              "    .dataframe tbody tr th:only-of-type {\n",
              "        vertical-align: middle;\n",
              "    }\n",
              "\n",
              "    .dataframe tbody tr th {\n",
              "        vertical-align: top;\n",
              "    }\n",
              "\n",
              "    .dataframe thead th {\n",
              "        text-align: right;\n",
              "    }\n",
              "</style>\n",
              "<table border=\"1\" class=\"dataframe\">\n",
              "  <thead>\n",
              "    <tr style=\"text-align: right;\">\n",
              "      <th></th>\n",
              "      <th>pokedex_number</th>\n",
              "      <th>name</th>\n",
              "      <th>attack</th>\n",
              "      <th>defense</th>\n",
              "      <th>height_m</th>\n",
              "      <th>hp</th>\n",
              "      <th>percentage_male</th>\n",
              "      <th>sp_attack</th>\n",
              "      <th>sp_defense</th>\n",
              "      <th>speed</th>\n",
              "      <th>type</th>\n",
              "      <th>weight_kg</th>\n",
              "      <th>generation</th>\n",
              "      <th>is_legendary</th>\n",
              "    </tr>\n",
              "  </thead>\n",
              "  <tbody>\n",
              "    <tr>\n",
              "      <th>0</th>\n",
              "      <td>1</td>\n",
              "      <td>Bulbasaur</td>\n",
              "      <td>49</td>\n",
              "      <td>49</td>\n",
              "      <td>0.7</td>\n",
              "      <td>45</td>\n",
              "      <td>88.1</td>\n",
              "      <td>65</td>\n",
              "      <td>65</td>\n",
              "      <td>45</td>\n",
              "      <td>grass</td>\n",
              "      <td>6.9</td>\n",
              "      <td>1</td>\n",
              "      <td>0</td>\n",
              "    </tr>\n",
              "    <tr>\n",
              "      <th>1</th>\n",
              "      <td>2</td>\n",
              "      <td>Ivysaur</td>\n",
              "      <td>62</td>\n",
              "      <td>63</td>\n",
              "      <td>1.0</td>\n",
              "      <td>60</td>\n",
              "      <td>88.1</td>\n",
              "      <td>80</td>\n",
              "      <td>80</td>\n",
              "      <td>60</td>\n",
              "      <td>grass</td>\n",
              "      <td>13.0</td>\n",
              "      <td>1</td>\n",
              "      <td>0</td>\n",
              "    </tr>\n",
              "    <tr>\n",
              "      <th>2</th>\n",
              "      <td>3</td>\n",
              "      <td>Venusaur</td>\n",
              "      <td>100</td>\n",
              "      <td>123</td>\n",
              "      <td>2.0</td>\n",
              "      <td>80</td>\n",
              "      <td>88.1</td>\n",
              "      <td>122</td>\n",
              "      <td>120</td>\n",
              "      <td>80</td>\n",
              "      <td>grass</td>\n",
              "      <td>100.0</td>\n",
              "      <td>1</td>\n",
              "      <td>0</td>\n",
              "    </tr>\n",
              "    <tr>\n",
              "      <th>3</th>\n",
              "      <td>4</td>\n",
              "      <td>Charmander</td>\n",
              "      <td>52</td>\n",
              "      <td>43</td>\n",
              "      <td>0.6</td>\n",
              "      <td>39</td>\n",
              "      <td>88.1</td>\n",
              "      <td>60</td>\n",
              "      <td>50</td>\n",
              "      <td>65</td>\n",
              "      <td>fire</td>\n",
              "      <td>8.5</td>\n",
              "      <td>1</td>\n",
              "      <td>0</td>\n",
              "    </tr>\n",
              "    <tr>\n",
              "      <th>4</th>\n",
              "      <td>5</td>\n",
              "      <td>Charmeleon</td>\n",
              "      <td>64</td>\n",
              "      <td>58</td>\n",
              "      <td>1.1</td>\n",
              "      <td>58</td>\n",
              "      <td>88.1</td>\n",
              "      <td>80</td>\n",
              "      <td>65</td>\n",
              "      <td>80</td>\n",
              "      <td>fire</td>\n",
              "      <td>19.0</td>\n",
              "      <td>1</td>\n",
              "      <td>0</td>\n",
              "    </tr>\n",
              "    <tr>\n",
              "      <th>5</th>\n",
              "      <td>6</td>\n",
              "      <td>Charizard</td>\n",
              "      <td>104</td>\n",
              "      <td>78</td>\n",
              "      <td>1.7</td>\n",
              "      <td>78</td>\n",
              "      <td>88.1</td>\n",
              "      <td>159</td>\n",
              "      <td>115</td>\n",
              "      <td>100</td>\n",
              "      <td>fire</td>\n",
              "      <td>90.5</td>\n",
              "      <td>1</td>\n",
              "      <td>0</td>\n",
              "    </tr>\n",
              "    <tr>\n",
              "      <th>6</th>\n",
              "      <td>7</td>\n",
              "      <td>Squirtle</td>\n",
              "      <td>48</td>\n",
              "      <td>65</td>\n",
              "      <td>0.5</td>\n",
              "      <td>44</td>\n",
              "      <td>88.1</td>\n",
              "      <td>50</td>\n",
              "      <td>64</td>\n",
              "      <td>43</td>\n",
              "      <td>water</td>\n",
              "      <td>9.0</td>\n",
              "      <td>1</td>\n",
              "      <td>0</td>\n",
              "    </tr>\n",
              "    <tr>\n",
              "      <th>7</th>\n",
              "      <td>8</td>\n",
              "      <td>Wartortle</td>\n",
              "      <td>63</td>\n",
              "      <td>80</td>\n",
              "      <td>1.0</td>\n",
              "      <td>59</td>\n",
              "      <td>88.1</td>\n",
              "      <td>65</td>\n",
              "      <td>80</td>\n",
              "      <td>58</td>\n",
              "      <td>water</td>\n",
              "      <td>22.5</td>\n",
              "      <td>1</td>\n",
              "      <td>0</td>\n",
              "    </tr>\n",
              "    <tr>\n",
              "      <th>8</th>\n",
              "      <td>9</td>\n",
              "      <td>Blastoise</td>\n",
              "      <td>103</td>\n",
              "      <td>120</td>\n",
              "      <td>1.6</td>\n",
              "      <td>79</td>\n",
              "      <td>88.1</td>\n",
              "      <td>135</td>\n",
              "      <td>115</td>\n",
              "      <td>78</td>\n",
              "      <td>water</td>\n",
              "      <td>85.5</td>\n",
              "      <td>1</td>\n",
              "      <td>0</td>\n",
              "    </tr>\n",
              "    <tr>\n",
              "      <th>9</th>\n",
              "      <td>10</td>\n",
              "      <td>Caterpie</td>\n",
              "      <td>30</td>\n",
              "      <td>35</td>\n",
              "      <td>0.3</td>\n",
              "      <td>45</td>\n",
              "      <td>50.0</td>\n",
              "      <td>20</td>\n",
              "      <td>20</td>\n",
              "      <td>45</td>\n",
              "      <td>bug</td>\n",
              "      <td>2.9</td>\n",
              "      <td>1</td>\n",
              "      <td>0</td>\n",
              "    </tr>\n",
              "  </tbody>\n",
              "</table>\n",
              "</div>\n",
              "      <button class=\"colab-df-convert\" onclick=\"convertToInteractive('df-e74816be-d7bf-40e2-bfbb-7e59322512f1')\"\n",
              "              title=\"Convert this dataframe to an interactive table.\"\n",
              "              style=\"display:none;\">\n",
              "        \n",
              "  <svg xmlns=\"http://www.w3.org/2000/svg\" height=\"24px\"viewBox=\"0 0 24 24\"\n",
              "       width=\"24px\">\n",
              "    <path d=\"M0 0h24v24H0V0z\" fill=\"none\"/>\n",
              "    <path d=\"M18.56 5.44l.94 2.06.94-2.06 2.06-.94-2.06-.94-.94-2.06-.94 2.06-2.06.94zm-11 1L8.5 8.5l.94-2.06 2.06-.94-2.06-.94L8.5 2.5l-.94 2.06-2.06.94zm10 10l.94 2.06.94-2.06 2.06-.94-2.06-.94-.94-2.06-.94 2.06-2.06.94z\"/><path d=\"M17.41 7.96l-1.37-1.37c-.4-.4-.92-.59-1.43-.59-.52 0-1.04.2-1.43.59L10.3 9.45l-7.72 7.72c-.78.78-.78 2.05 0 2.83L4 21.41c.39.39.9.59 1.41.59.51 0 1.02-.2 1.41-.59l7.78-7.78 2.81-2.81c.8-.78.8-2.07 0-2.86zM5.41 20L4 18.59l7.72-7.72 1.47 1.35L5.41 20z\"/>\n",
              "  </svg>\n",
              "      </button>\n",
              "      \n",
              "  <style>\n",
              "    .colab-df-container {\n",
              "      display:flex;\n",
              "      flex-wrap:wrap;\n",
              "      gap: 12px;\n",
              "    }\n",
              "\n",
              "    .colab-df-convert {\n",
              "      background-color: #E8F0FE;\n",
              "      border: none;\n",
              "      border-radius: 50%;\n",
              "      cursor: pointer;\n",
              "      display: none;\n",
              "      fill: #1967D2;\n",
              "      height: 32px;\n",
              "      padding: 0 0 0 0;\n",
              "      width: 32px;\n",
              "    }\n",
              "\n",
              "    .colab-df-convert:hover {\n",
              "      background-color: #E2EBFA;\n",
              "      box-shadow: 0px 1px 2px rgba(60, 64, 67, 0.3), 0px 1px 3px 1px rgba(60, 64, 67, 0.15);\n",
              "      fill: #174EA6;\n",
              "    }\n",
              "\n",
              "    [theme=dark] .colab-df-convert {\n",
              "      background-color: #3B4455;\n",
              "      fill: #D2E3FC;\n",
              "    }\n",
              "\n",
              "    [theme=dark] .colab-df-convert:hover {\n",
              "      background-color: #434B5C;\n",
              "      box-shadow: 0px 1px 3px 1px rgba(0, 0, 0, 0.15);\n",
              "      filter: drop-shadow(0px 1px 2px rgba(0, 0, 0, 0.3));\n",
              "      fill: #FFFFFF;\n",
              "    }\n",
              "  </style>\n",
              "\n",
              "      <script>\n",
              "        const buttonEl =\n",
              "          document.querySelector('#df-e74816be-d7bf-40e2-bfbb-7e59322512f1 button.colab-df-convert');\n",
              "        buttonEl.style.display =\n",
              "          google.colab.kernel.accessAllowed ? 'block' : 'none';\n",
              "\n",
              "        async function convertToInteractive(key) {\n",
              "          const element = document.querySelector('#df-e74816be-d7bf-40e2-bfbb-7e59322512f1');\n",
              "          const dataTable =\n",
              "            await google.colab.kernel.invokeFunction('convertToInteractive',\n",
              "                                                     [key], {});\n",
              "          if (!dataTable) return;\n",
              "\n",
              "          const docLinkHtml = 'Like what you see? Visit the ' +\n",
              "            '<a target=\"_blank\" href=https://colab.research.google.com/notebooks/data_table.ipynb>data table notebook</a>'\n",
              "            + ' to learn more about interactive tables.';\n",
              "          element.innerHTML = '';\n",
              "          dataTable['output_type'] = 'display_data';\n",
              "          await google.colab.output.renderOutput(dataTable, element);\n",
              "          const docLink = document.createElement('div');\n",
              "          docLink.innerHTML = docLinkHtml;\n",
              "          element.appendChild(docLink);\n",
              "        }\n",
              "      </script>\n",
              "    </div>\n",
              "  </div>\n",
              "  "
            ]
          },
          "metadata": {},
          "execution_count": 13
        }
      ],
      "source": [
        "#el método head(n) muestra las primeras n filas de un conjunto de datos.\n",
        "pokedex.head(10)"
      ]
    },
    {
      "cell_type": "code",
      "source": [
        "pokemon.head(10)"
      ],
      "metadata": {
        "id": "EBRFwF-uC8Ht",
        "outputId": "4e24df28-0453-4e08-fb9f-283b4af11677",
        "colab": {
          "base_uri": "https://localhost:8080/",
          "height": 444
        }
      },
      "execution_count": 14,
      "outputs": [
        {
          "output_type": "execute_result",
          "data": {
            "text/plain": [
              "   Unnamed: 0  pokedex_number        name  attack  defense  height_m  hp  \\\n",
              "0           0               1   Bulbasaur      49       49       0.7  45   \n",
              "1           1               2     Ivysaur      62       63       1.0  60   \n",
              "2           2               3    Venusaur     100      123       2.0  80   \n",
              "3           3               4  Charmander      52       43       0.6  39   \n",
              "4           4               5  Charmeleon      64       58       1.1  58   \n",
              "5           5               6   Charizard     104       78       1.7  78   \n",
              "6           6               7    Squirtle      48       65       0.5  44   \n",
              "7           7               8   Wartortle      63       80       1.0  59   \n",
              "8           8               9   Blastoise     103      120       1.6  79   \n",
              "9           9              10    Caterpie      30       35       0.3  45   \n",
              "\n",
              "   sp_attack  sp_defense  speed  weight_kg  Friccion  sp_attackdef  \\\n",
              "0         65          65     45        6.9      0.76         65.76   \n",
              "1         80          80     60       13.0      1.40         81.40   \n",
              "2        122         120     80      100.0     10.20        132.20   \n",
              "3         60          50     65        8.5      0.91         60.91   \n",
              "4         80          65     80       19.0      2.01         82.01   \n",
              "5        159         115    100       90.5      9.22        168.22   \n",
              "6         50          64     43        9.0      0.95         50.95   \n",
              "7         65          80     58       22.5      2.35         67.35   \n",
              "8        135         115     78       85.5      8.71        143.71   \n",
              "9         20          20     45        2.9      0.32         20.32   \n",
              "\n",
              "   sp_defensedef  speeddef  PoderPuchamon  is_legendary  \n",
              "0          65.76     45.76         64.630             0  \n",
              "1          81.40     61.40         82.950             0  \n",
              "2         130.20     90.20        133.150             0  \n",
              "3          50.91     65.91         63.455             0  \n",
              "4          67.01     82.01         83.755             0  \n",
              "5         124.22    109.22        130.710             0  \n",
              "6          64.95     43.95         65.425             0  \n",
              "7          82.35     60.35         85.025             0  \n",
              "8         123.71     86.71        132.955             0  \n",
              "9          20.32     45.32         42.660             0  "
            ],
            "text/html": [
              "\n",
              "  <div id=\"df-36480884-3229-4fa7-8ab5-034120863dd4\">\n",
              "    <div class=\"colab-df-container\">\n",
              "      <div>\n",
              "<style scoped>\n",
              "    .dataframe tbody tr th:only-of-type {\n",
              "        vertical-align: middle;\n",
              "    }\n",
              "\n",
              "    .dataframe tbody tr th {\n",
              "        vertical-align: top;\n",
              "    }\n",
              "\n",
              "    .dataframe thead th {\n",
              "        text-align: right;\n",
              "    }\n",
              "</style>\n",
              "<table border=\"1\" class=\"dataframe\">\n",
              "  <thead>\n",
              "    <tr style=\"text-align: right;\">\n",
              "      <th></th>\n",
              "      <th>Unnamed: 0</th>\n",
              "      <th>pokedex_number</th>\n",
              "      <th>name</th>\n",
              "      <th>attack</th>\n",
              "      <th>defense</th>\n",
              "      <th>height_m</th>\n",
              "      <th>hp</th>\n",
              "      <th>sp_attack</th>\n",
              "      <th>sp_defense</th>\n",
              "      <th>speed</th>\n",
              "      <th>weight_kg</th>\n",
              "      <th>Friccion</th>\n",
              "      <th>sp_attackdef</th>\n",
              "      <th>sp_defensedef</th>\n",
              "      <th>speeddef</th>\n",
              "      <th>PoderPuchamon</th>\n",
              "      <th>is_legendary</th>\n",
              "    </tr>\n",
              "  </thead>\n",
              "  <tbody>\n",
              "    <tr>\n",
              "      <th>0</th>\n",
              "      <td>0</td>\n",
              "      <td>1</td>\n",
              "      <td>Bulbasaur</td>\n",
              "      <td>49</td>\n",
              "      <td>49</td>\n",
              "      <td>0.7</td>\n",
              "      <td>45</td>\n",
              "      <td>65</td>\n",
              "      <td>65</td>\n",
              "      <td>45</td>\n",
              "      <td>6.9</td>\n",
              "      <td>0.76</td>\n",
              "      <td>65.76</td>\n",
              "      <td>65.76</td>\n",
              "      <td>45.76</td>\n",
              "      <td>64.630</td>\n",
              "      <td>0</td>\n",
              "    </tr>\n",
              "    <tr>\n",
              "      <th>1</th>\n",
              "      <td>1</td>\n",
              "      <td>2</td>\n",
              "      <td>Ivysaur</td>\n",
              "      <td>62</td>\n",
              "      <td>63</td>\n",
              "      <td>1.0</td>\n",
              "      <td>60</td>\n",
              "      <td>80</td>\n",
              "      <td>80</td>\n",
              "      <td>60</td>\n",
              "      <td>13.0</td>\n",
              "      <td>1.40</td>\n",
              "      <td>81.40</td>\n",
              "      <td>81.40</td>\n",
              "      <td>61.40</td>\n",
              "      <td>82.950</td>\n",
              "      <td>0</td>\n",
              "    </tr>\n",
              "    <tr>\n",
              "      <th>2</th>\n",
              "      <td>2</td>\n",
              "      <td>3</td>\n",
              "      <td>Venusaur</td>\n",
              "      <td>100</td>\n",
              "      <td>123</td>\n",
              "      <td>2.0</td>\n",
              "      <td>80</td>\n",
              "      <td>122</td>\n",
              "      <td>120</td>\n",
              "      <td>80</td>\n",
              "      <td>100.0</td>\n",
              "      <td>10.20</td>\n",
              "      <td>132.20</td>\n",
              "      <td>130.20</td>\n",
              "      <td>90.20</td>\n",
              "      <td>133.150</td>\n",
              "      <td>0</td>\n",
              "    </tr>\n",
              "    <tr>\n",
              "      <th>3</th>\n",
              "      <td>3</td>\n",
              "      <td>4</td>\n",
              "      <td>Charmander</td>\n",
              "      <td>52</td>\n",
              "      <td>43</td>\n",
              "      <td>0.6</td>\n",
              "      <td>39</td>\n",
              "      <td>60</td>\n",
              "      <td>50</td>\n",
              "      <td>65</td>\n",
              "      <td>8.5</td>\n",
              "      <td>0.91</td>\n",
              "      <td>60.91</td>\n",
              "      <td>50.91</td>\n",
              "      <td>65.91</td>\n",
              "      <td>63.455</td>\n",
              "      <td>0</td>\n",
              "    </tr>\n",
              "    <tr>\n",
              "      <th>4</th>\n",
              "      <td>4</td>\n",
              "      <td>5</td>\n",
              "      <td>Charmeleon</td>\n",
              "      <td>64</td>\n",
              "      <td>58</td>\n",
              "      <td>1.1</td>\n",
              "      <td>58</td>\n",
              "      <td>80</td>\n",
              "      <td>65</td>\n",
              "      <td>80</td>\n",
              "      <td>19.0</td>\n",
              "      <td>2.01</td>\n",
              "      <td>82.01</td>\n",
              "      <td>67.01</td>\n",
              "      <td>82.01</td>\n",
              "      <td>83.755</td>\n",
              "      <td>0</td>\n",
              "    </tr>\n",
              "    <tr>\n",
              "      <th>5</th>\n",
              "      <td>5</td>\n",
              "      <td>6</td>\n",
              "      <td>Charizard</td>\n",
              "      <td>104</td>\n",
              "      <td>78</td>\n",
              "      <td>1.7</td>\n",
              "      <td>78</td>\n",
              "      <td>159</td>\n",
              "      <td>115</td>\n",
              "      <td>100</td>\n",
              "      <td>90.5</td>\n",
              "      <td>9.22</td>\n",
              "      <td>168.22</td>\n",
              "      <td>124.22</td>\n",
              "      <td>109.22</td>\n",
              "      <td>130.710</td>\n",
              "      <td>0</td>\n",
              "    </tr>\n",
              "    <tr>\n",
              "      <th>6</th>\n",
              "      <td>6</td>\n",
              "      <td>7</td>\n",
              "      <td>Squirtle</td>\n",
              "      <td>48</td>\n",
              "      <td>65</td>\n",
              "      <td>0.5</td>\n",
              "      <td>44</td>\n",
              "      <td>50</td>\n",
              "      <td>64</td>\n",
              "      <td>43</td>\n",
              "      <td>9.0</td>\n",
              "      <td>0.95</td>\n",
              "      <td>50.95</td>\n",
              "      <td>64.95</td>\n",
              "      <td>43.95</td>\n",
              "      <td>65.425</td>\n",
              "      <td>0</td>\n",
              "    </tr>\n",
              "    <tr>\n",
              "      <th>7</th>\n",
              "      <td>7</td>\n",
              "      <td>8</td>\n",
              "      <td>Wartortle</td>\n",
              "      <td>63</td>\n",
              "      <td>80</td>\n",
              "      <td>1.0</td>\n",
              "      <td>59</td>\n",
              "      <td>65</td>\n",
              "      <td>80</td>\n",
              "      <td>58</td>\n",
              "      <td>22.5</td>\n",
              "      <td>2.35</td>\n",
              "      <td>67.35</td>\n",
              "      <td>82.35</td>\n",
              "      <td>60.35</td>\n",
              "      <td>85.025</td>\n",
              "      <td>0</td>\n",
              "    </tr>\n",
              "    <tr>\n",
              "      <th>8</th>\n",
              "      <td>8</td>\n",
              "      <td>9</td>\n",
              "      <td>Blastoise</td>\n",
              "      <td>103</td>\n",
              "      <td>120</td>\n",
              "      <td>1.6</td>\n",
              "      <td>79</td>\n",
              "      <td>135</td>\n",
              "      <td>115</td>\n",
              "      <td>78</td>\n",
              "      <td>85.5</td>\n",
              "      <td>8.71</td>\n",
              "      <td>143.71</td>\n",
              "      <td>123.71</td>\n",
              "      <td>86.71</td>\n",
              "      <td>132.955</td>\n",
              "      <td>0</td>\n",
              "    </tr>\n",
              "    <tr>\n",
              "      <th>9</th>\n",
              "      <td>9</td>\n",
              "      <td>10</td>\n",
              "      <td>Caterpie</td>\n",
              "      <td>30</td>\n",
              "      <td>35</td>\n",
              "      <td>0.3</td>\n",
              "      <td>45</td>\n",
              "      <td>20</td>\n",
              "      <td>20</td>\n",
              "      <td>45</td>\n",
              "      <td>2.9</td>\n",
              "      <td>0.32</td>\n",
              "      <td>20.32</td>\n",
              "      <td>20.32</td>\n",
              "      <td>45.32</td>\n",
              "      <td>42.660</td>\n",
              "      <td>0</td>\n",
              "    </tr>\n",
              "  </tbody>\n",
              "</table>\n",
              "</div>\n",
              "      <button class=\"colab-df-convert\" onclick=\"convertToInteractive('df-36480884-3229-4fa7-8ab5-034120863dd4')\"\n",
              "              title=\"Convert this dataframe to an interactive table.\"\n",
              "              style=\"display:none;\">\n",
              "        \n",
              "  <svg xmlns=\"http://www.w3.org/2000/svg\" height=\"24px\"viewBox=\"0 0 24 24\"\n",
              "       width=\"24px\">\n",
              "    <path d=\"M0 0h24v24H0V0z\" fill=\"none\"/>\n",
              "    <path d=\"M18.56 5.44l.94 2.06.94-2.06 2.06-.94-2.06-.94-.94-2.06-.94 2.06-2.06.94zm-11 1L8.5 8.5l.94-2.06 2.06-.94-2.06-.94L8.5 2.5l-.94 2.06-2.06.94zm10 10l.94 2.06.94-2.06 2.06-.94-2.06-.94-.94-2.06-.94 2.06-2.06.94z\"/><path d=\"M17.41 7.96l-1.37-1.37c-.4-.4-.92-.59-1.43-.59-.52 0-1.04.2-1.43.59L10.3 9.45l-7.72 7.72c-.78.78-.78 2.05 0 2.83L4 21.41c.39.39.9.59 1.41.59.51 0 1.02-.2 1.41-.59l7.78-7.78 2.81-2.81c.8-.78.8-2.07 0-2.86zM5.41 20L4 18.59l7.72-7.72 1.47 1.35L5.41 20z\"/>\n",
              "  </svg>\n",
              "      </button>\n",
              "      \n",
              "  <style>\n",
              "    .colab-df-container {\n",
              "      display:flex;\n",
              "      flex-wrap:wrap;\n",
              "      gap: 12px;\n",
              "    }\n",
              "\n",
              "    .colab-df-convert {\n",
              "      background-color: #E8F0FE;\n",
              "      border: none;\n",
              "      border-radius: 50%;\n",
              "      cursor: pointer;\n",
              "      display: none;\n",
              "      fill: #1967D2;\n",
              "      height: 32px;\n",
              "      padding: 0 0 0 0;\n",
              "      width: 32px;\n",
              "    }\n",
              "\n",
              "    .colab-df-convert:hover {\n",
              "      background-color: #E2EBFA;\n",
              "      box-shadow: 0px 1px 2px rgba(60, 64, 67, 0.3), 0px 1px 3px 1px rgba(60, 64, 67, 0.15);\n",
              "      fill: #174EA6;\n",
              "    }\n",
              "\n",
              "    [theme=dark] .colab-df-convert {\n",
              "      background-color: #3B4455;\n",
              "      fill: #D2E3FC;\n",
              "    }\n",
              "\n",
              "    [theme=dark] .colab-df-convert:hover {\n",
              "      background-color: #434B5C;\n",
              "      box-shadow: 0px 1px 3px 1px rgba(0, 0, 0, 0.15);\n",
              "      filter: drop-shadow(0px 1px 2px rgba(0, 0, 0, 0.3));\n",
              "      fill: #FFFFFF;\n",
              "    }\n",
              "  </style>\n",
              "\n",
              "      <script>\n",
              "        const buttonEl =\n",
              "          document.querySelector('#df-36480884-3229-4fa7-8ab5-034120863dd4 button.colab-df-convert');\n",
              "        buttonEl.style.display =\n",
              "          google.colab.kernel.accessAllowed ? 'block' : 'none';\n",
              "\n",
              "        async function convertToInteractive(key) {\n",
              "          const element = document.querySelector('#df-36480884-3229-4fa7-8ab5-034120863dd4');\n",
              "          const dataTable =\n",
              "            await google.colab.kernel.invokeFunction('convertToInteractive',\n",
              "                                                     [key], {});\n",
              "          if (!dataTable) return;\n",
              "\n",
              "          const docLinkHtml = 'Like what you see? Visit the ' +\n",
              "            '<a target=\"_blank\" href=https://colab.research.google.com/notebooks/data_table.ipynb>data table notebook</a>'\n",
              "            + ' to learn more about interactive tables.';\n",
              "          element.innerHTML = '';\n",
              "          dataTable['output_type'] = 'display_data';\n",
              "          await google.colab.output.renderOutput(dataTable, element);\n",
              "          const docLink = document.createElement('div');\n",
              "          docLink.innerHTML = docLinkHtml;\n",
              "          element.appendChild(docLink);\n",
              "        }\n",
              "      </script>\n",
              "    </div>\n",
              "  </div>\n",
              "  "
            ]
          },
          "metadata": {},
          "execution_count": 14
        }
      ]
    },
    {
      "cell_type": "markdown",
      "metadata": {
        "id": "OzzsF3Pg_bv-"
      },
      "source": [
        "## P5. ¿Qué entiendes por la dimensión del conjunto de datos? Encuentre la dimensión del marco de datos `pokedex`."
      ]
    },
    {
      "cell_type": "code",
      "execution_count": 15,
      "metadata": {
        "id": "9QQGBlaw_bv-",
        "outputId": "a8bc638d-2fc0-4870-b71a-3931106699c9",
        "colab": {
          "base_uri": "https://localhost:8080/"
        }
      },
      "outputs": [
        {
          "output_type": "execute_result",
          "data": {
            "text/plain": [
              "2"
            ]
          },
          "metadata": {},
          "execution_count": 15
        }
      ],
      "source": [
        "#El atributo ndim del conjunto de datos devuelve su dimensión.\n",
        "pokedex.ndim"
      ]
    },
    {
      "cell_type": "code",
      "source": [
        "pokemon.ndim"
      ],
      "metadata": {
        "id": "P_ltGPUxDC9J",
        "outputId": "01911411-78e5-41bb-d113-7465a3fb31da",
        "colab": {
          "base_uri": "https://localhost:8080/"
        }
      },
      "execution_count": 16,
      "outputs": [
        {
          "output_type": "execute_result",
          "data": {
            "text/plain": [
              "2"
            ]
          },
          "metadata": {},
          "execution_count": 16
        }
      ]
    },
    {
      "cell_type": "markdown",
      "metadata": {
        "id": "WW0P9jMc_bv_"
      },
      "source": [
        "## Respuesta 5:\n",
        "\n",
        "La dimensión de una estructura de datos es el número de índices necesarios para acceder a un elemento de la estructura. El resultado pokedex.ndim=2 y pokemon.ndim=2 dice que un conjunto de datos (pokedex y pokemon en este caso) se comportan como una matriz bidimensional. La estructura en serie es un ejemplo de una matriz unidimensional (un vector)."
      ]
    },
    {
      "cell_type": "markdown",
      "metadata": {
        "id": "V5duvKqA_bv_"
      },
      "source": [
        "## P6. ¿Qué entiendes por el tamaño del conjunto de datos? Encuentre el tamaño del conjunto de datos `pokedex`."
      ]
    },
    {
      "cell_type": "code",
      "execution_count": 17,
      "metadata": {
        "id": "yX1yh0Bx_bv_",
        "outputId": "dade24fd-3b31-4c10-cff5-ac8933bc6f8e",
        "colab": {
          "base_uri": "https://localhost:8080/"
        }
      },
      "outputs": [
        {
          "output_type": "execute_result",
          "data": {
            "text/plain": [
              "11214"
            ]
          },
          "metadata": {},
          "execution_count": 17
        }
      ],
      "source": [
        "#El atributo size retorna el numero total del filas multiplicado por las columnas.\n",
        "pokedex.size"
      ]
    },
    {
      "cell_type": "code",
      "source": [
        "pokemon.size"
      ],
      "metadata": {
        "id": "udZ1ToRuDlNe",
        "outputId": "25ae1a16-6052-49cc-cdea-bc0417119c5e",
        "colab": {
          "base_uri": "https://localhost:8080/"
        }
      },
      "execution_count": 18,
      "outputs": [
        {
          "output_type": "execute_result",
          "data": {
            "text/plain": [
              "13617"
            ]
          },
          "metadata": {},
          "execution_count": 18
        }
      ]
    },
    {
      "cell_type": "markdown",
      "metadata": {
        "id": "zdtFn47Q_bwA"
      },
      "source": [
        "## Respuesta 6: \n",
        "\n",
        "El atributo de tamaño devuelve el número total de filas x columnas. Debido a que pokedex y pokemon son estructuras bidimensional, tiene una forma rectangular plana con alto y ancho. Es decir, filas y columnas. Para acceder al número de filas y columnas, se utiliza en su lugar el atributo `shape`. "
      ]
    },
    {
      "cell_type": "code",
      "execution_count": 19,
      "metadata": {
        "id": "q7fSmyr1374o",
        "outputId": "c84a2149-ee2e-40f1-dea2-11c9e4cf1d16",
        "colab": {
          "base_uri": "https://localhost:8080/"
        }
      },
      "outputs": [
        {
          "output_type": "execute_result",
          "data": {
            "text/plain": [
              "(801, 14)"
            ]
          },
          "metadata": {},
          "execution_count": 19
        }
      ],
      "source": [
        "pokedex.shape"
      ]
    },
    {
      "cell_type": "code",
      "source": [
        "pokemon.shape"
      ],
      "metadata": {
        "id": "aWdkG2MFDzWn",
        "outputId": "9d7c94a5-0375-4335-a1b0-2df27c746d45",
        "colab": {
          "base_uri": "https://localhost:8080/"
        }
      },
      "execution_count": 20,
      "outputs": [
        {
          "output_type": "execute_result",
          "data": {
            "text/plain": [
              "(801, 17)"
            ]
          },
          "metadata": {},
          "execution_count": 20
        }
      ]
    },
    {
      "cell_type": "markdown",
      "metadata": {
        "id": "DyG29Cqz_bwA"
      },
      "source": [
        "## P7. ¿Cuáles son los tipos de datos de todas las variables en el conjunto de datos?\n",
        "**Sugerencia: Utilice la función info() para obtener toda la información sobre el conjunto de datos.**"
      ]
    },
    {
      "cell_type": "code",
      "execution_count": 21,
      "metadata": {
        "id": "INEhm7-M_bwA",
        "outputId": "58a17c4c-a167-4f35-e54f-654a44054102",
        "colab": {
          "base_uri": "https://localhost:8080/"
        }
      },
      "outputs": [
        {
          "output_type": "stream",
          "name": "stdout",
          "text": [
            "<class 'pandas.core.frame.DataFrame'>\n",
            "RangeIndex: 801 entries, 0 to 800\n",
            "Data columns (total 14 columns):\n",
            " #   Column           Non-Null Count  Dtype  \n",
            "---  ------           --------------  -----  \n",
            " 0   pokedex_number   801 non-null    int64  \n",
            " 1   name             801 non-null    object \n",
            " 2   attack           801 non-null    int64  \n",
            " 3   defense          801 non-null    int64  \n",
            " 4   height_m         781 non-null    float64\n",
            " 5   hp               801 non-null    int64  \n",
            " 6   percentage_male  703 non-null    float64\n",
            " 7   sp_attack        801 non-null    int64  \n",
            " 8   sp_defense       801 non-null    int64  \n",
            " 9   speed            801 non-null    int64  \n",
            " 10  type             801 non-null    object \n",
            " 11  weight_kg        781 non-null    float64\n",
            " 12  generation       801 non-null    int64  \n",
            " 13  is_legendary     801 non-null    int64  \n",
            "dtypes: float64(3), int64(9), object(2)\n",
            "memory usage: 87.7+ KB\n"
          ]
        }
      ],
      "source": [
        "#El metodo info retorna la informacion del conjunto de datos.\n",
        "pokedex.info()"
      ]
    },
    {
      "cell_type": "code",
      "source": [
        "pokemon.info()"
      ],
      "metadata": {
        "colab": {
          "base_uri": "https://localhost:8080/"
        },
        "id": "r13MzcHqqA4b",
        "outputId": "e55c2307-27ec-40a9-e328-6a8983f38f9d"
      },
      "execution_count": 22,
      "outputs": [
        {
          "output_type": "stream",
          "name": "stdout",
          "text": [
            "<class 'pandas.core.frame.DataFrame'>\n",
            "RangeIndex: 801 entries, 0 to 800\n",
            "Data columns (total 17 columns):\n",
            " #   Column          Non-Null Count  Dtype  \n",
            "---  ------          --------------  -----  \n",
            " 0   Unnamed: 0      801 non-null    int64  \n",
            " 1   pokedex_number  801 non-null    int64  \n",
            " 2   name            801 non-null    object \n",
            " 3   attack          801 non-null    int64  \n",
            " 4   defense         801 non-null    int64  \n",
            " 5   height_m        801 non-null    float64\n",
            " 6   hp              801 non-null    int64  \n",
            " 7   sp_attack       801 non-null    int64  \n",
            " 8   sp_defense      801 non-null    int64  \n",
            " 9   speed           801 non-null    int64  \n",
            " 10  weight_kg       801 non-null    float64\n",
            " 11  Friccion        801 non-null    float64\n",
            " 12  sp_attackdef    801 non-null    float64\n",
            " 13  sp_defensedef   801 non-null    float64\n",
            " 14  speeddef        801 non-null    float64\n",
            " 15  PoderPuchamon   801 non-null    float64\n",
            " 16  is_legendary    801 non-null    int64  \n",
            "dtypes: float64(7), int64(9), object(1)\n",
            "memory usage: 106.5+ KB\n"
          ]
        }
      ]
    },
    {
      "cell_type": "markdown",
      "metadata": {
        "id": "RdARzto8_bwB"
      },
      "source": [
        "## Respuesta 7: \n",
        "\n",
        "Los siguientes atributos se almacenan como números enteros (int64):\n",
        "- Número Pokedex\n",
        "- Ataque\n",
        "- Defensa\n",
        "- Caballos de fuerza\n",
        "- Velocidad de ataque\n",
        "- Velocidad de defensa \n",
        "- Velocidad\n",
        "- Generación \n",
        "-Es legendario\n",
        "\n",
        "Sin embargo, la variable *Es legendario* debe interpretarse y analizarse como un atributo cualitativo asimétrico: 1 si el Pokémon es legendario, 0 si no lo es.\n",
        "\n",
        "Por otro lado, *Altura*, *PorcentajeMasculino* y *Peso* se almacenan como números de coma flotante (float64) y se interpretan como variables aleatorias continuas.\n",
        "\n",
        "Adicionalmente, *Nombre* y *Tipo* se almacenan como datos de tipo cadena (object)."
      ]
    },
    {
      "cell_type": "markdown",
      "metadata": {
        "id": "wHYJkmek_bwB"
      },
      "source": [
        "## P8. ¿Qué entendemos por valores perdidos? ¿Hay valores faltantes en el conjunto de datos `pokedex`?"
      ]
    },
    {
      "cell_type": "code",
      "execution_count": 23,
      "metadata": {
        "id": "OiThIwyD_bwB",
        "colab": {
          "base_uri": "https://localhost:8080/"
        },
        "outputId": "cca98365-ea3e-47fb-935d-b5a257244dfd"
      },
      "outputs": [
        {
          "output_type": "execute_result",
          "data": {
            "text/plain": [
              "True"
            ]
          },
          "metadata": {},
          "execution_count": 23
        }
      ],
      "source": [
        "#el método isnull() prueba si cada elemento del conjunto de datos es un valor faltante.\n",
        "#el atributo de valores devuelve la representación de matriz numpy del conjunto de datos pokedex\n",
        "#el método any() prueba si alguno de los elementos de una matriz es Verdadero, si no, devuelve Falso\n",
        "pokedex.isnull().values.any()"
      ]
    },
    {
      "cell_type": "code",
      "source": [
        "pokemon.isnull().values.any()"
      ],
      "metadata": {
        "colab": {
          "base_uri": "https://localhost:8080/"
        },
        "id": "s-aYhYe7Ehlr",
        "outputId": "9bb4a3bf-c9b3-41e9-8361-0265060adc2d"
      },
      "execution_count": 24,
      "outputs": [
        {
          "output_type": "execute_result",
          "data": {
            "text/plain": [
              "False"
            ]
          },
          "metadata": {},
          "execution_count": 24
        }
      ]
    },
    {
      "cell_type": "markdown",
      "metadata": {
        "id": "b8D07NoL_bwC"
      },
      "source": [
        "## Respuesta 8:\n",
        "\n",
        "Los valores faltantes son datos faltantes debido a la falta de respuesta o recopilación de información. Si falta un valor, se almacena como \"no es un número (Numpy)\" `np.nan` en el conjunto de datos. El método `isnull()` prueba si cada elemento del conjunto de datos es un valor faltante y almacena True o False en cada celda del marco de datos. El atributo `valores` devuelve la versión de matriz numpy del marco de datos pima. Finalmente, el método `any ()` prueba si alguno de los elementos de la matriz numpy es verdadero. Si este es el caso, devuelve True, de lo contrario, devuelve False.\n",
        "\n",
        "Por lo tanto, no hay ningún valor perdido."
      ]
    },
    {
      "cell_type": "markdown",
      "metadata": {
        "id": "RmTpaojz_bwC"
      },
      "source": [
        "## P9. ¿Qué representan las estadísticas de resumen de los datos? Encuentre las estadísticas de resumen para todas las variables excepto 'Es legendario' en los datos de pokedex. Tome una columna/variable de la tabla de salida y explique todas sus medidas estadísticas."
      ]
    },
    {
      "cell_type": "code",
      "execution_count": 32,
      "metadata": {
        "id": "JuJBDhb-_bwC",
        "outputId": "e291e5cf-4bfe-4f29-c523-07d5ea03408e",
        "colab": {
          "base_uri": "https://localhost:8080/",
          "height": 382
        }
      },
      "outputs": [
        {
          "output_type": "execute_result",
          "data": {
            "text/plain": [
              "       Unnamed: 0  pokedex_number      attack     defense    height_m  \\\n",
              "count  801.000000      801.000000  801.000000  801.000000  801.000000   \n",
              "mean   400.000000      401.000000   77.857678   73.008739    1.154682   \n",
              "std    231.373075      231.373075   32.158820   30.769159    1.070820   \n",
              "min      0.000000        1.000000    5.000000    5.000000    0.100000   \n",
              "25%    200.000000      201.000000   55.000000   50.000000    0.500000   \n",
              "50%    400.000000      401.000000   75.000000   70.000000    1.000000   \n",
              "75%    600.000000      601.000000  100.000000   90.000000    1.500000   \n",
              "max    800.000000      801.000000  185.000000  230.000000   14.500000   \n",
              "\n",
              "               hp   sp_attack  sp_defense       speed   weight_kg    Friccion  \\\n",
              "count  801.000000  801.000000  801.000000  801.000000  801.000000  801.000000   \n",
              "mean    68.958801   71.305868   70.911361   66.334582   60.530587    6.168527   \n",
              "std     26.576015   32.353826   27.942501   28.907662  108.227832   10.890305   \n",
              "min      1.000000   10.000000   20.000000    5.000000    0.100000    0.020000   \n",
              "25%     50.000000   45.000000   50.000000   45.000000    8.800000    0.950000   \n",
              "50%     65.000000   65.000000   66.000000   65.000000   27.000000    2.820000   \n",
              "75%     80.000000   91.000000   90.000000   85.000000   62.000000    6.350000   \n",
              "max    255.000000  194.000000  230.000000  180.000000  999.900000  100.910000   \n",
              "\n",
              "       sp_attackdef  sp_defensedef    speeddef  PoderPuchamon  \n",
              "count    801.000000     801.000000  801.000000     801.000000  \n",
              "mean      77.474395      77.079888   72.503109      92.640069  \n",
              "std       36.558176      32.918218   31.370534      27.792529  \n",
              "min       10.800000      20.130000    5.150000      37.605000  \n",
              "25%       50.180000      52.050000   48.650000      68.515000  \n",
              "50%       70.710000      72.200000   68.280000      93.100000  \n",
              "75%       98.690000      96.200000   93.380000     110.400000  \n",
              "max      245.350000     232.110000  186.250000     211.675000  "
            ],
            "text/html": [
              "\n",
              "  <div id=\"df-2bc99c56-ff94-48e7-9499-50b0140b5d0c\">\n",
              "    <div class=\"colab-df-container\">\n",
              "      <div>\n",
              "<style scoped>\n",
              "    .dataframe tbody tr th:only-of-type {\n",
              "        vertical-align: middle;\n",
              "    }\n",
              "\n",
              "    .dataframe tbody tr th {\n",
              "        vertical-align: top;\n",
              "    }\n",
              "\n",
              "    .dataframe thead th {\n",
              "        text-align: right;\n",
              "    }\n",
              "</style>\n",
              "<table border=\"1\" class=\"dataframe\">\n",
              "  <thead>\n",
              "    <tr style=\"text-align: right;\">\n",
              "      <th></th>\n",
              "      <th>Unnamed: 0</th>\n",
              "      <th>pokedex_number</th>\n",
              "      <th>attack</th>\n",
              "      <th>defense</th>\n",
              "      <th>height_m</th>\n",
              "      <th>hp</th>\n",
              "      <th>sp_attack</th>\n",
              "      <th>sp_defense</th>\n",
              "      <th>speed</th>\n",
              "      <th>weight_kg</th>\n",
              "      <th>Friccion</th>\n",
              "      <th>sp_attackdef</th>\n",
              "      <th>sp_defensedef</th>\n",
              "      <th>speeddef</th>\n",
              "      <th>PoderPuchamon</th>\n",
              "    </tr>\n",
              "  </thead>\n",
              "  <tbody>\n",
              "    <tr>\n",
              "      <th>count</th>\n",
              "      <td>801.000000</td>\n",
              "      <td>801.000000</td>\n",
              "      <td>801.000000</td>\n",
              "      <td>801.000000</td>\n",
              "      <td>801.000000</td>\n",
              "      <td>801.000000</td>\n",
              "      <td>801.000000</td>\n",
              "      <td>801.000000</td>\n",
              "      <td>801.000000</td>\n",
              "      <td>801.000000</td>\n",
              "      <td>801.000000</td>\n",
              "      <td>801.000000</td>\n",
              "      <td>801.000000</td>\n",
              "      <td>801.000000</td>\n",
              "      <td>801.000000</td>\n",
              "    </tr>\n",
              "    <tr>\n",
              "      <th>mean</th>\n",
              "      <td>400.000000</td>\n",
              "      <td>401.000000</td>\n",
              "      <td>77.857678</td>\n",
              "      <td>73.008739</td>\n",
              "      <td>1.154682</td>\n",
              "      <td>68.958801</td>\n",
              "      <td>71.305868</td>\n",
              "      <td>70.911361</td>\n",
              "      <td>66.334582</td>\n",
              "      <td>60.530587</td>\n",
              "      <td>6.168527</td>\n",
              "      <td>77.474395</td>\n",
              "      <td>77.079888</td>\n",
              "      <td>72.503109</td>\n",
              "      <td>92.640069</td>\n",
              "    </tr>\n",
              "    <tr>\n",
              "      <th>std</th>\n",
              "      <td>231.373075</td>\n",
              "      <td>231.373075</td>\n",
              "      <td>32.158820</td>\n",
              "      <td>30.769159</td>\n",
              "      <td>1.070820</td>\n",
              "      <td>26.576015</td>\n",
              "      <td>32.353826</td>\n",
              "      <td>27.942501</td>\n",
              "      <td>28.907662</td>\n",
              "      <td>108.227832</td>\n",
              "      <td>10.890305</td>\n",
              "      <td>36.558176</td>\n",
              "      <td>32.918218</td>\n",
              "      <td>31.370534</td>\n",
              "      <td>27.792529</td>\n",
              "    </tr>\n",
              "    <tr>\n",
              "      <th>min</th>\n",
              "      <td>0.000000</td>\n",
              "      <td>1.000000</td>\n",
              "      <td>5.000000</td>\n",
              "      <td>5.000000</td>\n",
              "      <td>0.100000</td>\n",
              "      <td>1.000000</td>\n",
              "      <td>10.000000</td>\n",
              "      <td>20.000000</td>\n",
              "      <td>5.000000</td>\n",
              "      <td>0.100000</td>\n",
              "      <td>0.020000</td>\n",
              "      <td>10.800000</td>\n",
              "      <td>20.130000</td>\n",
              "      <td>5.150000</td>\n",
              "      <td>37.605000</td>\n",
              "    </tr>\n",
              "    <tr>\n",
              "      <th>25%</th>\n",
              "      <td>200.000000</td>\n",
              "      <td>201.000000</td>\n",
              "      <td>55.000000</td>\n",
              "      <td>50.000000</td>\n",
              "      <td>0.500000</td>\n",
              "      <td>50.000000</td>\n",
              "      <td>45.000000</td>\n",
              "      <td>50.000000</td>\n",
              "      <td>45.000000</td>\n",
              "      <td>8.800000</td>\n",
              "      <td>0.950000</td>\n",
              "      <td>50.180000</td>\n",
              "      <td>52.050000</td>\n",
              "      <td>48.650000</td>\n",
              "      <td>68.515000</td>\n",
              "    </tr>\n",
              "    <tr>\n",
              "      <th>50%</th>\n",
              "      <td>400.000000</td>\n",
              "      <td>401.000000</td>\n",
              "      <td>75.000000</td>\n",
              "      <td>70.000000</td>\n",
              "      <td>1.000000</td>\n",
              "      <td>65.000000</td>\n",
              "      <td>65.000000</td>\n",
              "      <td>66.000000</td>\n",
              "      <td>65.000000</td>\n",
              "      <td>27.000000</td>\n",
              "      <td>2.820000</td>\n",
              "      <td>70.710000</td>\n",
              "      <td>72.200000</td>\n",
              "      <td>68.280000</td>\n",
              "      <td>93.100000</td>\n",
              "    </tr>\n",
              "    <tr>\n",
              "      <th>75%</th>\n",
              "      <td>600.000000</td>\n",
              "      <td>601.000000</td>\n",
              "      <td>100.000000</td>\n",
              "      <td>90.000000</td>\n",
              "      <td>1.500000</td>\n",
              "      <td>80.000000</td>\n",
              "      <td>91.000000</td>\n",
              "      <td>90.000000</td>\n",
              "      <td>85.000000</td>\n",
              "      <td>62.000000</td>\n",
              "      <td>6.350000</td>\n",
              "      <td>98.690000</td>\n",
              "      <td>96.200000</td>\n",
              "      <td>93.380000</td>\n",
              "      <td>110.400000</td>\n",
              "    </tr>\n",
              "    <tr>\n",
              "      <th>max</th>\n",
              "      <td>800.000000</td>\n",
              "      <td>801.000000</td>\n",
              "      <td>185.000000</td>\n",
              "      <td>230.000000</td>\n",
              "      <td>14.500000</td>\n",
              "      <td>255.000000</td>\n",
              "      <td>194.000000</td>\n",
              "      <td>230.000000</td>\n",
              "      <td>180.000000</td>\n",
              "      <td>999.900000</td>\n",
              "      <td>100.910000</td>\n",
              "      <td>245.350000</td>\n",
              "      <td>232.110000</td>\n",
              "      <td>186.250000</td>\n",
              "      <td>211.675000</td>\n",
              "    </tr>\n",
              "  </tbody>\n",
              "</table>\n",
              "</div>\n",
              "      <button class=\"colab-df-convert\" onclick=\"convertToInteractive('df-2bc99c56-ff94-48e7-9499-50b0140b5d0c')\"\n",
              "              title=\"Convert this dataframe to an interactive table.\"\n",
              "              style=\"display:none;\">\n",
              "        \n",
              "  <svg xmlns=\"http://www.w3.org/2000/svg\" height=\"24px\"viewBox=\"0 0 24 24\"\n",
              "       width=\"24px\">\n",
              "    <path d=\"M0 0h24v24H0V0z\" fill=\"none\"/>\n",
              "    <path d=\"M18.56 5.44l.94 2.06.94-2.06 2.06-.94-2.06-.94-.94-2.06-.94 2.06-2.06.94zm-11 1L8.5 8.5l.94-2.06 2.06-.94-2.06-.94L8.5 2.5l-.94 2.06-2.06.94zm10 10l.94 2.06.94-2.06 2.06-.94-2.06-.94-.94-2.06-.94 2.06-2.06.94z\"/><path d=\"M17.41 7.96l-1.37-1.37c-.4-.4-.92-.59-1.43-.59-.52 0-1.04.2-1.43.59L10.3 9.45l-7.72 7.72c-.78.78-.78 2.05 0 2.83L4 21.41c.39.39.9.59 1.41.59.51 0 1.02-.2 1.41-.59l7.78-7.78 2.81-2.81c.8-.78.8-2.07 0-2.86zM5.41 20L4 18.59l7.72-7.72 1.47 1.35L5.41 20z\"/>\n",
              "  </svg>\n",
              "      </button>\n",
              "      \n",
              "  <style>\n",
              "    .colab-df-container {\n",
              "      display:flex;\n",
              "      flex-wrap:wrap;\n",
              "      gap: 12px;\n",
              "    }\n",
              "\n",
              "    .colab-df-convert {\n",
              "      background-color: #E8F0FE;\n",
              "      border: none;\n",
              "      border-radius: 50%;\n",
              "      cursor: pointer;\n",
              "      display: none;\n",
              "      fill: #1967D2;\n",
              "      height: 32px;\n",
              "      padding: 0 0 0 0;\n",
              "      width: 32px;\n",
              "    }\n",
              "\n",
              "    .colab-df-convert:hover {\n",
              "      background-color: #E2EBFA;\n",
              "      box-shadow: 0px 1px 2px rgba(60, 64, 67, 0.3), 0px 1px 3px 1px rgba(60, 64, 67, 0.15);\n",
              "      fill: #174EA6;\n",
              "    }\n",
              "\n",
              "    [theme=dark] .colab-df-convert {\n",
              "      background-color: #3B4455;\n",
              "      fill: #D2E3FC;\n",
              "    }\n",
              "\n",
              "    [theme=dark] .colab-df-convert:hover {\n",
              "      background-color: #434B5C;\n",
              "      box-shadow: 0px 1px 3px 1px rgba(0, 0, 0, 0.15);\n",
              "      filter: drop-shadow(0px 1px 2px rgba(0, 0, 0, 0.3));\n",
              "      fill: #FFFFFF;\n",
              "    }\n",
              "  </style>\n",
              "\n",
              "      <script>\n",
              "        const buttonEl =\n",
              "          document.querySelector('#df-2bc99c56-ff94-48e7-9499-50b0140b5d0c button.colab-df-convert');\n",
              "        buttonEl.style.display =\n",
              "          google.colab.kernel.accessAllowed ? 'block' : 'none';\n",
              "\n",
              "        async function convertToInteractive(key) {\n",
              "          const element = document.querySelector('#df-2bc99c56-ff94-48e7-9499-50b0140b5d0c');\n",
              "          const dataTable =\n",
              "            await google.colab.kernel.invokeFunction('convertToInteractive',\n",
              "                                                     [key], {});\n",
              "          if (!dataTable) return;\n",
              "\n",
              "          const docLinkHtml = 'Like what you see? Visit the ' +\n",
              "            '<a target=\"_blank\" href=https://colab.research.google.com/notebooks/data_table.ipynb>data table notebook</a>'\n",
              "            + ' to learn more about interactive tables.';\n",
              "          element.innerHTML = '';\n",
              "          dataTable['output_type'] = 'display_data';\n",
              "          await google.colab.output.renderOutput(dataTable, element);\n",
              "          const docLink = document.createElement('div');\n",
              "          docLink.innerHTML = docLinkHtml;\n",
              "          element.appendChild(docLink);\n",
              "        }\n",
              "      </script>\n",
              "    </div>\n",
              "  </div>\n",
              "  "
            ]
          },
          "metadata": {},
          "execution_count": 32
        }
      ],
      "source": [
        "pokemon.iloc[:,0:16].describe()"
      ]
    },
    {
      "cell_type": "markdown",
      "metadata": {
        "id": "y20K1lOx_bwC"
      },
      "source": [
        "## Respuesta 9:\n",
        "\n",
        "Las estadísticas de resumen de los datos proporcionados por `describe()` devuelve las estadísticas descriptivas básicas (las filas) de cada variable (las columnas).\n",
        "\n",
        "- La estadística de conteo es el número de filas (puntos, objetos de datos, observación o tamaño de muestra) del conjunto de datos.\n",
        "- La media y la mediana (la fila etiquetada como 50%) son medidas de tendencia central. La media busca el equilibrio o punto medio (\"el centro de masa\") de la variable y es sensible a los valores extremos. La mediana separa los datos en dos mitades y es menos sensible a los valores extremos.\n",
        "- Los cuartiles 1 y 3 ($Q_1$ y $Q_3$, 25 % y 75 % de filas etiquetadas, respectivamente) son medidas de ubicación. Por ejemplo, el 25 % de los datos está por debajo del primer cuartil.\n",
        "- El max y el min son el máximo y el mínimo de la variable. El mínimo, este primer cuartil $Q_1$, la mediana o $Q_2$, el tercer cuartil $Q_3$ y el máximo (es decir, filas etiquetadas min, 25%, 50%, 75% y max) también se denomina \"el cinco estadísticas resumidas\".\n",
        "- La desviación estándar de la muestra, std, es una estadística imparcial de la desviación estándar de la población. Es una medida de dispersión de los datos. Una desviación estándar de cero significaría que el atributo no varía, es decir, es constante (toma el mismo valor todo el tiempo). Una desviación estándar grande significaría que la variable tiene una gran desviación en la media.\n",
        "\n",
        "Por ejemplo, expliquemos las estadísticas básicas de la columna **Attack**:\n",
        "\n",
        "- Hay $N=801$ (`Count`) entradas en esta variable, que corresponde al tamaño de la muestra.\n",
        "- La media de la Velocidad de los Pokemones es $\\bar{x}=$66.33km/h. En otras palabras, en promedio cada Pokémon puede alcanzar una velocidad de 66,33 km/h.\n",
        "- La desviación estándar $s=28.90$km/h. Esto significa que aproximadamente dos tercios de los Pokemones alcanzan una velocidad en cada batalla en el rango de 66,33$\\pm$30,44mg/dL.\n",
        "- El Pokémon que tiene la propiedad menor de atacar, antes o después, que el oponente registró 5km/h y el Pokémon que tiene la propiedad mayor de atacar, antes o después, que el oponente registró 180km/h.\n",
        "- Una cuarta parte de los Pokemones tiene la propiedad de atacar, antes o después, que el oponente menor de $Q_1=$45 km/h de velocidad. La mitad de los Pokemones tiene la propiedad de atacar, antes o después, que el oponente menos de $Q_2=$65km/h de velocidad (de la misma manera, la otra mitad tiene más de $Q_2=$65km/h). Finalmente, las tres cuartas partes de los Pokemones tienen la propiedad de atacar, antes o después, que el oponente más de $Q_2=$85 km/h de velocidad."
      ]
    },
    {
      "cell_type": "markdown",
      "metadata": {
        "id": "bpb4jG3ic_p_"
      },
      "source": [
        "## P10. Trace el diagrama de distribución para la variable 'Defense' y Escriba observaciones detalladas del diagrama."
      ]
    },
    {
      "cell_type": "code",
      "execution_count": null,
      "metadata": {
        "colab": {
          "base_uri": "https://localhost:8080/",
          "height": 369
        },
        "outputId": "fd8006df-05bf-4326-f3a3-bf89256e4cdb",
        "id": "WInHX5Q-c_qA"
      },
      "outputs": [
        {
          "output_type": "display_data",
          "data": {
            "text/plain": [
              "<Figure size 360x360 with 1 Axes>"
            ],
            "image/png": "[encoded data removed]"
          },
          "metadata": {
            "needs_background": "light"
          }
        }
      ],
      "source": [
        "#el método distplot de seaborn traza la distribución de densidad de la variable con la opción del método de densidad kernel.\n",
        "sns.displot(pokedex['defense'], kind='kde')\n",
        "plt.show()"
      ]
    },
    {
      "cell_type": "markdown",
      "metadata": {
        "id": "LGKnjmYV_bwD"
      },
      "source": [
        "## Respuesta 10:\n",
        "\n",
        "El gráfico anterior sugiere que la variable 'Defense' se distribuye normalmente con una media estimada de 73 km/h y una desviación estándar estimada de 30,76 km/h. Aunque el rango va por debajo de 0 km/h y por encima de 250 km/h, el gráfico sugiere que la mayor parte de los datos se encuentran entre 0 km/h y 150 km/h aprox. De hecho, bajo el supuesto de normalidad, aproximadamente el 95% de los datos se encuentran entre $\\mu\\pm2\\sigma$. En otras palabras:"
      ]
    },
    {
      "cell_type": "code",
      "execution_count": null,
      "metadata": {
        "id": "5i1GbuvL374-",
        "outputId": "da4f2e1b-fc90-49de-d379-2e04130b57dc",
        "colab": {
          "base_uri": "https://localhost:8080/"
        }
      },
      "outputs": [
        {
          "output_type": "stream",
          "name": "stdout",
          "text": [
            "El 95% de los Pokemones tiene una velocidad para esquivar entre:  11.470420167264109 km/h and 134.5470579850455 km/s\n"
          ]
        }
      ],
      "source": [
        "print(\"El 95% de los Pokemones tiene una velocidad para esquivar entre: \", pokedex.defense.mean()-2*pokedex.defense.std(), \"km/h and\", \\\n",
        "  pokedex.defense.mean()+2*pokedex.defense.std(), \"km/s\" )"
      ]
    },
    {
      "cell_type": "markdown",
      "metadata": {
        "id": "l3A0K8Wb375A"
      },
      "source": [
        "Por otro lado, aproximadamente dos tercios de los Pokemones tienen una velocidad de esquivar normal."
      ]
    },
    {
      "cell_type": "code",
      "execution_count": null,
      "metadata": {
        "id": "Ukoi59m8375B",
        "outputId": "9c291065-7b55-40cc-febe-223c6060411e",
        "colab": {
          "base_uri": "https://localhost:8080/"
        }
      },
      "outputs": [
        {
          "output_type": "stream",
          "name": "stdout",
          "text": [
            "El 68% de los Pokemones tiene una velocidad para esquivar bastante normal entre:  42.23957962170946 km/h and 103.77789853060017 km/h\n"
          ]
        }
      ],
      "source": [
        "print(\"El 68% de los Pokemones tiene una velocidad para esquivar bastante normal entre: \", pokedex.defense.mean()-pokedex.defense.std(), \"km/h and\", \\\n",
        "  pokedex.defense.mean()+pokedex.defense.std(), \"km/h\" )"
      ]
    },
    {
      "cell_type": "markdown",
      "metadata": {
        "id": "t6znt8P6375D"
      },
      "source": [
        "Con el mismo supuesto de normalidad, podemos estimar que aproximadamente"
      ]
    },
    {
      "cell_type": "code",
      "execution_count": null,
      "metadata": {
        "colab": {
          "base_uri": "https://localhost:8080/"
        },
        "id": "eeaA81pp375E",
        "outputId": "d102f130-710b-4bea-b8a8-575187f006a6"
      },
      "outputs": [
        {
          "output_type": "stream",
          "name": "stdout",
          "text": [
            "41.0 % de los Pokemones tiene una velocidad para esquivar (>80 km/h)\n"
          ]
        }
      ],
      "source": [
        "print(round((1-stats.norm.cdf(80, loc = pokedex.defense.mean(), scale = pokedex.defense.std()))*100,1), \\\n",
        "  \"% de los Pokemones tiene una velocidad para esquivar (>80 km/h)\") "
      ]
    },
    {
      "cell_type": "markdown",
      "metadata": {
        "id": "H82v-Oiq_bwD"
      },
      "source": [
        "## P11. ¿Cuál es el 'IMC' de la persona que tiene la 'Glucosa' más alta?"
      ]
    },
    {
      "cell_type": "code",
      "execution_count": null,
      "metadata": {
        "id": "-xXHlCS5_bwD",
        "colab": {
          "base_uri": "https://localhost:8080/",
          "height": 167
        },
        "outputId": "8870bbab-bd22-4ab2-d319-18bb93f4df43"
      },
      "outputs": [
        {
          "output_type": "error",
          "ename": "NameError",
          "evalue": "ignored",
          "traceback": [
            "\u001b[0;31m---------------------------------------------------------------------------\u001b[0m",
            "\u001b[0;31mNameError\u001b[0m                                 Traceback (most recent call last)",
            "\u001b[0;32m<ipython-input-17-ddb27b15b668>\u001b[0m in \u001b[0;36m<module>\u001b[0;34m\u001b[0m\n\u001b[0;32m----> 1\u001b[0;31m \u001b[0mpima\u001b[0m\u001b[0;34m[\u001b[0m\u001b[0mpima\u001b[0m\u001b[0;34m[\u001b[0m\u001b[0;34m'Glucose'\u001b[0m\u001b[0;34m]\u001b[0m\u001b[0;34m==\u001b[0m\u001b[0mpima\u001b[0m\u001b[0;34m[\u001b[0m\u001b[0;34m'Glucose'\u001b[0m\u001b[0;34m]\u001b[0m\u001b[0;34m.\u001b[0m\u001b[0mmax\u001b[0m\u001b[0;34m(\u001b[0m\u001b[0;34m)\u001b[0m\u001b[0;34m]\u001b[0m\u001b[0;34m[\u001b[0m\u001b[0;34m'BMI'\u001b[0m\u001b[0;34m]\u001b[0m\u001b[0;34m\u001b[0m\u001b[0;34m\u001b[0m\u001b[0m\n\u001b[0m",
            "\u001b[0;31mNameError\u001b[0m: name 'pima' is not defined"
          ]
        }
      ],
      "source": [
        "pima[pima['Glucose']==pima['Glucose'].max()]['BMI']"
      ]
    },
    {
      "cell_type": "markdown",
      "metadata": {
        "id": "pE2GYrtU_bwE"
      },
      "source": [
        "## Ans 11:\n",
        "\n",
        "The body mass index BMI of the person with the highest Glucose is 42.9Kg/m^2 which is considered an extremely obese patient (Obesity Class III)"
      ]
    },
    {
      "cell_type": "markdown",
      "metadata": {
        "id": "0xN_VJOl_bwE"
      },
      "source": [
        "## P12.\n",
        "### 12.1 ¿Cuál es la media de la variable 'Weight'?\n",
        "### 12.2 ¿Cuál es la mediana de la variable 'Weight'?\n",
        "### 12.3 ¿Cuál es la moda de la variable 'Weight'?\n",
        "### 12.4 ¿Son iguales las tres medidas de tendencia central?\n"
      ]
    },
    {
      "cell_type": "code",
      "execution_count": null,
      "metadata": {
        "id": "-aKQ7UMC_bwE",
        "outputId": "db5127dc-54c0-4769-c638-6c938ac676f1",
        "colab": {
          "base_uri": "https://localhost:8080/"
        }
      },
      "outputs": [
        {
          "output_type": "stream",
          "name": "stdout",
          "text": [
            "61.378104993597944\n",
            "27.3\n",
            "15.0\n"
          ]
        }
      ],
      "source": [
        "m1 = pokedex['weight_kg'].mean()  # media\n",
        "print(m1)\n",
        "m2 = pokedex['weight_kg'].median()  # mediana\n",
        "print(m2)\n",
        "m3 = pokedex['weight_kg'].mode()[0]  # moda\n",
        "print(m3)"
      ]
    },
    {
      "cell_type": "markdown",
      "metadata": {
        "id": "NNYE_suf_bwE"
      },
      "source": [
        "## Respuesta 12:\n",
        "\n",
        "La media de weight_kg es de 61,37 kg, la mediana es de 27.3 kg y la moda es de 15 kg. La anterior información indica que en promedio cada Pokémon pesa 61,37 kg,  que la mitad de los estos tienen un peso superior a 27.3kg, lo que se puede considerar como un peso ligero para la mitad de los Pokemones, y por último que el weight_kg más común es 15 kg.  "
      ]
    },
    {
      "cell_type": "markdown",
      "metadata": {
        "id": "zQgUfx28_bwE"
      },
      "source": [
        "## P13. ¿Cuántos Pokemones tienen la propiedad de atacar, antes o después, que el oponente por encima del nivel medio de 'attack'?"
      ]
    },
    {
      "cell_type": "code",
      "execution_count": null,
      "metadata": {
        "id": "elzY2lG0_bwE",
        "colab": {
          "base_uri": "https://localhost:8080/"
        },
        "outputId": "da27a9b6-5f6c-4466-b4dd-e8fe148cd4b8"
      },
      "outputs": [
        {
          "output_type": "execute_result",
          "data": {
            "text/plain": [
              "370"
            ]
          },
          "metadata": {},
          "execution_count": 27
        }
      ],
      "source": [
        "pokedex[pokedex['attack']>pokedex['attack'].mean()].shape[0]"
      ]
    },
    {
      "cell_type": "markdown",
      "metadata": {
        "id": "KP5Ex2Mj_bwF"
      },
      "source": [
        "## Respuesta 13:\n",
        "\n",
        "Hay 370 Pokemones de 801 con la propiedad de atacar, antes o después, por encima del nivel medio de attack."
      ]
    },
    {
      "cell_type": "markdown",
      "metadata": {
        "id": "TUFPGMGX_bwF"
      },
      "source": [
        "## P14. ¿Cuántos Pokemones tienen su 'Defense' igual a la mediana de 'Defense' y su 'speed' menor que la mediana de 'speed'?"
      ]
    },
    {
      "cell_type": "code",
      "execution_count": null,
      "metadata": {
        "id": "wn118oGx_bwF",
        "outputId": "eed25ebb-f45c-4c87-8335-e08fce01d27b",
        "colab": {
          "base_uri": "https://localhost:8080/"
        }
      },
      "outputs": [
        {
          "output_type": "execute_result",
          "data": {
            "text/plain": [
              "22"
            ]
          },
          "metadata": {},
          "execution_count": 29
        }
      ],
      "source": [
        "# remove _____ & write the appropriate column name\n",
        "\n",
        "pokedex[(pokedex['defense']==pokedex['defense'].median()) & (pokedex['speed']<pokedex['speed'].median())].shape[0]"
      ]
    },
    {
      "cell_type": "markdown",
      "metadata": {
        "id": "-b8kksU3_bwF"
      },
      "source": [
        "## Respuesta 14:\n",
        "\n",
        "Hay 22 Pokemones con su defensa igual a la mediana de la defensa y su velocidad menor que la mediana de la velocidad."
      ]
    },
    {
      "cell_type": "markdown",
      "metadata": {
        "id": "O8KX8Nva_bwF"
      },
      "source": [
        "## P15. Cree un diagrama de pares para las variables 'attack', 'defense' y 'speed'. Escribe tus observaciones de la gráfica."
      ]
    },
    {
      "cell_type": "code",
      "execution_count": null,
      "metadata": {
        "id": "dDj12snn_bwG",
        "outputId": "ec6534f5-821c-44a7-c446-afbd0b6d0ea2",
        "colab": {
          "base_uri": "https://localhost:8080/",
          "height": 959
        }
      },
      "outputs": [
        {
          "output_type": "error",
          "ename": "KeyError",
          "evalue": "ignored",
          "traceback": [
            "\u001b[0;31m---------------------------------------------------------------------------\u001b[0m",
            "\u001b[0;31mKeyError\u001b[0m                                  Traceback (most recent call last)",
            "\u001b[0;32m/usr/local/lib/python3.7/dist-packages/pandas/core/indexes/base.py\u001b[0m in \u001b[0;36mget_loc\u001b[0;34m(self, key, method, tolerance)\u001b[0m\n\u001b[1;32m   3360\u001b[0m             \u001b[0;32mtry\u001b[0m\u001b[0;34m:\u001b[0m\u001b[0;34m\u001b[0m\u001b[0;34m\u001b[0m\u001b[0m\n\u001b[0;32m-> 3361\u001b[0;31m                 \u001b[0;32mreturn\u001b[0m \u001b[0mself\u001b[0m\u001b[0;34m.\u001b[0m\u001b[0m_engine\u001b[0m\u001b[0;34m.\u001b[0m\u001b[0mget_loc\u001b[0m\u001b[0;34m(\u001b[0m\u001b[0mcasted_key\u001b[0m\u001b[0;34m)\u001b[0m\u001b[0;34m\u001b[0m\u001b[0;34m\u001b[0m\u001b[0m\n\u001b[0m\u001b[1;32m   3362\u001b[0m             \u001b[0;32mexcept\u001b[0m \u001b[0mKeyError\u001b[0m \u001b[0;32mas\u001b[0m \u001b[0merr\u001b[0m\u001b[0;34m:\u001b[0m\u001b[0;34m\u001b[0m\u001b[0;34m\u001b[0m\u001b[0m\n",
            "\u001b[0;32m/usr/local/lib/python3.7/dist-packages/pandas/_libs/index.pyx\u001b[0m in \u001b[0;36mpandas._libs.index.IndexEngine.get_loc\u001b[0;34m()\u001b[0m\n",
            "\u001b[0;32m/usr/local/lib/python3.7/dist-packages/pandas/_libs/index.pyx\u001b[0m in \u001b[0;36mpandas._libs.index.IndexEngine.get_loc\u001b[0;34m()\u001b[0m\n",
            "\u001b[0;32mpandas/_libs/hashtable_class_helper.pxi\u001b[0m in \u001b[0;36mpandas._libs.hashtable.PyObjectHashTable.get_item\u001b[0;34m()\u001b[0m\n",
            "\u001b[0;32mpandas/_libs/hashtable_class_helper.pxi\u001b[0m in \u001b[0;36mpandas._libs.hashtable.PyObjectHashTable.get_item\u001b[0;34m()\u001b[0m\n",
            "\u001b[0;31mKeyError\u001b[0m: 'Outcome'",
            "\nThe above exception was the direct cause of the following exception:\n",
            "\u001b[0;31mKeyError\u001b[0m                                  Traceback (most recent call last)",
            "\u001b[0;32m<ipython-input-30-af908e64cb8d>\u001b[0m in \u001b[0;36m<module>\u001b[0;34m\u001b[0m\n\u001b[1;32m      1\u001b[0m \u001b[0;31m# remove _____ & write the appropriate function name\u001b[0m\u001b[0;34m\u001b[0m\u001b[0;34m\u001b[0m\u001b[0;34m\u001b[0m\u001b[0m\n\u001b[1;32m      2\u001b[0m \u001b[0;34m\u001b[0m\u001b[0m\n\u001b[0;32m----> 3\u001b[0;31m \u001b[0msns\u001b[0m\u001b[0;34m.\u001b[0m\u001b[0mpairplot\u001b[0m\u001b[0;34m(\u001b[0m\u001b[0mdata\u001b[0m\u001b[0;34m=\u001b[0m\u001b[0mpokedex\u001b[0m\u001b[0;34m,\u001b[0m\u001b[0mvars\u001b[0m\u001b[0;34m=\u001b[0m\u001b[0;34m[\u001b[0m\u001b[0;34m'attack'\u001b[0m\u001b[0;34m,\u001b[0m \u001b[0;34m'defense'\u001b[0m\u001b[0;34m,\u001b[0m \u001b[0;34m'speed'\u001b[0m\u001b[0;34m]\u001b[0m\u001b[0;34m,\u001b[0m \u001b[0mhue\u001b[0m\u001b[0;34m=\u001b[0m\u001b[0;34m'Outcome'\u001b[0m\u001b[0;34m)\u001b[0m\u001b[0;34m\u001b[0m\u001b[0;34m\u001b[0m\u001b[0m\n\u001b[0m\u001b[1;32m      4\u001b[0m \u001b[0mplt\u001b[0m\u001b[0;34m.\u001b[0m\u001b[0mshow\u001b[0m\u001b[0;34m(\u001b[0m\u001b[0;34m)\u001b[0m\u001b[0;34m\u001b[0m\u001b[0;34m\u001b[0m\u001b[0m\n",
            "\u001b[0;32m/usr/local/lib/python3.7/dist-packages/seaborn/_decorators.py\u001b[0m in \u001b[0;36minner_f\u001b[0;34m(*args, **kwargs)\u001b[0m\n\u001b[1;32m     44\u001b[0m             )\n\u001b[1;32m     45\u001b[0m         \u001b[0mkwargs\u001b[0m\u001b[0;34m.\u001b[0m\u001b[0mupdate\u001b[0m\u001b[0;34m(\u001b[0m\u001b[0;34m{\u001b[0m\u001b[0mk\u001b[0m\u001b[0;34m:\u001b[0m \u001b[0marg\u001b[0m \u001b[0;32mfor\u001b[0m \u001b[0mk\u001b[0m\u001b[0;34m,\u001b[0m \u001b[0marg\u001b[0m \u001b[0;32min\u001b[0m \u001b[0mzip\u001b[0m\u001b[0;34m(\u001b[0m\u001b[0msig\u001b[0m\u001b[0;34m.\u001b[0m\u001b[0mparameters\u001b[0m\u001b[0;34m,\u001b[0m \u001b[0margs\u001b[0m\u001b[0;34m)\u001b[0m\u001b[0;34m}\u001b[0m\u001b[0;34m)\u001b[0m\u001b[0;34m\u001b[0m\u001b[0;34m\u001b[0m\u001b[0m\n\u001b[0;32m---> 46\u001b[0;31m         \u001b[0;32mreturn\u001b[0m \u001b[0mf\u001b[0m\u001b[0;34m(\u001b[0m\u001b[0;34m**\u001b[0m\u001b[0mkwargs\u001b[0m\u001b[0;34m)\u001b[0m\u001b[0;34m\u001b[0m\u001b[0;34m\u001b[0m\u001b[0m\n\u001b[0m\u001b[1;32m     47\u001b[0m     \u001b[0;32mreturn\u001b[0m \u001b[0minner_f\u001b[0m\u001b[0;34m\u001b[0m\u001b[0;34m\u001b[0m\u001b[0m\n\u001b[1;32m     48\u001b[0m \u001b[0;34m\u001b[0m\u001b[0m\n",
            "\u001b[0;32m/usr/local/lib/python3.7/dist-packages/seaborn/axisgrid.py\u001b[0m in \u001b[0;36mpairplot\u001b[0;34m(data, hue, hue_order, palette, vars, x_vars, y_vars, kind, diag_kind, markers, height, aspect, corner, dropna, plot_kws, diag_kws, grid_kws, size)\u001b[0m\n\u001b[1;32m   2096\u001b[0m     grid = PairGrid(data, vars=vars, x_vars=x_vars, y_vars=y_vars, hue=hue,\n\u001b[1;32m   2097\u001b[0m                     \u001b[0mhue_order\u001b[0m\u001b[0;34m=\u001b[0m\u001b[0mhue_order\u001b[0m\u001b[0;34m,\u001b[0m \u001b[0mpalette\u001b[0m\u001b[0;34m=\u001b[0m\u001b[0mpalette\u001b[0m\u001b[0;34m,\u001b[0m \u001b[0mcorner\u001b[0m\u001b[0;34m=\u001b[0m\u001b[0mcorner\u001b[0m\u001b[0;34m,\u001b[0m\u001b[0;34m\u001b[0m\u001b[0;34m\u001b[0m\u001b[0m\n\u001b[0;32m-> 2098\u001b[0;31m                     height=height, aspect=aspect, dropna=dropna, **grid_kws)\n\u001b[0m\u001b[1;32m   2099\u001b[0m \u001b[0;34m\u001b[0m\u001b[0m\n\u001b[1;32m   2100\u001b[0m     \u001b[0;31m# Add the markers here as PairGrid has figured out how many levels of the\u001b[0m\u001b[0;34m\u001b[0m\u001b[0;34m\u001b[0m\u001b[0;34m\u001b[0m\u001b[0m\n",
            "\u001b[0;32m/usr/local/lib/python3.7/dist-packages/seaborn/_decorators.py\u001b[0m in \u001b[0;36minner_f\u001b[0;34m(*args, **kwargs)\u001b[0m\n\u001b[1;32m     44\u001b[0m             )\n\u001b[1;32m     45\u001b[0m         \u001b[0mkwargs\u001b[0m\u001b[0;34m.\u001b[0m\u001b[0mupdate\u001b[0m\u001b[0;34m(\u001b[0m\u001b[0;34m{\u001b[0m\u001b[0mk\u001b[0m\u001b[0;34m:\u001b[0m \u001b[0marg\u001b[0m \u001b[0;32mfor\u001b[0m \u001b[0mk\u001b[0m\u001b[0;34m,\u001b[0m \u001b[0marg\u001b[0m \u001b[0;32min\u001b[0m \u001b[0mzip\u001b[0m\u001b[0;34m(\u001b[0m\u001b[0msig\u001b[0m\u001b[0;34m.\u001b[0m\u001b[0mparameters\u001b[0m\u001b[0;34m,\u001b[0m \u001b[0margs\u001b[0m\u001b[0;34m)\u001b[0m\u001b[0;34m}\u001b[0m\u001b[0;34m)\u001b[0m\u001b[0;34m\u001b[0m\u001b[0;34m\u001b[0m\u001b[0m\n\u001b[0;32m---> 46\u001b[0;31m         \u001b[0;32mreturn\u001b[0m \u001b[0mf\u001b[0m\u001b[0;34m(\u001b[0m\u001b[0;34m**\u001b[0m\u001b[0mkwargs\u001b[0m\u001b[0;34m)\u001b[0m\u001b[0;34m\u001b[0m\u001b[0;34m\u001b[0m\u001b[0m\n\u001b[0m\u001b[1;32m     47\u001b[0m     \u001b[0;32mreturn\u001b[0m \u001b[0minner_f\u001b[0m\u001b[0;34m\u001b[0m\u001b[0;34m\u001b[0m\u001b[0m\n\u001b[1;32m     48\u001b[0m \u001b[0;34m\u001b[0m\u001b[0m\n",
            "\u001b[0;32m/usr/local/lib/python3.7/dist-packages/seaborn/axisgrid.py\u001b[0m in \u001b[0;36m__init__\u001b[0;34m(self, data, hue, hue_order, palette, hue_kws, vars, x_vars, y_vars, corner, diag_sharey, height, aspect, layout_pad, despine, dropna, size)\u001b[0m\n\u001b[1;32m   1287\u001b[0m             \u001b[0;31m# to the axes-level functions, while always handling legend creation.\u001b[0m\u001b[0;34m\u001b[0m\u001b[0;34m\u001b[0m\u001b[0;34m\u001b[0m\u001b[0m\n\u001b[1;32m   1288\u001b[0m             \u001b[0;31m# See GH2307\u001b[0m\u001b[0;34m\u001b[0m\u001b[0;34m\u001b[0m\u001b[0;34m\u001b[0m\u001b[0m\n\u001b[0;32m-> 1289\u001b[0;31m             \u001b[0mhue_names\u001b[0m \u001b[0;34m=\u001b[0m \u001b[0mhue_order\u001b[0m \u001b[0;34m=\u001b[0m \u001b[0mcategorical_order\u001b[0m\u001b[0;34m(\u001b[0m\u001b[0mdata\u001b[0m\u001b[0;34m[\u001b[0m\u001b[0mhue\u001b[0m\u001b[0;34m]\u001b[0m\u001b[0;34m,\u001b[0m \u001b[0mhue_order\u001b[0m\u001b[0;34m)\u001b[0m\u001b[0;34m\u001b[0m\u001b[0;34m\u001b[0m\u001b[0m\n\u001b[0m\u001b[1;32m   1290\u001b[0m             \u001b[0;32mif\u001b[0m \u001b[0mdropna\u001b[0m\u001b[0;34m:\u001b[0m\u001b[0;34m\u001b[0m\u001b[0;34m\u001b[0m\u001b[0m\n\u001b[1;32m   1291\u001b[0m                 \u001b[0;31m# Filter NA from the list of unique hue names\u001b[0m\u001b[0;34m\u001b[0m\u001b[0;34m\u001b[0m\u001b[0;34m\u001b[0m\u001b[0m\n",
            "\u001b[0;32m/usr/local/lib/python3.7/dist-packages/pandas/core/frame.py\u001b[0m in \u001b[0;36m__getitem__\u001b[0;34m(self, key)\u001b[0m\n\u001b[1;32m   3456\u001b[0m             \u001b[0;32mif\u001b[0m \u001b[0mself\u001b[0m\u001b[0;34m.\u001b[0m\u001b[0mcolumns\u001b[0m\u001b[0;34m.\u001b[0m\u001b[0mnlevels\u001b[0m \u001b[0;34m>\u001b[0m \u001b[0;36m1\u001b[0m\u001b[0;34m:\u001b[0m\u001b[0;34m\u001b[0m\u001b[0;34m\u001b[0m\u001b[0m\n\u001b[1;32m   3457\u001b[0m                 \u001b[0;32mreturn\u001b[0m \u001b[0mself\u001b[0m\u001b[0;34m.\u001b[0m\u001b[0m_getitem_multilevel\u001b[0m\u001b[0;34m(\u001b[0m\u001b[0mkey\u001b[0m\u001b[0;34m)\u001b[0m\u001b[0;34m\u001b[0m\u001b[0;34m\u001b[0m\u001b[0m\n\u001b[0;32m-> 3458\u001b[0;31m             \u001b[0mindexer\u001b[0m \u001b[0;34m=\u001b[0m \u001b[0mself\u001b[0m\u001b[0;34m.\u001b[0m\u001b[0mcolumns\u001b[0m\u001b[0;34m.\u001b[0m\u001b[0mget_loc\u001b[0m\u001b[0;34m(\u001b[0m\u001b[0mkey\u001b[0m\u001b[0;34m)\u001b[0m\u001b[0;34m\u001b[0m\u001b[0;34m\u001b[0m\u001b[0m\n\u001b[0m\u001b[1;32m   3459\u001b[0m             \u001b[0;32mif\u001b[0m \u001b[0mis_integer\u001b[0m\u001b[0;34m(\u001b[0m\u001b[0mindexer\u001b[0m\u001b[0;34m)\u001b[0m\u001b[0;34m:\u001b[0m\u001b[0;34m\u001b[0m\u001b[0;34m\u001b[0m\u001b[0m\n\u001b[1;32m   3460\u001b[0m                 \u001b[0mindexer\u001b[0m \u001b[0;34m=\u001b[0m \u001b[0;34m[\u001b[0m\u001b[0mindexer\u001b[0m\u001b[0;34m]\u001b[0m\u001b[0;34m\u001b[0m\u001b[0;34m\u001b[0m\u001b[0m\n",
            "\u001b[0;32m/usr/local/lib/python3.7/dist-packages/pandas/core/indexes/base.py\u001b[0m in \u001b[0;36mget_loc\u001b[0;34m(self, key, method, tolerance)\u001b[0m\n\u001b[1;32m   3361\u001b[0m                 \u001b[0;32mreturn\u001b[0m \u001b[0mself\u001b[0m\u001b[0;34m.\u001b[0m\u001b[0m_engine\u001b[0m\u001b[0;34m.\u001b[0m\u001b[0mget_loc\u001b[0m\u001b[0;34m(\u001b[0m\u001b[0mcasted_key\u001b[0m\u001b[0;34m)\u001b[0m\u001b[0;34m\u001b[0m\u001b[0;34m\u001b[0m\u001b[0m\n\u001b[1;32m   3362\u001b[0m             \u001b[0;32mexcept\u001b[0m \u001b[0mKeyError\u001b[0m \u001b[0;32mas\u001b[0m \u001b[0merr\u001b[0m\u001b[0;34m:\u001b[0m\u001b[0;34m\u001b[0m\u001b[0;34m\u001b[0m\u001b[0m\n\u001b[0;32m-> 3363\u001b[0;31m                 \u001b[0;32mraise\u001b[0m \u001b[0mKeyError\u001b[0m\u001b[0;34m(\u001b[0m\u001b[0mkey\u001b[0m\u001b[0;34m)\u001b[0m \u001b[0;32mfrom\u001b[0m \u001b[0merr\u001b[0m\u001b[0;34m\u001b[0m\u001b[0;34m\u001b[0m\u001b[0m\n\u001b[0m\u001b[1;32m   3364\u001b[0m \u001b[0;34m\u001b[0m\u001b[0m\n\u001b[1;32m   3365\u001b[0m         \u001b[0;32mif\u001b[0m \u001b[0mis_scalar\u001b[0m\u001b[0;34m(\u001b[0m\u001b[0mkey\u001b[0m\u001b[0;34m)\u001b[0m \u001b[0;32mand\u001b[0m \u001b[0misna\u001b[0m\u001b[0;34m(\u001b[0m\u001b[0mkey\u001b[0m\u001b[0;34m)\u001b[0m \u001b[0;32mand\u001b[0m \u001b[0;32mnot\u001b[0m \u001b[0mself\u001b[0m\u001b[0;34m.\u001b[0m\u001b[0mhasnans\u001b[0m\u001b[0;34m:\u001b[0m\u001b[0;34m\u001b[0m\u001b[0;34m\u001b[0m\u001b[0m\n",
            "\u001b[0;31mKeyError\u001b[0m: 'Outcome'"
          ]
        },
        {
          "output_type": "display_data",
          "data": {
            "text/plain": [
              "<Figure size 540x540 with 9 Axes>"
            ],
            "image/png": "[encoded data removed]"
          },
          "metadata": {
            "needs_background": "light"
          }
        }
      ],
      "source": [
        "# remove _____ & write the appropriate function name\n",
        "\n",
        "sns.pairplot(data=pokedex,vars=['attack', 'defense', 'speed'], hue='Outcome')\n",
        "plt.show()"
      ]
    },
    {
      "cell_type": "markdown",
      "metadata": {
        "id": "S2bPFIk9_bwG"
      },
      "source": [
        "## Ans 15:\n",
        "\n",
        "\n",
        "From the above plot we may say that:\n",
        "\n",
        "- The patients with diabetes have more blood glucose concentration (above 120mg/dL) than the patients without diabetes.\n",
        "- In contrast with the patients with diabetes, the patients without diabetes have a DiabetesPedigreeFuncion concentrated below 0.5.\n",
        "- In the same way, the patients without diabetes have the skinthicknes concentrated around 20mm, while the patients with diabetes have the skinthickness distributed between 20mm and 50mm.\n",
        "- There is a weak positive correlation between the following variables: Glucose and SkinThickness, Glucose and DiabetesPedigreeFunction, and Skinthickness and DiabetesPedigreeFunction. "
      ]
    },
    {
      "cell_type": "markdown",
      "metadata": {
        "id": "pTzCIQOb_bwG"
      },
      "source": [
        "## Q16. Plot the scatterplot between 'Glucose' and 'Insulin'. Write your observations from the plot. (2 Marks)"
      ]
    },
    {
      "cell_type": "code",
      "execution_count": null,
      "metadata": {
        "id": "CNHLuzOD_bwG",
        "scrolled": false,
        "colab": {
          "base_uri": "https://localhost:8080/",
          "height": 279
        },
        "outputId": "b7813406-9c1f-4207-e7a4-6d5fafe25efc"
      },
      "outputs": [
        {
          "output_type": "display_data",
          "data": {
            "text/plain": [
              "<Figure size 432x288 with 1 Axes>"
            ],
            "image/png": "[encoded data removed]"
          },
          "metadata": {
            "needs_background": "light"
          }
        }
      ],
      "source": [
        "# remove _____ & write the appropriate function name\n",
        "\n",
        "sns.scatterplot(x='Glucose',y='Insulin', data=pima)\n",
        "plt.show()"
      ]
    },
    {
      "cell_type": "markdown",
      "metadata": {
        "id": "YScevRlr_bwG"
      },
      "source": [
        "## Ans 16:\n",
        "\n",
        "From the above scatter plot we may say that there is a positive correlation between the Glucose variable and the Insuline variable. The more the concentration of the blood glucose, the more insulin."
      ]
    },
    {
      "cell_type": "markdown",
      "metadata": {
        "id": "NzGHKjXv_bwG"
      },
      "source": [
        "## Q 17. Plot the boxplot for the 'Age' variable. Are there outliers? (2 Marks)"
      ]
    },
    {
      "cell_type": "code",
      "execution_count": null,
      "metadata": {
        "id": "zmWjERJM_bwH",
        "colab": {
          "base_uri": "https://localhost:8080/",
          "height": 281
        },
        "outputId": "647ec68c-9bce-45a0-eea6-9ac585eb3fce"
      },
      "outputs": [
        {
          "output_type": "display_data",
          "data": {
            "text/plain": [
              "<Figure size 432x288 with 1 Axes>"
            ],
            "image/png": "[encoded data removed]"
          },
          "metadata": {
            "needs_background": "light"
          }
        }
      ],
      "source": [
        "# remove _____ & write the appropriate function and column name \n",
        "\n",
        "plt.boxplot(pima['Age'])\n",
        "\n",
        "plt.title('Boxplot of Age')\n",
        "plt.ylabel('Age')\n",
        "plt.show()"
      ]
    },
    {
      "cell_type": "markdown",
      "metadata": {
        "id": "ID7pFghO_bwH"
      },
      "source": [
        "## Ans 17:\n",
        "\n",
        "Yes, there are some outliers. More precisely: There are some outliers in the Age variable in the upper whisker above the 66.5 years old. These outliers correspond to a few women considered too old in contrast with the majority of their people."
      ]
    },
    {
      "cell_type": "code",
      "execution_count": null,
      "metadata": {
        "id": "12KvgWu-375f",
        "outputId": "0c2e67a6-a7b4-43d1-df19-8cc776c8a695"
      },
      "outputs": [
        {
          "name": "stdout",
          "output_type": "stream",
          "text": [
            "Outliers above 66.5 years old.\n"
          ]
        }
      ],
      "source": [
        "print(\"Outliers above\",  1.5*(pima.Age.quantile(0.75)-pima.Age.quantile(0.25))+pima.Age.quantile(0.75), \"years old.\")"
      ]
    },
    {
      "cell_type": "markdown",
      "metadata": {
        "id": "c3DkcG-x375h"
      },
      "source": [
        "The boxplot for the Age variable may also suggest (if all the age groups were well represented in the sample) that the Pima women died at a rather young age: three-quarters of them were below 40 years old, one half were below 30 years old, and it was rare to find ages beyond 67 years old."
      ]
    },
    {
      "cell_type": "markdown",
      "metadata": {
        "id": "M6A_z8kr_bwH"
      },
      "source": [
        "## Q18. Plot histograms for the 'Age' variable to understand the number of women in different age groups given whether they have diabetes or not. Explain both histograms and compare them. (3 Marks)"
      ]
    },
    {
      "cell_type": "code",
      "execution_count": null,
      "metadata": {
        "id": "5DpqaiXH_bwH",
        "colab": {
          "base_uri": "https://localhost:8080/",
          "height": 295
        },
        "outputId": "e4d2ef73-e52b-41d0-cff5-0f621b16eb69"
      },
      "outputs": [
        {
          "output_type": "display_data",
          "data": {
            "text/plain": [
              "<Figure size 432x288 with 1 Axes>"
            ],
            "image/png": "[encoded data removed]"
          },
          "metadata": {
            "needs_background": "light"
          }
        }
      ],
      "source": [
        "# remove _____ & write the appropriate function and column name\n",
        "\n",
        "freq, bins, patches = plt.hist(pima[pima['Outcome']==1]['Age'], bins = 5)\n",
        "# x coordinate for labels\n",
        "bin_centers = np.diff(bins)*0.5 + bins[:-1]\n",
        "\n",
        "n = 0\n",
        "for fr, x, patch in zip(freq, bin_centers, patches):\n",
        "    height = int(freq[n])\n",
        "    plt.annotate(\"{}\".format(height),\n",
        "                 xy = (x, height),             # top left corner of the histogram bar\n",
        "                 xytext = (0,0.2),             # offsetting label position above its bar\n",
        "                 textcoords = \"offset points\", # Offset (in points) from the *xy* value\n",
        "                 ha = 'center', va = 'bottom')\n",
        "    n = n+1\n",
        "\n",
        "plt.title('Distribution of Age for Women who has Diabetes')\n",
        "plt.xlabel('Age')\n",
        "plt.ylabel('Frequency')\n",
        "plt.show()"
      ]
    },
    {
      "cell_type": "code",
      "execution_count": null,
      "metadata": {
        "id": "ultPz45S_bwH",
        "colab": {
          "base_uri": "https://localhost:8080/",
          "height": 295
        },
        "outputId": "7b79ba3b-94d1-4f87-e6c6-98cb7a00a4d0"
      },
      "outputs": [
        {
          "output_type": "display_data",
          "data": {
            "text/plain": [
              "<Figure size 432x288 with 1 Axes>"
            ],
            "image/png": "[encoded data removed]"
          },
          "metadata": {
            "needs_background": "light"
          }
        }
      ],
      "source": [
        "# remove _____ & write the appropriate function and column name\n",
        "\n",
        "freq, bins, patches = plt.hist(pima[pima['Outcome']==0]['Age'], bins = 5)\n",
        "\n",
        "n = 0\n",
        "for fr, x, patch in zip(freq, bin_centers, patches):\n",
        "    height = int(freq[n])\n",
        "    plt.annotate(\"{}\".format(height),\n",
        "                 xy = (x, height),             # top left corner of the histogram bar\n",
        "                 xytext = (0,0.2),             # offsetting label position above its bar\n",
        "                 textcoords = \"offset points\", # Offset (in points) from the *xy* value\n",
        "                 ha = 'center', va = 'bottom')\n",
        "    n = n+1\n",
        "\n",
        "plt.title('Distribution of Age for Women who do not have Diabetes')\n",
        "plt.xlabel('Age')\n",
        "plt.ylabel('Frequency')\n",
        "plt.show()"
      ]
    },
    {
      "cell_type": "code",
      "execution_count": null,
      "metadata": {
        "colab": {
          "base_uri": "https://localhost:8080/"
        },
        "id": "qQ9a9RZT375n",
        "outputId": "0e6295ad-b2c8-458b-e019-3083291181e8"
      },
      "outputs": [
        {
          "output_type": "stream",
          "name": "stdout",
          "text": [
            "268  out of  768  women, which correspond to the  34.9 % of the women, have diabetes\n"
          ]
        }
      ],
      "source": [
        "print(sum(pima.Outcome), \" out of \", pima.Outcome.count(), \" women, which correspond to the \", \\\n",
        "      round(sum(pima.Outcome)/pima.Outcome.count()*100,1) ,\"% of the women, have diabetes\")"
      ]
    },
    {
      "cell_type": "markdown",
      "metadata": {
        "id": "D6iAgeF-_bwI"
      },
      "source": [
        "## Ans 18:\n",
        "\n",
        "- The first histogram shows that, in fact, the women of the Pima people have diabetes at an early age.\n",
        "- The maximum absolute frequency of women with diabetes is in the 20 to 30 age group. After that, the frequency lows gradually with age group.\n",
        "- The maximum frequency of the women who do not have diabetes is also in the 20 to 30 age group. After that, it starts to become more unlikely to have diabetes in higher age groups.\n",
        "- Both histograms are right-skewed. This means that the mode and the median are below the mean.\n",
        "- Comparing both histograms, the prevalence of diabetes is distributed among almost all age groups, while it is quite rare to find older than 30 years old women wihtout diabetes.\n"
      ]
    },
    {
      "cell_type": "markdown",
      "metadata": {
        "id": "EpTEjZ-q_bwI"
      },
      "source": [
        "## Q 19. What is the Interquartile Range of all the variables? Why is this used? Which plot visualizes the same? (2 Marks)"
      ]
    },
    {
      "cell_type": "code",
      "execution_count": null,
      "metadata": {
        "id": "JVOqHx1W_bwI",
        "colab": {
          "base_uri": "https://localhost:8080/"
        },
        "outputId": "cc9eb183-1b57-41c4-82be-806057fc3c44"
      },
      "outputs": [
        {
          "output_type": "stream",
          "name": "stdout",
          "text": [
            "Pregnancies                  5.0000\n",
            "Glucose                     40.5000\n",
            "BloodPressure               16.0000\n",
            "SkinThickness               12.0000\n",
            "Insulin                     48.2500\n",
            "BMI                          9.1000\n",
            "DiabetesPedigreeFunction     0.3825\n",
            "Age                         17.0000\n",
            "Outcome                      1.0000\n",
            "dtype: float64\n"
          ]
        }
      ],
      "source": [
        "# remove _____ & write the appropriate variable name\n",
        "\n",
        "Q1 = pima.quantile(0.25)\n",
        "Q3 = pima.quantile(0.75)\n",
        "IQR = Q3 - Q1\n",
        "print(IQR)"
      ]
    },
    {
      "cell_type": "markdown",
      "metadata": {
        "id": "2vLWPyd-_bwI"
      },
      "source": [
        "## Ans 19:\n",
        "\n",
        "- The Interquartile Range measures how much the data is spread and is used to identify outliers with the limits $1.5IQR+Q_3$ for the upper outliers and $-1.5IQR+Q_1$ for the lower outliers. The Interquartile range also does not change with some extreme values. \n",
        "- The Interquartile Range can be plotted using a boxplot and it is represented by the height of the box in the boxplot.  "
      ]
    },
    {
      "cell_type": "markdown",
      "metadata": {
        "id": "KjldKKMs_bwI"
      },
      "source": [
        "## Q 20. Find and visualize the correlation matrix. Write your observations from the plot. (3 Marks)"
      ]
    },
    {
      "cell_type": "code",
      "execution_count": null,
      "metadata": {
        "id": "dvBVRRM8_bwI",
        "colab": {
          "base_uri": "https://localhost:8080/",
          "height": 300
        },
        "outputId": "63938b2c-be8f-4b67-fa7e-764df9b244ad"
      },
      "outputs": [
        {
          "output_type": "execute_result",
          "data": {
            "text/plain": [
              "                          Pregnancies   Glucose  BloodPressure  SkinThickness  \\\n",
              "Pregnancies                  1.000000  0.128022       0.208987       0.009393   \n",
              "Glucose                      0.128022  1.000000       0.219765       0.158060   \n",
              "BloodPressure                0.208987  0.219765       1.000000       0.130403   \n",
              "SkinThickness                0.009393  0.158060       0.130403       1.000000   \n",
              "Insulin                     -0.018780  0.396137       0.010492       0.245410   \n",
              "BMI                          0.021546  0.231464       0.281222       0.532552   \n",
              "DiabetesPedigreeFunction    -0.033523  0.137158       0.000471       0.157196   \n",
              "Age                          0.544341  0.266673       0.326791       0.020582   \n",
              "\n",
              "                           Insulin       BMI  DiabetesPedigreeFunction  \\\n",
              "Pregnancies              -0.018780  0.021546                 -0.033523   \n",
              "Glucose                   0.396137  0.231464                  0.137158   \n",
              "BloodPressure             0.010492  0.281222                  0.000471   \n",
              "SkinThickness             0.245410  0.532552                  0.157196   \n",
              "Insulin                   1.000000  0.189919                  0.158243   \n",
              "BMI                       0.189919  1.000000                  0.153508   \n",
              "DiabetesPedigreeFunction  0.158243  0.153508                  1.000000   \n",
              "Age                       0.037676  0.025748                  0.033561   \n",
              "\n",
              "                               Age  \n",
              "Pregnancies               0.544341  \n",
              "Glucose                   0.266673  \n",
              "BloodPressure             0.326791  \n",
              "SkinThickness             0.020582  \n",
              "Insulin                   0.037676  \n",
              "BMI                       0.025748  \n",
              "DiabetesPedigreeFunction  0.033561  \n",
              "Age                       1.000000  "
            ],
            "text/html": [
              "\n",
              "  <div id=\"df-cdeda0ab-5f40-4c12-8399-96eeba50b915\">\n",
              "    <div class=\"colab-df-container\">\n",
              "      <div>\n",
              "<style scoped>\n",
              "    .dataframe tbody tr th:only-of-type {\n",
              "        vertical-align: middle;\n",
              "    }\n",
              "\n",
              "    .dataframe tbody tr th {\n",
              "        vertical-align: top;\n",
              "    }\n",
              "\n",
              "    .dataframe thead th {\n",
              "        text-align: right;\n",
              "    }\n",
              "</style>\n",
              "<table border=\"1\" class=\"dataframe\">\n",
              "  <thead>\n",
              "    <tr style=\"text-align: right;\">\n",
              "      <th></th>\n",
              "      <th>Pregnancies</th>\n",
              "      <th>Glucose</th>\n",
              "      <th>BloodPressure</th>\n",
              "      <th>SkinThickness</th>\n",
              "      <th>Insulin</th>\n",
              "      <th>BMI</th>\n",
              "      <th>DiabetesPedigreeFunction</th>\n",
              "      <th>Age</th>\n",
              "    </tr>\n",
              "  </thead>\n",
              "  <tbody>\n",
              "    <tr>\n",
              "      <th>Pregnancies</th>\n",
              "      <td>1.000000</td>\n",
              "      <td>0.128022</td>\n",
              "      <td>0.208987</td>\n",
              "      <td>0.009393</td>\n",
              "      <td>-0.018780</td>\n",
              "      <td>0.021546</td>\n",
              "      <td>-0.033523</td>\n",
              "      <td>0.544341</td>\n",
              "    </tr>\n",
              "    <tr>\n",
              "      <th>Glucose</th>\n",
              "      <td>0.128022</td>\n",
              "      <td>1.000000</td>\n",
              "      <td>0.219765</td>\n",
              "      <td>0.158060</td>\n",
              "      <td>0.396137</td>\n",
              "      <td>0.231464</td>\n",
              "      <td>0.137158</td>\n",
              "      <td>0.266673</td>\n",
              "    </tr>\n",
              "    <tr>\n",
              "      <th>BloodPressure</th>\n",
              "      <td>0.208987</td>\n",
              "      <td>0.219765</td>\n",
              "      <td>1.000000</td>\n",
              "      <td>0.130403</td>\n",
              "      <td>0.010492</td>\n",
              "      <td>0.281222</td>\n",
              "      <td>0.000471</td>\n",
              "      <td>0.326791</td>\n",
              "    </tr>\n",
              "    <tr>\n",
              "      <th>SkinThickness</th>\n",
              "      <td>0.009393</td>\n",
              "      <td>0.158060</td>\n",
              "      <td>0.130403</td>\n",
              "      <td>1.000000</td>\n",
              "      <td>0.245410</td>\n",
              "      <td>0.532552</td>\n",
              "      <td>0.157196</td>\n",
              "      <td>0.020582</td>\n",
              "    </tr>\n",
              "    <tr>\n",
              "      <th>Insulin</th>\n",
              "      <td>-0.018780</td>\n",
              "      <td>0.396137</td>\n",
              "      <td>0.010492</td>\n",
              "      <td>0.245410</td>\n",
              "      <td>1.000000</td>\n",
              "      <td>0.189919</td>\n",
              "      <td>0.158243</td>\n",
              "      <td>0.037676</td>\n",
              "    </tr>\n",
              "    <tr>\n",
              "      <th>BMI</th>\n",
              "      <td>0.021546</td>\n",
              "      <td>0.231464</td>\n",
              "      <td>0.281222</td>\n",
              "      <td>0.532552</td>\n",
              "      <td>0.189919</td>\n",
              "      <td>1.000000</td>\n",
              "      <td>0.153508</td>\n",
              "      <td>0.025748</td>\n",
              "    </tr>\n",
              "    <tr>\n",
              "      <th>DiabetesPedigreeFunction</th>\n",
              "      <td>-0.033523</td>\n",
              "      <td>0.137158</td>\n",
              "      <td>0.000471</td>\n",
              "      <td>0.157196</td>\n",
              "      <td>0.158243</td>\n",
              "      <td>0.153508</td>\n",
              "      <td>1.000000</td>\n",
              "      <td>0.033561</td>\n",
              "    </tr>\n",
              "    <tr>\n",
              "      <th>Age</th>\n",
              "      <td>0.544341</td>\n",
              "      <td>0.266673</td>\n",
              "      <td>0.326791</td>\n",
              "      <td>0.020582</td>\n",
              "      <td>0.037676</td>\n",
              "      <td>0.025748</td>\n",
              "      <td>0.033561</td>\n",
              "      <td>1.000000</td>\n",
              "    </tr>\n",
              "  </tbody>\n",
              "</table>\n",
              "</div>\n",
              "      <button class=\"colab-df-convert\" onclick=\"convertToInteractive('df-cdeda0ab-5f40-4c12-8399-96eeba50b915')\"\n",
              "              title=\"Convert this dataframe to an interactive table.\"\n",
              "              style=\"display:none;\">\n",
              "        \n",
              "  <svg xmlns=\"http://www.w3.org/2000/svg\" height=\"24px\"viewBox=\"0 0 24 24\"\n",
              "       width=\"24px\">\n",
              "    <path d=\"M0 0h24v24H0V0z\" fill=\"none\"/>\n",
              "    <path d=\"M18.56 5.44l.94 2.06.94-2.06 2.06-.94-2.06-.94-.94-2.06-.94 2.06-2.06.94zm-11 1L8.5 8.5l.94-2.06 2.06-.94-2.06-.94L8.5 2.5l-.94 2.06-2.06.94zm10 10l.94 2.06.94-2.06 2.06-.94-2.06-.94-.94-2.06-.94 2.06-2.06.94z\"/><path d=\"M17.41 7.96l-1.37-1.37c-.4-.4-.92-.59-1.43-.59-.52 0-1.04.2-1.43.59L10.3 9.45l-7.72 7.72c-.78.78-.78 2.05 0 2.83L4 21.41c.39.39.9.59 1.41.59.51 0 1.02-.2 1.41-.59l7.78-7.78 2.81-2.81c.8-.78.8-2.07 0-2.86zM5.41 20L4 18.59l7.72-7.72 1.47 1.35L5.41 20z\"/>\n",
              "  </svg>\n",
              "      </button>\n",
              "      \n",
              "  <style>\n",
              "    .colab-df-container {\n",
              "      display:flex;\n",
              "      flex-wrap:wrap;\n",
              "      gap: 12px;\n",
              "    }\n",
              "\n",
              "    .colab-df-convert {\n",
              "      background-color: #E8F0FE;\n",
              "      border: none;\n",
              "      border-radius: 50%;\n",
              "      cursor: pointer;\n",
              "      display: none;\n",
              "      fill: #1967D2;\n",
              "      height: 32px;\n",
              "      padding: 0 0 0 0;\n",
              "      width: 32px;\n",
              "    }\n",
              "\n",
              "    .colab-df-convert:hover {\n",
              "      background-color: #E2EBFA;\n",
              "      box-shadow: 0px 1px 2px rgba(60, 64, 67, 0.3), 0px 1px 3px 1px rgba(60, 64, 67, 0.15);\n",
              "      fill: #174EA6;\n",
              "    }\n",
              "\n",
              "    [theme=dark] .colab-df-convert {\n",
              "      background-color: #3B4455;\n",
              "      fill: #D2E3FC;\n",
              "    }\n",
              "\n",
              "    [theme=dark] .colab-df-convert:hover {\n",
              "      background-color: #434B5C;\n",
              "      box-shadow: 0px 1px 3px 1px rgba(0, 0, 0, 0.15);\n",
              "      filter: drop-shadow(0px 1px 2px rgba(0, 0, 0, 0.3));\n",
              "      fill: #FFFFFF;\n",
              "    }\n",
              "  </style>\n",
              "\n",
              "      <script>\n",
              "        const buttonEl =\n",
              "          document.querySelector('#df-cdeda0ab-5f40-4c12-8399-96eeba50b915 button.colab-df-convert');\n",
              "        buttonEl.style.display =\n",
              "          google.colab.kernel.accessAllowed ? 'block' : 'none';\n",
              "\n",
              "        async function convertToInteractive(key) {\n",
              "          const element = document.querySelector('#df-cdeda0ab-5f40-4c12-8399-96eeba50b915');\n",
              "          const dataTable =\n",
              "            await google.colab.kernel.invokeFunction('convertToInteractive',\n",
              "                                                     [key], {});\n",
              "          if (!dataTable) return;\n",
              "\n",
              "          const docLinkHtml = 'Like what you see? Visit the ' +\n",
              "            '<a target=\"_blank\" href=https://colab.research.google.com/notebooks/data_table.ipynb>data table notebook</a>'\n",
              "            + ' to learn more about interactive tables.';\n",
              "          element.innerHTML = '';\n",
              "          dataTable['output_type'] = 'display_data';\n",
              "          await google.colab.output.renderOutput(dataTable, element);\n",
              "          const docLink = document.createElement('div');\n",
              "          docLink.innerHTML = docLinkHtml;\n",
              "          element.appendChild(docLink);\n",
              "        }\n",
              "      </script>\n",
              "    </div>\n",
              "  </div>\n",
              "  "
            ]
          },
          "metadata": {},
          "execution_count": 27
        }
      ],
      "source": [
        "# remove _____ & write the appropriate function name and run the code\n",
        "\n",
        "corr_matrix = pima.iloc[:,0:8].corr()\n",
        "\n",
        "corr_matrix"
      ]
    },
    {
      "cell_type": "code",
      "execution_count": null,
      "metadata": {
        "id": "Ju8Gymxw_bwJ",
        "outputId": "a49d4766-f470-4c7d-d7dc-e311f4987d12"
      },
      "outputs": [
        {
          "data": {
            "image/png": "[encoded data removed]",
            "text/plain": [
              "<Figure size 576x576 with 2 Axes>"
            ]
          },
          "metadata": {
            "needs_background": "light"
          },
          "output_type": "display_data"
        }
      ],
      "source": [
        "# remove _____ & write the appropriate function name\n",
        "\n",
        "plt.figure(figsize=(8,8))\n",
        "sns.heatmap(corr_matrix, annot = True)\n",
        "\n",
        "# display the plot\n",
        "plt.show()"
      ]
    },
    {
      "cell_type": "markdown",
      "metadata": {
        "id": "m3AKvSrM_bwJ"
      },
      "source": [
        "## Ans 20:\n",
        "\n",
        "From the heatmap above we may say that:\n",
        "\n",
        "- There is a rather strong positive correlation between the following variables: Age and Pregnancies, SkinThickness and BMI, Glucose and Insulin, and Age and BloodPressure. However, those correlations are quite natural and do not give too much information for the study itself. It is supposed to have more children as people get older, thicker skin with a higher body mass index, high blood pressure as people get older and more insulin as there is more glucose in the blood.\n",
        "- There are other less obvious positive associations and a little weaker. Such is the case of Blood Pressure and Glucose, Pregnancies and Glucose that may indicate a clinical underlying phenomenon involved in the research.\n",
        "- The variables DiabetesPedegreeFunction, Glucose, Insulin, BMI, and insulin have a weak positive correlation among them suggesting they may be the principal variables explaining the disease.\n",
        "- Neither Age, Pregnancies, and Blood Pressure seem to be strongly correlated with all the common variables associated with diabetes."
      ]
    }
  ]
}
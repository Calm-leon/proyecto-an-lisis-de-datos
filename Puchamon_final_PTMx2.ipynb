{
  "nbformat": 4,
  "nbformat_minor": 0,
  "metadata": {
    "colab": {
      "provenance": [],
      "collapsed_sections": [
        "MUUBdv5Bc746",
        "pFxAl3h9gJ7q",
        "16444MkYgTlK",
        "cvwYBTPDgXfo",
        "XL5O8gGMgXrZ",
        "q3O-GDfXgXwl",
        "3rXLpjSHhLst",
        "Fjd4VAAFn-gz",
        "JCJjElB3hZVy",
        "WRVvbUnnlbDM",
        "YtKV3MtZlkOI",
        "EsePwRuQl0Xv",
        "USMzyNJkl0m3",
        "enM13EeXl0rt",
        "-q3juC4dl0wb",
        "RZZobuUwl06E",
        "rhhQNbRLmeZn",
        "y9m4t07DmehE",
        "M2dFbqIgmenQ"
      ],
      "include_colab_link": true
    },
    "kernelspec": {
      "name": "python3",
      "display_name": "Python 3"
    },
    "language_info": {
      "name": "python"
    }
  },
  "cells": [
    {
      "cell_type": "markdown",
      "metadata": {
        "id": "view-in-github",
        "colab_type": "text"
      },
      "source": [
        "<a href=\"https://colab.research.google.com/github/Calm-leon/proyecto-an-lisis-de-datos/blob/main/Puchamon_final_PTMx2.ipynb\" target=\"_parent\"><img src=\"https://colab.research.google.com/assets/colab-badge.svg\" alt=\"Open In Colab\"/></a>"
      ]
    },
    {
      "cell_type": "markdown",
      "metadata": {
        "id": "BL_LfsVn_bv1"
      },
      "source": [
        "# Fundamentos del Proyecto de Ciencia de Datos: Análisis de Pokémon Legendario.\n",
        "\n",
        "---------------\n",
        "## Contexto\n",
        "---------------\n",
        "\n",
        "Dentro del Mundo Pokémon, se considera legendario aquel Pokémon generalmente raro, con poderes sobrenaturales y que destacan sobre el resto. La mayoría de estos Pokémon forman parte del proceso de creación del Mundo y han intervenido de una u otra manera en él. Así mismo, suelen ser realmente difíciles de avistar y mucho más todavía de capturar; pues raramente se muestran ante los humanos.  \n",
        "\n",
        "Hace un tiempo se recolectaron los datos de las estadisticas de los 802 pokemones conocidos en ese entonces.\n",
        "\n",
        "\n",
        "-----------------\n",
        "## Objectivo\n",
        "-----------------\n",
        "\n",
        "Analizar las habilidades con las que debe contar un Pokémon para que sea considerado legendario. \n",
        "Existen pokemones que se comparan a la fuerza de los pokemones legendarios pero ¿Por qué estos no son legendarios?.\n"
      ]
    },
    {
      "cell_type": "markdown",
      "metadata": {
        "id": "vVR3oeVo_bv5"
      },
      "source": [
        "## P 1: Importación de bibliotecas a usar."
      ]
    },
    {
      "cell_type": "code",
      "execution_count": 357,
      "metadata": {
        "id": "sQPI1Bzz_bv5"
      },
      "outputs": [],
      "source": [
        "import numpy as np # Crea arreglos de grandes dimensiones y contiene funciones matemátematicas de alto nivel. \n",
        "import pandas as pd # Nos facilita la manipulación, tratamiento y análisis de los datos.\n",
        "import seaborn as sns # Visualización de los datos.\n",
        "import matplotlib.pyplot as plt # Trazado para graficos en dos dimenciones.\n",
        "from matplotlib.ticker import PercentFormatter # Da formato de porcentajes a los graficos.\n",
        "import scipy.stats as stats # Distribuciones estadisticas y .stats se utiliza para analizar la distribución normal.\n",
        "%matplotlib inline \n",
        "\n",
        "## agregue este paqueteeeeeeeeeeeeeeeeeeeeeeeeeeeeeeeeeeeeeeeeeeeee\n",
        "import math"
      ]
    },
    {
      "cell_type": "markdown",
      "metadata": {
        "id": "mMa-2YFV_bv7"
      },
      "source": [
        "## Respuesta 1:\n",
        "\n",
        "- **NumPy** es una librería esencial para el análisis de datos y el cálculo científico. Hace arreglos manipulables de grandes dimensiones y contiene un gran número de funciones matemátematicas de alto nivel.\n",
        "Suele importarse con el alias np de la siguiente forma: `import numpy as np`. \n",
        "\n",
        "- **Pandas** es la librería más utilizada para el análisis, tratamiento (leer y escribir datos en diferentes formatos) y manipulación de datos, sus estructuras básicas son marcos de datos y series. Se basa en NumPy y generalmente se importa con el alias pd como `import pandas as pd`.\n",
        "\n",
        "- **Seaborn** es una librería que funciona como una interfaz para Matplotlib y está integrada con pandas. Se utiliza para la visualización de datos con la creación de trazados estadiaticos. Se importa normalmente con el alias sns de la siguiente forma: `import seaborn as sns`. \n",
        "\n",
        "- **Matplotlib** es una librería para crear diagramas matemáticos, estadísticos y científicos. La colección matplotlib.pyplot emula la forma de hacer las cosas de Matlab. Se importa con el alias plt como `import matplotlib.pyplot as plt` y el comando `%matplotlib inline` muestra los gráficos dentro del cuaderno Jupyter.\n",
        "\n",
        "- **Scipy.stats**"
      ]
    },
    {
      "cell_type": "code",
      "source": [
        "#Abrimos la base de datos que nos ha proporcionado el Profesor Oak.\n",
        "Puchamon =  pd.read_csv(\"https://raw.githubusercontent.com/Calm-leon/proyecto-an-lisis-de-datos/main/Puchamon.csv\")\n",
        "Puchamon"
      ],
      "metadata": {
        "id": "l30qEnIpMD-G",
        "colab": {
          "base_uri": "https://localhost:8080/",
          "height": 0
        },
        "outputId": "8b31378e-ae5c-4989-9dba-db9043e68295"
      },
      "execution_count": 358,
      "outputs": [
        {
          "output_type": "execute_result",
          "data": {
            "text/plain": [
              "     Unnamed: 0  pokedex_number        name  attack  defense  height_m   hp  \\\n",
              "0             0               1   Bulbasaur      49       49       0.7   45   \n",
              "1             1               2     Ivysaur      62       63       1.0   60   \n",
              "2             2               3    Venusaur     100      123       2.0   80   \n",
              "3             3               4  Charmander      52       43       0.6   39   \n",
              "4             4               5  Charmeleon      64       58       1.1   58   \n",
              "..          ...             ...         ...     ...      ...       ...  ...   \n",
              "797         797             798     Kartana     181      131       0.3   59   \n",
              "798         798             799    Guzzlord     101       53       5.5  223   \n",
              "799         799             800    Necrozma     107      101       2.4   97   \n",
              "800         800             801    Magearna      95      115       1.0   80   \n",
              "801         801             802   Camilomon     100      100       0.6  100   \n",
              "\n",
              "     percentage_male  sp_attack  sp_defense  speed     type  weight_kg  \\\n",
              "0               88.1         65          65     45    grass        6.9   \n",
              "1               88.1         80          80     60    grass       13.0   \n",
              "2               88.1        122         120     80    grass      100.0   \n",
              "3               88.1         60          50     65     fire        8.5   \n",
              "4               88.1         80          65     80     fire       19.0   \n",
              "..               ...        ...         ...    ...      ...        ...   \n",
              "797              NaN         59          31    109    grass        0.1   \n",
              "798              NaN         97          53     43     dark      888.0   \n",
              "799              NaN        127          89     79  psychic      230.0   \n",
              "800              NaN        130         115     65    steel       80.5   \n",
              "801              0.0        100         100    100    grass        5.0   \n",
              "\n",
              "     generation  is_legendary  \n",
              "0             1             0  \n",
              "1             1             0  \n",
              "2             1             0  \n",
              "3             1             0  \n",
              "4             1             0  \n",
              "..          ...           ...  \n",
              "797           7             0  \n",
              "798           7             1  \n",
              "799           7             1  \n",
              "800           7             1  \n",
              "801           1             1  \n",
              "\n",
              "[802 rows x 15 columns]"
            ],
            "text/html": [
              "\n",
              "  <div id=\"df-a2bcba7b-f15d-4280-ba80-293f33f819ca\">\n",
              "    <div class=\"colab-df-container\">\n",
              "      <div>\n",
              "<style scoped>\n",
              "    .dataframe tbody tr th:only-of-type {\n",
              "        vertical-align: middle;\n",
              "    }\n",
              "\n",
              "    .dataframe tbody tr th {\n",
              "        vertical-align: top;\n",
              "    }\n",
              "\n",
              "    .dataframe thead th {\n",
              "        text-align: right;\n",
              "    }\n",
              "</style>\n",
              "<table border=\"1\" class=\"dataframe\">\n",
              "  <thead>\n",
              "    <tr style=\"text-align: right;\">\n",
              "      <th></th>\n",
              "      <th>Unnamed: 0</th>\n",
              "      <th>pokedex_number</th>\n",
              "      <th>name</th>\n",
              "      <th>attack</th>\n",
              "      <th>defense</th>\n",
              "      <th>height_m</th>\n",
              "      <th>hp</th>\n",
              "      <th>percentage_male</th>\n",
              "      <th>sp_attack</th>\n",
              "      <th>sp_defense</th>\n",
              "      <th>speed</th>\n",
              "      <th>type</th>\n",
              "      <th>weight_kg</th>\n",
              "      <th>generation</th>\n",
              "      <th>is_legendary</th>\n",
              "    </tr>\n",
              "  </thead>\n",
              "  <tbody>\n",
              "    <tr>\n",
              "      <th>0</th>\n",
              "      <td>0</td>\n",
              "      <td>1</td>\n",
              "      <td>Bulbasaur</td>\n",
              "      <td>49</td>\n",
              "      <td>49</td>\n",
              "      <td>0.7</td>\n",
              "      <td>45</td>\n",
              "      <td>88.1</td>\n",
              "      <td>65</td>\n",
              "      <td>65</td>\n",
              "      <td>45</td>\n",
              "      <td>grass</td>\n",
              "      <td>6.9</td>\n",
              "      <td>1</td>\n",
              "      <td>0</td>\n",
              "    </tr>\n",
              "    <tr>\n",
              "      <th>1</th>\n",
              "      <td>1</td>\n",
              "      <td>2</td>\n",
              "      <td>Ivysaur</td>\n",
              "      <td>62</td>\n",
              "      <td>63</td>\n",
              "      <td>1.0</td>\n",
              "      <td>60</td>\n",
              "      <td>88.1</td>\n",
              "      <td>80</td>\n",
              "      <td>80</td>\n",
              "      <td>60</td>\n",
              "      <td>grass</td>\n",
              "      <td>13.0</td>\n",
              "      <td>1</td>\n",
              "      <td>0</td>\n",
              "    </tr>\n",
              "    <tr>\n",
              "      <th>2</th>\n",
              "      <td>2</td>\n",
              "      <td>3</td>\n",
              "      <td>Venusaur</td>\n",
              "      <td>100</td>\n",
              "      <td>123</td>\n",
              "      <td>2.0</td>\n",
              "      <td>80</td>\n",
              "      <td>88.1</td>\n",
              "      <td>122</td>\n",
              "      <td>120</td>\n",
              "      <td>80</td>\n",
              "      <td>grass</td>\n",
              "      <td>100.0</td>\n",
              "      <td>1</td>\n",
              "      <td>0</td>\n",
              "    </tr>\n",
              "    <tr>\n",
              "      <th>3</th>\n",
              "      <td>3</td>\n",
              "      <td>4</td>\n",
              "      <td>Charmander</td>\n",
              "      <td>52</td>\n",
              "      <td>43</td>\n",
              "      <td>0.6</td>\n",
              "      <td>39</td>\n",
              "      <td>88.1</td>\n",
              "      <td>60</td>\n",
              "      <td>50</td>\n",
              "      <td>65</td>\n",
              "      <td>fire</td>\n",
              "      <td>8.5</td>\n",
              "      <td>1</td>\n",
              "      <td>0</td>\n",
              "    </tr>\n",
              "    <tr>\n",
              "      <th>4</th>\n",
              "      <td>4</td>\n",
              "      <td>5</td>\n",
              "      <td>Charmeleon</td>\n",
              "      <td>64</td>\n",
              "      <td>58</td>\n",
              "      <td>1.1</td>\n",
              "      <td>58</td>\n",
              "      <td>88.1</td>\n",
              "      <td>80</td>\n",
              "      <td>65</td>\n",
              "      <td>80</td>\n",
              "      <td>fire</td>\n",
              "      <td>19.0</td>\n",
              "      <td>1</td>\n",
              "      <td>0</td>\n",
              "    </tr>\n",
              "    <tr>\n",
              "      <th>...</th>\n",
              "      <td>...</td>\n",
              "      <td>...</td>\n",
              "      <td>...</td>\n",
              "      <td>...</td>\n",
              "      <td>...</td>\n",
              "      <td>...</td>\n",
              "      <td>...</td>\n",
              "      <td>...</td>\n",
              "      <td>...</td>\n",
              "      <td>...</td>\n",
              "      <td>...</td>\n",
              "      <td>...</td>\n",
              "      <td>...</td>\n",
              "      <td>...</td>\n",
              "      <td>...</td>\n",
              "    </tr>\n",
              "    <tr>\n",
              "      <th>797</th>\n",
              "      <td>797</td>\n",
              "      <td>798</td>\n",
              "      <td>Kartana</td>\n",
              "      <td>181</td>\n",
              "      <td>131</td>\n",
              "      <td>0.3</td>\n",
              "      <td>59</td>\n",
              "      <td>NaN</td>\n",
              "      <td>59</td>\n",
              "      <td>31</td>\n",
              "      <td>109</td>\n",
              "      <td>grass</td>\n",
              "      <td>0.1</td>\n",
              "      <td>7</td>\n",
              "      <td>0</td>\n",
              "    </tr>\n",
              "    <tr>\n",
              "      <th>798</th>\n",
              "      <td>798</td>\n",
              "      <td>799</td>\n",
              "      <td>Guzzlord</td>\n",
              "      <td>101</td>\n",
              "      <td>53</td>\n",
              "      <td>5.5</td>\n",
              "      <td>223</td>\n",
              "      <td>NaN</td>\n",
              "      <td>97</td>\n",
              "      <td>53</td>\n",
              "      <td>43</td>\n",
              "      <td>dark</td>\n",
              "      <td>888.0</td>\n",
              "      <td>7</td>\n",
              "      <td>1</td>\n",
              "    </tr>\n",
              "    <tr>\n",
              "      <th>799</th>\n",
              "      <td>799</td>\n",
              "      <td>800</td>\n",
              "      <td>Necrozma</td>\n",
              "      <td>107</td>\n",
              "      <td>101</td>\n",
              "      <td>2.4</td>\n",
              "      <td>97</td>\n",
              "      <td>NaN</td>\n",
              "      <td>127</td>\n",
              "      <td>89</td>\n",
              "      <td>79</td>\n",
              "      <td>psychic</td>\n",
              "      <td>230.0</td>\n",
              "      <td>7</td>\n",
              "      <td>1</td>\n",
              "    </tr>\n",
              "    <tr>\n",
              "      <th>800</th>\n",
              "      <td>800</td>\n",
              "      <td>801</td>\n",
              "      <td>Magearna</td>\n",
              "      <td>95</td>\n",
              "      <td>115</td>\n",
              "      <td>1.0</td>\n",
              "      <td>80</td>\n",
              "      <td>NaN</td>\n",
              "      <td>130</td>\n",
              "      <td>115</td>\n",
              "      <td>65</td>\n",
              "      <td>steel</td>\n",
              "      <td>80.5</td>\n",
              "      <td>7</td>\n",
              "      <td>1</td>\n",
              "    </tr>\n",
              "    <tr>\n",
              "      <th>801</th>\n",
              "      <td>801</td>\n",
              "      <td>802</td>\n",
              "      <td>Camilomon</td>\n",
              "      <td>100</td>\n",
              "      <td>100</td>\n",
              "      <td>0.6</td>\n",
              "      <td>100</td>\n",
              "      <td>0.0</td>\n",
              "      <td>100</td>\n",
              "      <td>100</td>\n",
              "      <td>100</td>\n",
              "      <td>grass</td>\n",
              "      <td>5.0</td>\n",
              "      <td>1</td>\n",
              "      <td>1</td>\n",
              "    </tr>\n",
              "  </tbody>\n",
              "</table>\n",
              "<p>802 rows × 15 columns</p>\n",
              "</div>\n",
              "      <button class=\"colab-df-convert\" onclick=\"convertToInteractive('df-a2bcba7b-f15d-4280-ba80-293f33f819ca')\"\n",
              "              title=\"Convert this dataframe to an interactive table.\"\n",
              "              style=\"display:none;\">\n",
              "        \n",
              "  <svg xmlns=\"http://www.w3.org/2000/svg\" height=\"24px\"viewBox=\"0 0 24 24\"\n",
              "       width=\"24px\">\n",
              "    <path d=\"M0 0h24v24H0V0z\" fill=\"none\"/>\n",
              "    <path d=\"M18.56 5.44l.94 2.06.94-2.06 2.06-.94-2.06-.94-.94-2.06-.94 2.06-2.06.94zm-11 1L8.5 8.5l.94-2.06 2.06-.94-2.06-.94L8.5 2.5l-.94 2.06-2.06.94zm10 10l.94 2.06.94-2.06 2.06-.94-2.06-.94-.94-2.06-.94 2.06-2.06.94z\"/><path d=\"M17.41 7.96l-1.37-1.37c-.4-.4-.92-.59-1.43-.59-.52 0-1.04.2-1.43.59L10.3 9.45l-7.72 7.72c-.78.78-.78 2.05 0 2.83L4 21.41c.39.39.9.59 1.41.59.51 0 1.02-.2 1.41-.59l7.78-7.78 2.81-2.81c.8-.78.8-2.07 0-2.86zM5.41 20L4 18.59l7.72-7.72 1.47 1.35L5.41 20z\"/>\n",
              "  </svg>\n",
              "      </button>\n",
              "      \n",
              "  <style>\n",
              "    .colab-df-container {\n",
              "      display:flex;\n",
              "      flex-wrap:wrap;\n",
              "      gap: 12px;\n",
              "    }\n",
              "\n",
              "    .colab-df-convert {\n",
              "      background-color: #E8F0FE;\n",
              "      border: none;\n",
              "      border-radius: 50%;\n",
              "      cursor: pointer;\n",
              "      display: none;\n",
              "      fill: #1967D2;\n",
              "      height: 32px;\n",
              "      padding: 0 0 0 0;\n",
              "      width: 32px;\n",
              "    }\n",
              "\n",
              "    .colab-df-convert:hover {\n",
              "      background-color: #E2EBFA;\n",
              "      box-shadow: 0px 1px 2px rgba(60, 64, 67, 0.3), 0px 1px 3px 1px rgba(60, 64, 67, 0.15);\n",
              "      fill: #174EA6;\n",
              "    }\n",
              "\n",
              "    [theme=dark] .colab-df-convert {\n",
              "      background-color: #3B4455;\n",
              "      fill: #D2E3FC;\n",
              "    }\n",
              "\n",
              "    [theme=dark] .colab-df-convert:hover {\n",
              "      background-color: #434B5C;\n",
              "      box-shadow: 0px 1px 3px 1px rgba(0, 0, 0, 0.15);\n",
              "      filter: drop-shadow(0px 1px 2px rgba(0, 0, 0, 0.3));\n",
              "      fill: #FFFFFF;\n",
              "    }\n",
              "  </style>\n",
              "\n",
              "      <script>\n",
              "        const buttonEl =\n",
              "          document.querySelector('#df-a2bcba7b-f15d-4280-ba80-293f33f819ca button.colab-df-convert');\n",
              "        buttonEl.style.display =\n",
              "          google.colab.kernel.accessAllowed ? 'block' : 'none';\n",
              "\n",
              "        async function convertToInteractive(key) {\n",
              "          const element = document.querySelector('#df-a2bcba7b-f15d-4280-ba80-293f33f819ca');\n",
              "          const dataTable =\n",
              "            await google.colab.kernel.invokeFunction('convertToInteractive',\n",
              "                                                     [key], {});\n",
              "          if (!dataTable) return;\n",
              "\n",
              "          const docLinkHtml = 'Like what you see? Visit the ' +\n",
              "            '<a target=\"_blank\" href=https://colab.research.google.com/notebooks/data_table.ipynb>data table notebook</a>'\n",
              "            + ' to learn more about interactive tables.';\n",
              "          element.innerHTML = '';\n",
              "          dataTable['output_type'] = 'display_data';\n",
              "          await google.colab.output.renderOutput(dataTable, element);\n",
              "          const docLink = document.createElement('div');\n",
              "          docLink.innerHTML = docLinkHtml;\n",
              "          element.appendChild(docLink);\n",
              "        }\n",
              "      </script>\n",
              "    </div>\n",
              "  </div>\n",
              "  "
            ]
          },
          "metadata": {},
          "execution_count": 358
        }
      ]
    },
    {
      "cell_type": "markdown",
      "source": [
        "-------------------------\n",
        "## Diccionaro del Conjunto de Datos según la Pokedex.\n",
        "-------------------------\n",
        "\n",
        "El conjunto de datos tiene la siguiente información: \n",
        "\n",
        "* pokedex_number: El número del Pokémon en la enciclopedia *Pokedex*.\n",
        "* name: Nombre de la especie del Pokémon según su evolución.\n",
        "* attack: Los puntos de vida que quita al dar un ataque.\n",
        "* defense: Representa los puntos de vida que mantiene el Pokémon al recibir un ataque.\n",
        "* height_m: Altura de la especie del Pokémon según su evolución (m).\n",
        "* hp: Puntos de vida.\n",
        "* percentage_male: Porcentaje que regula la probabilidad de que al nacer el Pokémon sea de género masculino.\n",
        "* sp_attack: Representa la velocidad con la que el Pokémon da un ataque. \n",
        "* sp_defense: Representa la velocidad con la que el Pokémon anula los puntos de vida del ataque enemigo.\n",
        "* speed: Representa la velocidad con la que el Pokémon se desplaza en combate. \n",
        "* type: Tipo de Pokémon. \n",
        "* weight_kg: Peso del Pokémon (kg). \n",
        "* generation: Cada que hay una gran ola de nuevos Pokemones la \"Pokedex\" es actualizada. La generación indica en qué actualización se incorpora cada Pokémon.\n",
        "* is_legendary: ¿El Pokémon se considera legendario? (bit,0:no y 1:si)."
      ],
      "metadata": {
        "id": "UvgA7ESkxPRP"
      }
    },
    {
      "cell_type": "markdown",
      "metadata": {
        "id": "Wt0QPZF2sAYt"
      },
      "source": [
        "## P2: ¿Qué series no son imprecindibles para determinar si un Pokémon es legendario o no?."
      ]
    },
    {
      "cell_type": "markdown",
      "source": [
        "## Respuesta 2:\n",
        "\n",
        "La información proporcionada en las series de *percentage_male*,*type* y *generation* no nos suministran ningún dato relevante para indagar si un Pokémon es legendario o no, teniendo en cuenta que a los Pokemones no los hace legendarios su género ni su tipo. Adicionalmente los datos de la serie *generation* tan solo nos brindan una idea del año en el que fueron avistados por primera vez los Pokemones, lo cual es irrelevante. Por lo tanto, las series mencionadas previamente fueron eliminadas de la base de datos. "
      ],
      "metadata": {
        "id": "E7rGrt9wxiSD"
      }
    },
    {
      "cell_type": "code",
      "source": [
        "Puchamon=Puchamon.drop(['percentage_male','type','generation','Unnamed: 0'],axis=1)\n",
        "Puchamon"
      ],
      "metadata": {
        "colab": {
          "base_uri": "https://localhost:8080/",
          "height": 0
        },
        "id": "r_GCZb9Oxh8L",
        "outputId": "0ff3cdbb-0e46-4144-b7b4-09e03306d61f"
      },
      "execution_count": 359,
      "outputs": [
        {
          "output_type": "execute_result",
          "data": {
            "text/plain": [
              "     pokedex_number        name  attack  defense  height_m   hp  sp_attack  \\\n",
              "0                 1   Bulbasaur      49       49       0.7   45         65   \n",
              "1                 2     Ivysaur      62       63       1.0   60         80   \n",
              "2                 3    Venusaur     100      123       2.0   80        122   \n",
              "3                 4  Charmander      52       43       0.6   39         60   \n",
              "4                 5  Charmeleon      64       58       1.1   58         80   \n",
              "..              ...         ...     ...      ...       ...  ...        ...   \n",
              "797             798     Kartana     181      131       0.3   59         59   \n",
              "798             799    Guzzlord     101       53       5.5  223         97   \n",
              "799             800    Necrozma     107      101       2.4   97        127   \n",
              "800             801    Magearna      95      115       1.0   80        130   \n",
              "801             802   Camilomon     100      100       0.6  100        100   \n",
              "\n",
              "     sp_defense  speed  weight_kg  is_legendary  \n",
              "0            65     45        6.9             0  \n",
              "1            80     60       13.0             0  \n",
              "2           120     80      100.0             0  \n",
              "3            50     65        8.5             0  \n",
              "4            65     80       19.0             0  \n",
              "..          ...    ...        ...           ...  \n",
              "797          31    109        0.1             0  \n",
              "798          53     43      888.0             1  \n",
              "799          89     79      230.0             1  \n",
              "800         115     65       80.5             1  \n",
              "801         100    100        5.0             1  \n",
              "\n",
              "[802 rows x 11 columns]"
            ],
            "text/html": [
              "\n",
              "  <div id=\"df-0d8dc4be-0c3b-4f3d-bc2b-75f66926a31d\">\n",
              "    <div class=\"colab-df-container\">\n",
              "      <div>\n",
              "<style scoped>\n",
              "    .dataframe tbody tr th:only-of-type {\n",
              "        vertical-align: middle;\n",
              "    }\n",
              "\n",
              "    .dataframe tbody tr th {\n",
              "        vertical-align: top;\n",
              "    }\n",
              "\n",
              "    .dataframe thead th {\n",
              "        text-align: right;\n",
              "    }\n",
              "</style>\n",
              "<table border=\"1\" class=\"dataframe\">\n",
              "  <thead>\n",
              "    <tr style=\"text-align: right;\">\n",
              "      <th></th>\n",
              "      <th>pokedex_number</th>\n",
              "      <th>name</th>\n",
              "      <th>attack</th>\n",
              "      <th>defense</th>\n",
              "      <th>height_m</th>\n",
              "      <th>hp</th>\n",
              "      <th>sp_attack</th>\n",
              "      <th>sp_defense</th>\n",
              "      <th>speed</th>\n",
              "      <th>weight_kg</th>\n",
              "      <th>is_legendary</th>\n",
              "    </tr>\n",
              "  </thead>\n",
              "  <tbody>\n",
              "    <tr>\n",
              "      <th>0</th>\n",
              "      <td>1</td>\n",
              "      <td>Bulbasaur</td>\n",
              "      <td>49</td>\n",
              "      <td>49</td>\n",
              "      <td>0.7</td>\n",
              "      <td>45</td>\n",
              "      <td>65</td>\n",
              "      <td>65</td>\n",
              "      <td>45</td>\n",
              "      <td>6.9</td>\n",
              "      <td>0</td>\n",
              "    </tr>\n",
              "    <tr>\n",
              "      <th>1</th>\n",
              "      <td>2</td>\n",
              "      <td>Ivysaur</td>\n",
              "      <td>62</td>\n",
              "      <td>63</td>\n",
              "      <td>1.0</td>\n",
              "      <td>60</td>\n",
              "      <td>80</td>\n",
              "      <td>80</td>\n",
              "      <td>60</td>\n",
              "      <td>13.0</td>\n",
              "      <td>0</td>\n",
              "    </tr>\n",
              "    <tr>\n",
              "      <th>2</th>\n",
              "      <td>3</td>\n",
              "      <td>Venusaur</td>\n",
              "      <td>100</td>\n",
              "      <td>123</td>\n",
              "      <td>2.0</td>\n",
              "      <td>80</td>\n",
              "      <td>122</td>\n",
              "      <td>120</td>\n",
              "      <td>80</td>\n",
              "      <td>100.0</td>\n",
              "      <td>0</td>\n",
              "    </tr>\n",
              "    <tr>\n",
              "      <th>3</th>\n",
              "      <td>4</td>\n",
              "      <td>Charmander</td>\n",
              "      <td>52</td>\n",
              "      <td>43</td>\n",
              "      <td>0.6</td>\n",
              "      <td>39</td>\n",
              "      <td>60</td>\n",
              "      <td>50</td>\n",
              "      <td>65</td>\n",
              "      <td>8.5</td>\n",
              "      <td>0</td>\n",
              "    </tr>\n",
              "    <tr>\n",
              "      <th>4</th>\n",
              "      <td>5</td>\n",
              "      <td>Charmeleon</td>\n",
              "      <td>64</td>\n",
              "      <td>58</td>\n",
              "      <td>1.1</td>\n",
              "      <td>58</td>\n",
              "      <td>80</td>\n",
              "      <td>65</td>\n",
              "      <td>80</td>\n",
              "      <td>19.0</td>\n",
              "      <td>0</td>\n",
              "    </tr>\n",
              "    <tr>\n",
              "      <th>...</th>\n",
              "      <td>...</td>\n",
              "      <td>...</td>\n",
              "      <td>...</td>\n",
              "      <td>...</td>\n",
              "      <td>...</td>\n",
              "      <td>...</td>\n",
              "      <td>...</td>\n",
              "      <td>...</td>\n",
              "      <td>...</td>\n",
              "      <td>...</td>\n",
              "      <td>...</td>\n",
              "    </tr>\n",
              "    <tr>\n",
              "      <th>797</th>\n",
              "      <td>798</td>\n",
              "      <td>Kartana</td>\n",
              "      <td>181</td>\n",
              "      <td>131</td>\n",
              "      <td>0.3</td>\n",
              "      <td>59</td>\n",
              "      <td>59</td>\n",
              "      <td>31</td>\n",
              "      <td>109</td>\n",
              "      <td>0.1</td>\n",
              "      <td>0</td>\n",
              "    </tr>\n",
              "    <tr>\n",
              "      <th>798</th>\n",
              "      <td>799</td>\n",
              "      <td>Guzzlord</td>\n",
              "      <td>101</td>\n",
              "      <td>53</td>\n",
              "      <td>5.5</td>\n",
              "      <td>223</td>\n",
              "      <td>97</td>\n",
              "      <td>53</td>\n",
              "      <td>43</td>\n",
              "      <td>888.0</td>\n",
              "      <td>1</td>\n",
              "    </tr>\n",
              "    <tr>\n",
              "      <th>799</th>\n",
              "      <td>800</td>\n",
              "      <td>Necrozma</td>\n",
              "      <td>107</td>\n",
              "      <td>101</td>\n",
              "      <td>2.4</td>\n",
              "      <td>97</td>\n",
              "      <td>127</td>\n",
              "      <td>89</td>\n",
              "      <td>79</td>\n",
              "      <td>230.0</td>\n",
              "      <td>1</td>\n",
              "    </tr>\n",
              "    <tr>\n",
              "      <th>800</th>\n",
              "      <td>801</td>\n",
              "      <td>Magearna</td>\n",
              "      <td>95</td>\n",
              "      <td>115</td>\n",
              "      <td>1.0</td>\n",
              "      <td>80</td>\n",
              "      <td>130</td>\n",
              "      <td>115</td>\n",
              "      <td>65</td>\n",
              "      <td>80.5</td>\n",
              "      <td>1</td>\n",
              "    </tr>\n",
              "    <tr>\n",
              "      <th>801</th>\n",
              "      <td>802</td>\n",
              "      <td>Camilomon</td>\n",
              "      <td>100</td>\n",
              "      <td>100</td>\n",
              "      <td>0.6</td>\n",
              "      <td>100</td>\n",
              "      <td>100</td>\n",
              "      <td>100</td>\n",
              "      <td>100</td>\n",
              "      <td>5.0</td>\n",
              "      <td>1</td>\n",
              "    </tr>\n",
              "  </tbody>\n",
              "</table>\n",
              "<p>802 rows × 11 columns</p>\n",
              "</div>\n",
              "      <button class=\"colab-df-convert\" onclick=\"convertToInteractive('df-0d8dc4be-0c3b-4f3d-bc2b-75f66926a31d')\"\n",
              "              title=\"Convert this dataframe to an interactive table.\"\n",
              "              style=\"display:none;\">\n",
              "        \n",
              "  <svg xmlns=\"http://www.w3.org/2000/svg\" height=\"24px\"viewBox=\"0 0 24 24\"\n",
              "       width=\"24px\">\n",
              "    <path d=\"M0 0h24v24H0V0z\" fill=\"none\"/>\n",
              "    <path d=\"M18.56 5.44l.94 2.06.94-2.06 2.06-.94-2.06-.94-.94-2.06-.94 2.06-2.06.94zm-11 1L8.5 8.5l.94-2.06 2.06-.94-2.06-.94L8.5 2.5l-.94 2.06-2.06.94zm10 10l.94 2.06.94-2.06 2.06-.94-2.06-.94-.94-2.06-.94 2.06-2.06.94z\"/><path d=\"M17.41 7.96l-1.37-1.37c-.4-.4-.92-.59-1.43-.59-.52 0-1.04.2-1.43.59L10.3 9.45l-7.72 7.72c-.78.78-.78 2.05 0 2.83L4 21.41c.39.39.9.59 1.41.59.51 0 1.02-.2 1.41-.59l7.78-7.78 2.81-2.81c.8-.78.8-2.07 0-2.86zM5.41 20L4 18.59l7.72-7.72 1.47 1.35L5.41 20z\"/>\n",
              "  </svg>\n",
              "      </button>\n",
              "      \n",
              "  <style>\n",
              "    .colab-df-container {\n",
              "      display:flex;\n",
              "      flex-wrap:wrap;\n",
              "      gap: 12px;\n",
              "    }\n",
              "\n",
              "    .colab-df-convert {\n",
              "      background-color: #E8F0FE;\n",
              "      border: none;\n",
              "      border-radius: 50%;\n",
              "      cursor: pointer;\n",
              "      display: none;\n",
              "      fill: #1967D2;\n",
              "      height: 32px;\n",
              "      padding: 0 0 0 0;\n",
              "      width: 32px;\n",
              "    }\n",
              "\n",
              "    .colab-df-convert:hover {\n",
              "      background-color: #E2EBFA;\n",
              "      box-shadow: 0px 1px 2px rgba(60, 64, 67, 0.3), 0px 1px 3px 1px rgba(60, 64, 67, 0.15);\n",
              "      fill: #174EA6;\n",
              "    }\n",
              "\n",
              "    [theme=dark] .colab-df-convert {\n",
              "      background-color: #3B4455;\n",
              "      fill: #D2E3FC;\n",
              "    }\n",
              "\n",
              "    [theme=dark] .colab-df-convert:hover {\n",
              "      background-color: #434B5C;\n",
              "      box-shadow: 0px 1px 3px 1px rgba(0, 0, 0, 0.15);\n",
              "      filter: drop-shadow(0px 1px 2px rgba(0, 0, 0, 0.3));\n",
              "      fill: #FFFFFF;\n",
              "    }\n",
              "  </style>\n",
              "\n",
              "      <script>\n",
              "        const buttonEl =\n",
              "          document.querySelector('#df-0d8dc4be-0c3b-4f3d-bc2b-75f66926a31d button.colab-df-convert');\n",
              "        buttonEl.style.display =\n",
              "          google.colab.kernel.accessAllowed ? 'block' : 'none';\n",
              "\n",
              "        async function convertToInteractive(key) {\n",
              "          const element = document.querySelector('#df-0d8dc4be-0c3b-4f3d-bc2b-75f66926a31d');\n",
              "          const dataTable =\n",
              "            await google.colab.kernel.invokeFunction('convertToInteractive',\n",
              "                                                     [key], {});\n",
              "          if (!dataTable) return;\n",
              "\n",
              "          const docLinkHtml = 'Like what you see? Visit the ' +\n",
              "            '<a target=\"_blank\" href=https://colab.research.google.com/notebooks/data_table.ipynb>data table notebook</a>'\n",
              "            + ' to learn more about interactive tables.';\n",
              "          element.innerHTML = '';\n",
              "          dataTable['output_type'] = 'display_data';\n",
              "          await google.colab.output.renderOutput(dataTable, element);\n",
              "          const docLink = document.createElement('div');\n",
              "          docLink.innerHTML = docLinkHtml;\n",
              "          element.appendChild(docLink);\n",
              "        }\n",
              "      </script>\n",
              "    </div>\n",
              "  </div>\n",
              "  "
            ]
          },
          "metadata": {},
          "execution_count": 359
        }
      ]
    },
    {
      "cell_type": "markdown",
      "source": [
        "-----------------\n",
        "## Limpieza del Conjunto de Datos.\n",
        "-----------------\n"
      ],
      "metadata": {
        "id": "npO4dvwZ3gxo"
      }
    },
    {
      "cell_type": "code",
      "source": [
        "Puchamon3=Puchamon.drop(['attack','defense','height_m','hp','sp_attack','sp_defense','speed','weight_kg','is_legendary'],axis=1) \n",
        "Puchamon = pd.concat([Puchamon3,Puchamon.hp,Puchamon.attack,Puchamon.defense,Puchamon.height_m,Puchamon.weight_kg,Puchamon.speed,Puchamon.sp_attack,Puchamon.sp_defense,Puchamon.is_legendary], axis=1)\n",
        "Puchamon"
      ],
      "metadata": {
        "colab": {
          "base_uri": "https://localhost:8080/",
          "height": 0
        },
        "id": "e17-2sng3hDv",
        "outputId": "cf9c9df5-574b-4e5f-f824-f847b9092d21"
      },
      "execution_count": 360,
      "outputs": [
        {
          "output_type": "execute_result",
          "data": {
            "text/plain": [
              "     pokedex_number        name   hp  attack  defense  height_m  weight_kg  \\\n",
              "0                 1   Bulbasaur   45      49       49       0.7        6.9   \n",
              "1                 2     Ivysaur   60      62       63       1.0       13.0   \n",
              "2                 3    Venusaur   80     100      123       2.0      100.0   \n",
              "3                 4  Charmander   39      52       43       0.6        8.5   \n",
              "4                 5  Charmeleon   58      64       58       1.1       19.0   \n",
              "..              ...         ...  ...     ...      ...       ...        ...   \n",
              "797             798     Kartana   59     181      131       0.3        0.1   \n",
              "798             799    Guzzlord  223     101       53       5.5      888.0   \n",
              "799             800    Necrozma   97     107      101       2.4      230.0   \n",
              "800             801    Magearna   80      95      115       1.0       80.5   \n",
              "801             802   Camilomon  100     100      100       0.6        5.0   \n",
              "\n",
              "     speed  sp_attack  sp_defense  is_legendary  \n",
              "0       45         65          65             0  \n",
              "1       60         80          80             0  \n",
              "2       80        122         120             0  \n",
              "3       65         60          50             0  \n",
              "4       80         80          65             0  \n",
              "..     ...        ...         ...           ...  \n",
              "797    109         59          31             0  \n",
              "798     43         97          53             1  \n",
              "799     79        127          89             1  \n",
              "800     65        130         115             1  \n",
              "801    100        100         100             1  \n",
              "\n",
              "[802 rows x 11 columns]"
            ],
            "text/html": [
              "\n",
              "  <div id=\"df-9d659aad-14cd-4eef-91d1-7532a1c22435\">\n",
              "    <div class=\"colab-df-container\">\n",
              "      <div>\n",
              "<style scoped>\n",
              "    .dataframe tbody tr th:only-of-type {\n",
              "        vertical-align: middle;\n",
              "    }\n",
              "\n",
              "    .dataframe tbody tr th {\n",
              "        vertical-align: top;\n",
              "    }\n",
              "\n",
              "    .dataframe thead th {\n",
              "        text-align: right;\n",
              "    }\n",
              "</style>\n",
              "<table border=\"1\" class=\"dataframe\">\n",
              "  <thead>\n",
              "    <tr style=\"text-align: right;\">\n",
              "      <th></th>\n",
              "      <th>pokedex_number</th>\n",
              "      <th>name</th>\n",
              "      <th>hp</th>\n",
              "      <th>attack</th>\n",
              "      <th>defense</th>\n",
              "      <th>height_m</th>\n",
              "      <th>weight_kg</th>\n",
              "      <th>speed</th>\n",
              "      <th>sp_attack</th>\n",
              "      <th>sp_defense</th>\n",
              "      <th>is_legendary</th>\n",
              "    </tr>\n",
              "  </thead>\n",
              "  <tbody>\n",
              "    <tr>\n",
              "      <th>0</th>\n",
              "      <td>1</td>\n",
              "      <td>Bulbasaur</td>\n",
              "      <td>45</td>\n",
              "      <td>49</td>\n",
              "      <td>49</td>\n",
              "      <td>0.7</td>\n",
              "      <td>6.9</td>\n",
              "      <td>45</td>\n",
              "      <td>65</td>\n",
              "      <td>65</td>\n",
              "      <td>0</td>\n",
              "    </tr>\n",
              "    <tr>\n",
              "      <th>1</th>\n",
              "      <td>2</td>\n",
              "      <td>Ivysaur</td>\n",
              "      <td>60</td>\n",
              "      <td>62</td>\n",
              "      <td>63</td>\n",
              "      <td>1.0</td>\n",
              "      <td>13.0</td>\n",
              "      <td>60</td>\n",
              "      <td>80</td>\n",
              "      <td>80</td>\n",
              "      <td>0</td>\n",
              "    </tr>\n",
              "    <tr>\n",
              "      <th>2</th>\n",
              "      <td>3</td>\n",
              "      <td>Venusaur</td>\n",
              "      <td>80</td>\n",
              "      <td>100</td>\n",
              "      <td>123</td>\n",
              "      <td>2.0</td>\n",
              "      <td>100.0</td>\n",
              "      <td>80</td>\n",
              "      <td>122</td>\n",
              "      <td>120</td>\n",
              "      <td>0</td>\n",
              "    </tr>\n",
              "    <tr>\n",
              "      <th>3</th>\n",
              "      <td>4</td>\n",
              "      <td>Charmander</td>\n",
              "      <td>39</td>\n",
              "      <td>52</td>\n",
              "      <td>43</td>\n",
              "      <td>0.6</td>\n",
              "      <td>8.5</td>\n",
              "      <td>65</td>\n",
              "      <td>60</td>\n",
              "      <td>50</td>\n",
              "      <td>0</td>\n",
              "    </tr>\n",
              "    <tr>\n",
              "      <th>4</th>\n",
              "      <td>5</td>\n",
              "      <td>Charmeleon</td>\n",
              "      <td>58</td>\n",
              "      <td>64</td>\n",
              "      <td>58</td>\n",
              "      <td>1.1</td>\n",
              "      <td>19.0</td>\n",
              "      <td>80</td>\n",
              "      <td>80</td>\n",
              "      <td>65</td>\n",
              "      <td>0</td>\n",
              "    </tr>\n",
              "    <tr>\n",
              "      <th>...</th>\n",
              "      <td>...</td>\n",
              "      <td>...</td>\n",
              "      <td>...</td>\n",
              "      <td>...</td>\n",
              "      <td>...</td>\n",
              "      <td>...</td>\n",
              "      <td>...</td>\n",
              "      <td>...</td>\n",
              "      <td>...</td>\n",
              "      <td>...</td>\n",
              "      <td>...</td>\n",
              "    </tr>\n",
              "    <tr>\n",
              "      <th>797</th>\n",
              "      <td>798</td>\n",
              "      <td>Kartana</td>\n",
              "      <td>59</td>\n",
              "      <td>181</td>\n",
              "      <td>131</td>\n",
              "      <td>0.3</td>\n",
              "      <td>0.1</td>\n",
              "      <td>109</td>\n",
              "      <td>59</td>\n",
              "      <td>31</td>\n",
              "      <td>0</td>\n",
              "    </tr>\n",
              "    <tr>\n",
              "      <th>798</th>\n",
              "      <td>799</td>\n",
              "      <td>Guzzlord</td>\n",
              "      <td>223</td>\n",
              "      <td>101</td>\n",
              "      <td>53</td>\n",
              "      <td>5.5</td>\n",
              "      <td>888.0</td>\n",
              "      <td>43</td>\n",
              "      <td>97</td>\n",
              "      <td>53</td>\n",
              "      <td>1</td>\n",
              "    </tr>\n",
              "    <tr>\n",
              "      <th>799</th>\n",
              "      <td>800</td>\n",
              "      <td>Necrozma</td>\n",
              "      <td>97</td>\n",
              "      <td>107</td>\n",
              "      <td>101</td>\n",
              "      <td>2.4</td>\n",
              "      <td>230.0</td>\n",
              "      <td>79</td>\n",
              "      <td>127</td>\n",
              "      <td>89</td>\n",
              "      <td>1</td>\n",
              "    </tr>\n",
              "    <tr>\n",
              "      <th>800</th>\n",
              "      <td>801</td>\n",
              "      <td>Magearna</td>\n",
              "      <td>80</td>\n",
              "      <td>95</td>\n",
              "      <td>115</td>\n",
              "      <td>1.0</td>\n",
              "      <td>80.5</td>\n",
              "      <td>65</td>\n",
              "      <td>130</td>\n",
              "      <td>115</td>\n",
              "      <td>1</td>\n",
              "    </tr>\n",
              "    <tr>\n",
              "      <th>801</th>\n",
              "      <td>802</td>\n",
              "      <td>Camilomon</td>\n",
              "      <td>100</td>\n",
              "      <td>100</td>\n",
              "      <td>100</td>\n",
              "      <td>0.6</td>\n",
              "      <td>5.0</td>\n",
              "      <td>100</td>\n",
              "      <td>100</td>\n",
              "      <td>100</td>\n",
              "      <td>1</td>\n",
              "    </tr>\n",
              "  </tbody>\n",
              "</table>\n",
              "<p>802 rows × 11 columns</p>\n",
              "</div>\n",
              "      <button class=\"colab-df-convert\" onclick=\"convertToInteractive('df-9d659aad-14cd-4eef-91d1-7532a1c22435')\"\n",
              "              title=\"Convert this dataframe to an interactive table.\"\n",
              "              style=\"display:none;\">\n",
              "        \n",
              "  <svg xmlns=\"http://www.w3.org/2000/svg\" height=\"24px\"viewBox=\"0 0 24 24\"\n",
              "       width=\"24px\">\n",
              "    <path d=\"M0 0h24v24H0V0z\" fill=\"none\"/>\n",
              "    <path d=\"M18.56 5.44l.94 2.06.94-2.06 2.06-.94-2.06-.94-.94-2.06-.94 2.06-2.06.94zm-11 1L8.5 8.5l.94-2.06 2.06-.94-2.06-.94L8.5 2.5l-.94 2.06-2.06.94zm10 10l.94 2.06.94-2.06 2.06-.94-2.06-.94-.94-2.06-.94 2.06-2.06.94z\"/><path d=\"M17.41 7.96l-1.37-1.37c-.4-.4-.92-.59-1.43-.59-.52 0-1.04.2-1.43.59L10.3 9.45l-7.72 7.72c-.78.78-.78 2.05 0 2.83L4 21.41c.39.39.9.59 1.41.59.51 0 1.02-.2 1.41-.59l7.78-7.78 2.81-2.81c.8-.78.8-2.07 0-2.86zM5.41 20L4 18.59l7.72-7.72 1.47 1.35L5.41 20z\"/>\n",
              "  </svg>\n",
              "      </button>\n",
              "      \n",
              "  <style>\n",
              "    .colab-df-container {\n",
              "      display:flex;\n",
              "      flex-wrap:wrap;\n",
              "      gap: 12px;\n",
              "    }\n",
              "\n",
              "    .colab-df-convert {\n",
              "      background-color: #E8F0FE;\n",
              "      border: none;\n",
              "      border-radius: 50%;\n",
              "      cursor: pointer;\n",
              "      display: none;\n",
              "      fill: #1967D2;\n",
              "      height: 32px;\n",
              "      padding: 0 0 0 0;\n",
              "      width: 32px;\n",
              "    }\n",
              "\n",
              "    .colab-df-convert:hover {\n",
              "      background-color: #E2EBFA;\n",
              "      box-shadow: 0px 1px 2px rgba(60, 64, 67, 0.3), 0px 1px 3px 1px rgba(60, 64, 67, 0.15);\n",
              "      fill: #174EA6;\n",
              "    }\n",
              "\n",
              "    [theme=dark] .colab-df-convert {\n",
              "      background-color: #3B4455;\n",
              "      fill: #D2E3FC;\n",
              "    }\n",
              "\n",
              "    [theme=dark] .colab-df-convert:hover {\n",
              "      background-color: #434B5C;\n",
              "      box-shadow: 0px 1px 3px 1px rgba(0, 0, 0, 0.15);\n",
              "      filter: drop-shadow(0px 1px 2px rgba(0, 0, 0, 0.3));\n",
              "      fill: #FFFFFF;\n",
              "    }\n",
              "  </style>\n",
              "\n",
              "      <script>\n",
              "        const buttonEl =\n",
              "          document.querySelector('#df-9d659aad-14cd-4eef-91d1-7532a1c22435 button.colab-df-convert');\n",
              "        buttonEl.style.display =\n",
              "          google.colab.kernel.accessAllowed ? 'block' : 'none';\n",
              "\n",
              "        async function convertToInteractive(key) {\n",
              "          const element = document.querySelector('#df-9d659aad-14cd-4eef-91d1-7532a1c22435');\n",
              "          const dataTable =\n",
              "            await google.colab.kernel.invokeFunction('convertToInteractive',\n",
              "                                                     [key], {});\n",
              "          if (!dataTable) return;\n",
              "\n",
              "          const docLinkHtml = 'Like what you see? Visit the ' +\n",
              "            '<a target=\"_blank\" href=https://colab.research.google.com/notebooks/data_table.ipynb>data table notebook</a>'\n",
              "            + ' to learn more about interactive tables.';\n",
              "          element.innerHTML = '';\n",
              "          dataTable['output_type'] = 'display_data';\n",
              "          await google.colab.output.renderOutput(dataTable, element);\n",
              "          const docLink = document.createElement('div');\n",
              "          docLink.innerHTML = docLinkHtml;\n",
              "          element.appendChild(docLink);\n",
              "        }\n",
              "      </script>\n",
              "    </div>\n",
              "  </div>\n",
              "  "
            ]
          },
          "metadata": {},
          "execution_count": 360
        }
      ]
    },
    {
      "cell_type": "code",
      "source": [
        "# Información del la base de datos Puchamon\n",
        "Puchamon.info()"
      ],
      "metadata": {
        "colab": {
          "base_uri": "https://localhost:8080/"
        },
        "id": "_aTNXNSkbm-H",
        "outputId": "409b771b-9608-40d1-ff22-9d4ed579fc91"
      },
      "execution_count": 361,
      "outputs": [
        {
          "output_type": "stream",
          "name": "stdout",
          "text": [
            "<class 'pandas.core.frame.DataFrame'>\n",
            "RangeIndex: 802 entries, 0 to 801\n",
            "Data columns (total 11 columns):\n",
            " #   Column          Non-Null Count  Dtype  \n",
            "---  ------          --------------  -----  \n",
            " 0   pokedex_number  802 non-null    int64  \n",
            " 1   name            802 non-null    object \n",
            " 2   hp              802 non-null    int64  \n",
            " 3   attack          802 non-null    int64  \n",
            " 4   defense         802 non-null    int64  \n",
            " 5   height_m        802 non-null    float64\n",
            " 6   weight_kg       802 non-null    float64\n",
            " 7   speed           802 non-null    int64  \n",
            " 8   sp_attack       802 non-null    int64  \n",
            " 9   sp_defense      802 non-null    int64  \n",
            " 10  is_legendary    802 non-null    int64  \n",
            "dtypes: float64(2), int64(8), object(1)\n",
            "memory usage: 69.0+ KB\n"
          ]
        }
      ]
    },
    {
      "cell_type": "code",
      "source": [
        "# Base final a tranajar\n",
        "Puchamon"
      ],
      "metadata": {
        "colab": {
          "base_uri": "https://localhost:8080/",
          "height": 0
        },
        "id": "Tjb7NDOob0x9",
        "outputId": "9505132f-26a5-472c-cbd5-89f9c27d5209"
      },
      "execution_count": 362,
      "outputs": [
        {
          "output_type": "execute_result",
          "data": {
            "text/plain": [
              "     pokedex_number        name   hp  attack  defense  height_m  weight_kg  \\\n",
              "0                 1   Bulbasaur   45      49       49       0.7        6.9   \n",
              "1                 2     Ivysaur   60      62       63       1.0       13.0   \n",
              "2                 3    Venusaur   80     100      123       2.0      100.0   \n",
              "3                 4  Charmander   39      52       43       0.6        8.5   \n",
              "4                 5  Charmeleon   58      64       58       1.1       19.0   \n",
              "..              ...         ...  ...     ...      ...       ...        ...   \n",
              "797             798     Kartana   59     181      131       0.3        0.1   \n",
              "798             799    Guzzlord  223     101       53       5.5      888.0   \n",
              "799             800    Necrozma   97     107      101       2.4      230.0   \n",
              "800             801    Magearna   80      95      115       1.0       80.5   \n",
              "801             802   Camilomon  100     100      100       0.6        5.0   \n",
              "\n",
              "     speed  sp_attack  sp_defense  is_legendary  \n",
              "0       45         65          65             0  \n",
              "1       60         80          80             0  \n",
              "2       80        122         120             0  \n",
              "3       65         60          50             0  \n",
              "4       80         80          65             0  \n",
              "..     ...        ...         ...           ...  \n",
              "797    109         59          31             0  \n",
              "798     43         97          53             1  \n",
              "799     79        127          89             1  \n",
              "800     65        130         115             1  \n",
              "801    100        100         100             1  \n",
              "\n",
              "[802 rows x 11 columns]"
            ],
            "text/html": [
              "\n",
              "  <div id=\"df-7b96214d-a063-4a0c-a9f3-3f6a85e169d1\">\n",
              "    <div class=\"colab-df-container\">\n",
              "      <div>\n",
              "<style scoped>\n",
              "    .dataframe tbody tr th:only-of-type {\n",
              "        vertical-align: middle;\n",
              "    }\n",
              "\n",
              "    .dataframe tbody tr th {\n",
              "        vertical-align: top;\n",
              "    }\n",
              "\n",
              "    .dataframe thead th {\n",
              "        text-align: right;\n",
              "    }\n",
              "</style>\n",
              "<table border=\"1\" class=\"dataframe\">\n",
              "  <thead>\n",
              "    <tr style=\"text-align: right;\">\n",
              "      <th></th>\n",
              "      <th>pokedex_number</th>\n",
              "      <th>name</th>\n",
              "      <th>hp</th>\n",
              "      <th>attack</th>\n",
              "      <th>defense</th>\n",
              "      <th>height_m</th>\n",
              "      <th>weight_kg</th>\n",
              "      <th>speed</th>\n",
              "      <th>sp_attack</th>\n",
              "      <th>sp_defense</th>\n",
              "      <th>is_legendary</th>\n",
              "    </tr>\n",
              "  </thead>\n",
              "  <tbody>\n",
              "    <tr>\n",
              "      <th>0</th>\n",
              "      <td>1</td>\n",
              "      <td>Bulbasaur</td>\n",
              "      <td>45</td>\n",
              "      <td>49</td>\n",
              "      <td>49</td>\n",
              "      <td>0.7</td>\n",
              "      <td>6.9</td>\n",
              "      <td>45</td>\n",
              "      <td>65</td>\n",
              "      <td>65</td>\n",
              "      <td>0</td>\n",
              "    </tr>\n",
              "    <tr>\n",
              "      <th>1</th>\n",
              "      <td>2</td>\n",
              "      <td>Ivysaur</td>\n",
              "      <td>60</td>\n",
              "      <td>62</td>\n",
              "      <td>63</td>\n",
              "      <td>1.0</td>\n",
              "      <td>13.0</td>\n",
              "      <td>60</td>\n",
              "      <td>80</td>\n",
              "      <td>80</td>\n",
              "      <td>0</td>\n",
              "    </tr>\n",
              "    <tr>\n",
              "      <th>2</th>\n",
              "      <td>3</td>\n",
              "      <td>Venusaur</td>\n",
              "      <td>80</td>\n",
              "      <td>100</td>\n",
              "      <td>123</td>\n",
              "      <td>2.0</td>\n",
              "      <td>100.0</td>\n",
              "      <td>80</td>\n",
              "      <td>122</td>\n",
              "      <td>120</td>\n",
              "      <td>0</td>\n",
              "    </tr>\n",
              "    <tr>\n",
              "      <th>3</th>\n",
              "      <td>4</td>\n",
              "      <td>Charmander</td>\n",
              "      <td>39</td>\n",
              "      <td>52</td>\n",
              "      <td>43</td>\n",
              "      <td>0.6</td>\n",
              "      <td>8.5</td>\n",
              "      <td>65</td>\n",
              "      <td>60</td>\n",
              "      <td>50</td>\n",
              "      <td>0</td>\n",
              "    </tr>\n",
              "    <tr>\n",
              "      <th>4</th>\n",
              "      <td>5</td>\n",
              "      <td>Charmeleon</td>\n",
              "      <td>58</td>\n",
              "      <td>64</td>\n",
              "      <td>58</td>\n",
              "      <td>1.1</td>\n",
              "      <td>19.0</td>\n",
              "      <td>80</td>\n",
              "      <td>80</td>\n",
              "      <td>65</td>\n",
              "      <td>0</td>\n",
              "    </tr>\n",
              "    <tr>\n",
              "      <th>...</th>\n",
              "      <td>...</td>\n",
              "      <td>...</td>\n",
              "      <td>...</td>\n",
              "      <td>...</td>\n",
              "      <td>...</td>\n",
              "      <td>...</td>\n",
              "      <td>...</td>\n",
              "      <td>...</td>\n",
              "      <td>...</td>\n",
              "      <td>...</td>\n",
              "      <td>...</td>\n",
              "    </tr>\n",
              "    <tr>\n",
              "      <th>797</th>\n",
              "      <td>798</td>\n",
              "      <td>Kartana</td>\n",
              "      <td>59</td>\n",
              "      <td>181</td>\n",
              "      <td>131</td>\n",
              "      <td>0.3</td>\n",
              "      <td>0.1</td>\n",
              "      <td>109</td>\n",
              "      <td>59</td>\n",
              "      <td>31</td>\n",
              "      <td>0</td>\n",
              "    </tr>\n",
              "    <tr>\n",
              "      <th>798</th>\n",
              "      <td>799</td>\n",
              "      <td>Guzzlord</td>\n",
              "      <td>223</td>\n",
              "      <td>101</td>\n",
              "      <td>53</td>\n",
              "      <td>5.5</td>\n",
              "      <td>888.0</td>\n",
              "      <td>43</td>\n",
              "      <td>97</td>\n",
              "      <td>53</td>\n",
              "      <td>1</td>\n",
              "    </tr>\n",
              "    <tr>\n",
              "      <th>799</th>\n",
              "      <td>800</td>\n",
              "      <td>Necrozma</td>\n",
              "      <td>97</td>\n",
              "      <td>107</td>\n",
              "      <td>101</td>\n",
              "      <td>2.4</td>\n",
              "      <td>230.0</td>\n",
              "      <td>79</td>\n",
              "      <td>127</td>\n",
              "      <td>89</td>\n",
              "      <td>1</td>\n",
              "    </tr>\n",
              "    <tr>\n",
              "      <th>800</th>\n",
              "      <td>801</td>\n",
              "      <td>Magearna</td>\n",
              "      <td>80</td>\n",
              "      <td>95</td>\n",
              "      <td>115</td>\n",
              "      <td>1.0</td>\n",
              "      <td>80.5</td>\n",
              "      <td>65</td>\n",
              "      <td>130</td>\n",
              "      <td>115</td>\n",
              "      <td>1</td>\n",
              "    </tr>\n",
              "    <tr>\n",
              "      <th>801</th>\n",
              "      <td>802</td>\n",
              "      <td>Camilomon</td>\n",
              "      <td>100</td>\n",
              "      <td>100</td>\n",
              "      <td>100</td>\n",
              "      <td>0.6</td>\n",
              "      <td>5.0</td>\n",
              "      <td>100</td>\n",
              "      <td>100</td>\n",
              "      <td>100</td>\n",
              "      <td>1</td>\n",
              "    </tr>\n",
              "  </tbody>\n",
              "</table>\n",
              "<p>802 rows × 11 columns</p>\n",
              "</div>\n",
              "      <button class=\"colab-df-convert\" onclick=\"convertToInteractive('df-7b96214d-a063-4a0c-a9f3-3f6a85e169d1')\"\n",
              "              title=\"Convert this dataframe to an interactive table.\"\n",
              "              style=\"display:none;\">\n",
              "        \n",
              "  <svg xmlns=\"http://www.w3.org/2000/svg\" height=\"24px\"viewBox=\"0 0 24 24\"\n",
              "       width=\"24px\">\n",
              "    <path d=\"M0 0h24v24H0V0z\" fill=\"none\"/>\n",
              "    <path d=\"M18.56 5.44l.94 2.06.94-2.06 2.06-.94-2.06-.94-.94-2.06-.94 2.06-2.06.94zm-11 1L8.5 8.5l.94-2.06 2.06-.94-2.06-.94L8.5 2.5l-.94 2.06-2.06.94zm10 10l.94 2.06.94-2.06 2.06-.94-2.06-.94-.94-2.06-.94 2.06-2.06.94z\"/><path d=\"M17.41 7.96l-1.37-1.37c-.4-.4-.92-.59-1.43-.59-.52 0-1.04.2-1.43.59L10.3 9.45l-7.72 7.72c-.78.78-.78 2.05 0 2.83L4 21.41c.39.39.9.59 1.41.59.51 0 1.02-.2 1.41-.59l7.78-7.78 2.81-2.81c.8-.78.8-2.07 0-2.86zM5.41 20L4 18.59l7.72-7.72 1.47 1.35L5.41 20z\"/>\n",
              "  </svg>\n",
              "      </button>\n",
              "      \n",
              "  <style>\n",
              "    .colab-df-container {\n",
              "      display:flex;\n",
              "      flex-wrap:wrap;\n",
              "      gap: 12px;\n",
              "    }\n",
              "\n",
              "    .colab-df-convert {\n",
              "      background-color: #E8F0FE;\n",
              "      border: none;\n",
              "      border-radius: 50%;\n",
              "      cursor: pointer;\n",
              "      display: none;\n",
              "      fill: #1967D2;\n",
              "      height: 32px;\n",
              "      padding: 0 0 0 0;\n",
              "      width: 32px;\n",
              "    }\n",
              "\n",
              "    .colab-df-convert:hover {\n",
              "      background-color: #E2EBFA;\n",
              "      box-shadow: 0px 1px 2px rgba(60, 64, 67, 0.3), 0px 1px 3px 1px rgba(60, 64, 67, 0.15);\n",
              "      fill: #174EA6;\n",
              "    }\n",
              "\n",
              "    [theme=dark] .colab-df-convert {\n",
              "      background-color: #3B4455;\n",
              "      fill: #D2E3FC;\n",
              "    }\n",
              "\n",
              "    [theme=dark] .colab-df-convert:hover {\n",
              "      background-color: #434B5C;\n",
              "      box-shadow: 0px 1px 3px 1px rgba(0, 0, 0, 0.15);\n",
              "      filter: drop-shadow(0px 1px 2px rgba(0, 0, 0, 0.3));\n",
              "      fill: #FFFFFF;\n",
              "    }\n",
              "  </style>\n",
              "\n",
              "      <script>\n",
              "        const buttonEl =\n",
              "          document.querySelector('#df-7b96214d-a063-4a0c-a9f3-3f6a85e169d1 button.colab-df-convert');\n",
              "        buttonEl.style.display =\n",
              "          google.colab.kernel.accessAllowed ? 'block' : 'none';\n",
              "\n",
              "        async function convertToInteractive(key) {\n",
              "          const element = document.querySelector('#df-7b96214d-a063-4a0c-a9f3-3f6a85e169d1');\n",
              "          const dataTable =\n",
              "            await google.colab.kernel.invokeFunction('convertToInteractive',\n",
              "                                                     [key], {});\n",
              "          if (!dataTable) return;\n",
              "\n",
              "          const docLinkHtml = 'Like what you see? Visit the ' +\n",
              "            '<a target=\"_blank\" href=https://colab.research.google.com/notebooks/data_table.ipynb>data table notebook</a>'\n",
              "            + ' to learn more about interactive tables.';\n",
              "          element.innerHTML = '';\n",
              "          dataTable['output_type'] = 'display_data';\n",
              "          await google.colab.output.renderOutput(dataTable, element);\n",
              "          const docLink = document.createElement('div');\n",
              "          docLink.innerHTML = docLinkHtml;\n",
              "          element.appendChild(docLink);\n",
              "        }\n",
              "      </script>\n",
              "    </div>\n",
              "  </div>\n",
              "  "
            ]
          },
          "metadata": {},
          "execution_count": 362
        }
      ]
    },
    {
      "cell_type": "markdown",
      "source": [
        "----------------------\n",
        "# Análisis Descriptivo de Pokemones \n",
        "----------------------"
      ],
      "metadata": {
        "id": "1AfpNckoC00N"
      }
    },
    {
      "cell_type": "code",
      "source": [
        "# Base de datos \n",
        "FiltroLeg  =  Puchamon['is_legendary'] == 1\n",
        "Legendarios= Puchamon[FiltroLeg]\n",
        "Legendarios\n",
        "\n",
        "Filtronormales =  Puchamon['is_legendary'] == 0\n",
        "Normals= Puchamon[Filtronormales]\n",
        "Normals"
      ],
      "metadata": {
        "colab": {
          "base_uri": "https://localhost:8080/",
          "height": 0
        },
        "id": "ZQrCv4uwALjC",
        "outputId": "6ee2e4aa-5242-4597-9d18-e8fba6fc6d76"
      },
      "execution_count": 363,
      "outputs": [
        {
          "output_type": "execute_result",
          "data": {
            "text/plain": [
              "     pokedex_number        name   hp  attack  defense  height_m  weight_kg  \\\n",
              "0                 1   Bulbasaur   45      49       49       0.7        6.9   \n",
              "1                 2     Ivysaur   60      62       63       1.0       13.0   \n",
              "2                 3    Venusaur   80     100      123       2.0      100.0   \n",
              "3                 4  Charmander   39      52       43       0.6        8.5   \n",
              "4                 5  Charmeleon   58      64       58       1.1       19.0   \n",
              "..              ...         ...  ...     ...      ...       ...        ...   \n",
              "783             784     Kommo-o   75     110      125       1.6       78.2   \n",
              "793             794    Buzzwole  107     139      139       2.4      333.6   \n",
              "795             796   Xurkitree   83      89       71       3.8      100.0   \n",
              "796             797  Celesteela   97     101      103       9.2      999.9   \n",
              "797             798     Kartana   59     181      131       0.3        0.1   \n",
              "\n",
              "     speed  sp_attack  sp_defense  is_legendary  \n",
              "0       45         65          65             0  \n",
              "1       60         80          80             0  \n",
              "2       80        122         120             0  \n",
              "3       65         60          50             0  \n",
              "4       80         80          65             0  \n",
              "..     ...        ...         ...           ...  \n",
              "783     85        100         105             0  \n",
              "793     79         53          53             0  \n",
              "795     83        173          71             0  \n",
              "796     61        107         101             0  \n",
              "797    109         59          31             0  \n",
              "\n",
              "[745 rows x 11 columns]"
            ],
            "text/html": [
              "\n",
              "  <div id=\"df-3934aacc-20b4-4b88-bfdf-5ea09853c774\">\n",
              "    <div class=\"colab-df-container\">\n",
              "      <div>\n",
              "<style scoped>\n",
              "    .dataframe tbody tr th:only-of-type {\n",
              "        vertical-align: middle;\n",
              "    }\n",
              "\n",
              "    .dataframe tbody tr th {\n",
              "        vertical-align: top;\n",
              "    }\n",
              "\n",
              "    .dataframe thead th {\n",
              "        text-align: right;\n",
              "    }\n",
              "</style>\n",
              "<table border=\"1\" class=\"dataframe\">\n",
              "  <thead>\n",
              "    <tr style=\"text-align: right;\">\n",
              "      <th></th>\n",
              "      <th>pokedex_number</th>\n",
              "      <th>name</th>\n",
              "      <th>hp</th>\n",
              "      <th>attack</th>\n",
              "      <th>defense</th>\n",
              "      <th>height_m</th>\n",
              "      <th>weight_kg</th>\n",
              "      <th>speed</th>\n",
              "      <th>sp_attack</th>\n",
              "      <th>sp_defense</th>\n",
              "      <th>is_legendary</th>\n",
              "    </tr>\n",
              "  </thead>\n",
              "  <tbody>\n",
              "    <tr>\n",
              "      <th>0</th>\n",
              "      <td>1</td>\n",
              "      <td>Bulbasaur</td>\n",
              "      <td>45</td>\n",
              "      <td>49</td>\n",
              "      <td>49</td>\n",
              "      <td>0.7</td>\n",
              "      <td>6.9</td>\n",
              "      <td>45</td>\n",
              "      <td>65</td>\n",
              "      <td>65</td>\n",
              "      <td>0</td>\n",
              "    </tr>\n",
              "    <tr>\n",
              "      <th>1</th>\n",
              "      <td>2</td>\n",
              "      <td>Ivysaur</td>\n",
              "      <td>60</td>\n",
              "      <td>62</td>\n",
              "      <td>63</td>\n",
              "      <td>1.0</td>\n",
              "      <td>13.0</td>\n",
              "      <td>60</td>\n",
              "      <td>80</td>\n",
              "      <td>80</td>\n",
              "      <td>0</td>\n",
              "    </tr>\n",
              "    <tr>\n",
              "      <th>2</th>\n",
              "      <td>3</td>\n",
              "      <td>Venusaur</td>\n",
              "      <td>80</td>\n",
              "      <td>100</td>\n",
              "      <td>123</td>\n",
              "      <td>2.0</td>\n",
              "      <td>100.0</td>\n",
              "      <td>80</td>\n",
              "      <td>122</td>\n",
              "      <td>120</td>\n",
              "      <td>0</td>\n",
              "    </tr>\n",
              "    <tr>\n",
              "      <th>3</th>\n",
              "      <td>4</td>\n",
              "      <td>Charmander</td>\n",
              "      <td>39</td>\n",
              "      <td>52</td>\n",
              "      <td>43</td>\n",
              "      <td>0.6</td>\n",
              "      <td>8.5</td>\n",
              "      <td>65</td>\n",
              "      <td>60</td>\n",
              "      <td>50</td>\n",
              "      <td>0</td>\n",
              "    </tr>\n",
              "    <tr>\n",
              "      <th>4</th>\n",
              "      <td>5</td>\n",
              "      <td>Charmeleon</td>\n",
              "      <td>58</td>\n",
              "      <td>64</td>\n",
              "      <td>58</td>\n",
              "      <td>1.1</td>\n",
              "      <td>19.0</td>\n",
              "      <td>80</td>\n",
              "      <td>80</td>\n",
              "      <td>65</td>\n",
              "      <td>0</td>\n",
              "    </tr>\n",
              "    <tr>\n",
              "      <th>...</th>\n",
              "      <td>...</td>\n",
              "      <td>...</td>\n",
              "      <td>...</td>\n",
              "      <td>...</td>\n",
              "      <td>...</td>\n",
              "      <td>...</td>\n",
              "      <td>...</td>\n",
              "      <td>...</td>\n",
              "      <td>...</td>\n",
              "      <td>...</td>\n",
              "      <td>...</td>\n",
              "    </tr>\n",
              "    <tr>\n",
              "      <th>783</th>\n",
              "      <td>784</td>\n",
              "      <td>Kommo-o</td>\n",
              "      <td>75</td>\n",
              "      <td>110</td>\n",
              "      <td>125</td>\n",
              "      <td>1.6</td>\n",
              "      <td>78.2</td>\n",
              "      <td>85</td>\n",
              "      <td>100</td>\n",
              "      <td>105</td>\n",
              "      <td>0</td>\n",
              "    </tr>\n",
              "    <tr>\n",
              "      <th>793</th>\n",
              "      <td>794</td>\n",
              "      <td>Buzzwole</td>\n",
              "      <td>107</td>\n",
              "      <td>139</td>\n",
              "      <td>139</td>\n",
              "      <td>2.4</td>\n",
              "      <td>333.6</td>\n",
              "      <td>79</td>\n",
              "      <td>53</td>\n",
              "      <td>53</td>\n",
              "      <td>0</td>\n",
              "    </tr>\n",
              "    <tr>\n",
              "      <th>795</th>\n",
              "      <td>796</td>\n",
              "      <td>Xurkitree</td>\n",
              "      <td>83</td>\n",
              "      <td>89</td>\n",
              "      <td>71</td>\n",
              "      <td>3.8</td>\n",
              "      <td>100.0</td>\n",
              "      <td>83</td>\n",
              "      <td>173</td>\n",
              "      <td>71</td>\n",
              "      <td>0</td>\n",
              "    </tr>\n",
              "    <tr>\n",
              "      <th>796</th>\n",
              "      <td>797</td>\n",
              "      <td>Celesteela</td>\n",
              "      <td>97</td>\n",
              "      <td>101</td>\n",
              "      <td>103</td>\n",
              "      <td>9.2</td>\n",
              "      <td>999.9</td>\n",
              "      <td>61</td>\n",
              "      <td>107</td>\n",
              "      <td>101</td>\n",
              "      <td>0</td>\n",
              "    </tr>\n",
              "    <tr>\n",
              "      <th>797</th>\n",
              "      <td>798</td>\n",
              "      <td>Kartana</td>\n",
              "      <td>59</td>\n",
              "      <td>181</td>\n",
              "      <td>131</td>\n",
              "      <td>0.3</td>\n",
              "      <td>0.1</td>\n",
              "      <td>109</td>\n",
              "      <td>59</td>\n",
              "      <td>31</td>\n",
              "      <td>0</td>\n",
              "    </tr>\n",
              "  </tbody>\n",
              "</table>\n",
              "<p>745 rows × 11 columns</p>\n",
              "</div>\n",
              "      <button class=\"colab-df-convert\" onclick=\"convertToInteractive('df-3934aacc-20b4-4b88-bfdf-5ea09853c774')\"\n",
              "              title=\"Convert this dataframe to an interactive table.\"\n",
              "              style=\"display:none;\">\n",
              "        \n",
              "  <svg xmlns=\"http://www.w3.org/2000/svg\" height=\"24px\"viewBox=\"0 0 24 24\"\n",
              "       width=\"24px\">\n",
              "    <path d=\"M0 0h24v24H0V0z\" fill=\"none\"/>\n",
              "    <path d=\"M18.56 5.44l.94 2.06.94-2.06 2.06-.94-2.06-.94-.94-2.06-.94 2.06-2.06.94zm-11 1L8.5 8.5l.94-2.06 2.06-.94-2.06-.94L8.5 2.5l-.94 2.06-2.06.94zm10 10l.94 2.06.94-2.06 2.06-.94-2.06-.94-.94-2.06-.94 2.06-2.06.94z\"/><path d=\"M17.41 7.96l-1.37-1.37c-.4-.4-.92-.59-1.43-.59-.52 0-1.04.2-1.43.59L10.3 9.45l-7.72 7.72c-.78.78-.78 2.05 0 2.83L4 21.41c.39.39.9.59 1.41.59.51 0 1.02-.2 1.41-.59l7.78-7.78 2.81-2.81c.8-.78.8-2.07 0-2.86zM5.41 20L4 18.59l7.72-7.72 1.47 1.35L5.41 20z\"/>\n",
              "  </svg>\n",
              "      </button>\n",
              "      \n",
              "  <style>\n",
              "    .colab-df-container {\n",
              "      display:flex;\n",
              "      flex-wrap:wrap;\n",
              "      gap: 12px;\n",
              "    }\n",
              "\n",
              "    .colab-df-convert {\n",
              "      background-color: #E8F0FE;\n",
              "      border: none;\n",
              "      border-radius: 50%;\n",
              "      cursor: pointer;\n",
              "      display: none;\n",
              "      fill: #1967D2;\n",
              "      height: 32px;\n",
              "      padding: 0 0 0 0;\n",
              "      width: 32px;\n",
              "    }\n",
              "\n",
              "    .colab-df-convert:hover {\n",
              "      background-color: #E2EBFA;\n",
              "      box-shadow: 0px 1px 2px rgba(60, 64, 67, 0.3), 0px 1px 3px 1px rgba(60, 64, 67, 0.15);\n",
              "      fill: #174EA6;\n",
              "    }\n",
              "\n",
              "    [theme=dark] .colab-df-convert {\n",
              "      background-color: #3B4455;\n",
              "      fill: #D2E3FC;\n",
              "    }\n",
              "\n",
              "    [theme=dark] .colab-df-convert:hover {\n",
              "      background-color: #434B5C;\n",
              "      box-shadow: 0px 1px 3px 1px rgba(0, 0, 0, 0.15);\n",
              "      filter: drop-shadow(0px 1px 2px rgba(0, 0, 0, 0.3));\n",
              "      fill: #FFFFFF;\n",
              "    }\n",
              "  </style>\n",
              "\n",
              "      <script>\n",
              "        const buttonEl =\n",
              "          document.querySelector('#df-3934aacc-20b4-4b88-bfdf-5ea09853c774 button.colab-df-convert');\n",
              "        buttonEl.style.display =\n",
              "          google.colab.kernel.accessAllowed ? 'block' : 'none';\n",
              "\n",
              "        async function convertToInteractive(key) {\n",
              "          const element = document.querySelector('#df-3934aacc-20b4-4b88-bfdf-5ea09853c774');\n",
              "          const dataTable =\n",
              "            await google.colab.kernel.invokeFunction('convertToInteractive',\n",
              "                                                     [key], {});\n",
              "          if (!dataTable) return;\n",
              "\n",
              "          const docLinkHtml = 'Like what you see? Visit the ' +\n",
              "            '<a target=\"_blank\" href=https://colab.research.google.com/notebooks/data_table.ipynb>data table notebook</a>'\n",
              "            + ' to learn more about interactive tables.';\n",
              "          element.innerHTML = '';\n",
              "          dataTable['output_type'] = 'display_data';\n",
              "          await google.colab.output.renderOutput(dataTable, element);\n",
              "          const docLink = document.createElement('div');\n",
              "          docLink.innerHTML = docLinkHtml;\n",
              "          element.appendChild(docLink);\n",
              "        }\n",
              "      </script>\n",
              "    </div>\n",
              "  </div>\n",
              "  "
            ]
          },
          "metadata": {},
          "execution_count": 363
        }
      ]
    },
    {
      "cell_type": "markdown",
      "source": [
        "-------------------------------\n",
        "## varianza etc Legendarios"
      ],
      "metadata": {
        "id": "DLQbi4DkHhgU"
      }
    },
    {
      "cell_type": "markdown",
      "source": [
        "En primer lugar, analizaremos las variables con el método `.describe` que nos arroja un objeto tipo dataframe donde las columnas son las variables del dataframe inicial y las filas corresponden al número total de los datos; la media; la desviación estándar; el mínimo dato; el primer, segundo y tercer cuartil y por último el máximo dato."
      ],
      "metadata": {
        "id": "MEHNXpv5b7x7"
      }
    },
    {
      "cell_type": "code",
      "source": [
        "T =Legendarios.iloc[:,1:10].describe() #me da gran parte de la lista count... max\n",
        "\n",
        "ModaLegendarios=Legendarios.mode(axis=0,numeric_only= True)\n",
        "MdLegendarios=ModaLegendarios.head(1)\n",
        "MdLegendarios = MdLegendarios.drop(['pokedex_number','is_legendary'],axis=1)\n",
        "MdLegendarios                           #La moda de los legendarios \n",
        "T= T.append(MdLegendarios,ignore_index= True)\n",
        "T.rename(index={0:'count',1:'mean',2:'std',3:'min',4:'25%',5:'50%',6:'75%',7:'max',8:'Moda'},inplace= True)\n",
        "\n",
        "var=Legendarios.var()              #varianza\n",
        "var=pd.DataFrame(var, columns = ['Var'])  \n",
        "var = var.drop(['pokedex_number','is_legendary'],axis=0)\n",
        "var = var.transpose( )\n",
        "T= T.append(var,ignore_index= True)\n",
        "T.rename(index={0:'count',1:'mean',2:'std',3:'min',4:'25%',5:'50%',6:'75%',7:'max',8:'Moda',9:'var'},inplace= True)\n",
        "T"
      ],
      "metadata": {
        "colab": {
          "base_uri": "https://localhost:8080/",
          "height": 0
        },
        "id": "RjEpaRJ4TVL_",
        "outputId": "51b7ca51-05ca-4bf2-c043-134fa56e2d98"
      },
      "execution_count": 364,
      "outputs": [
        {
          "output_type": "stream",
          "name": "stderr",
          "text": [
            "<ipython-input-364-a65f8394f7bc>:10: FutureWarning: Dropping of nuisance columns in DataFrame reductions (with 'numeric_only=None') is deprecated; in a future version this will raise TypeError.  Select only valid columns before calling the reduction.\n",
            "  var=Legendarios.var()              #varianza\n"
          ]
        },
        {
          "output_type": "execute_result",
          "data": {
            "text/plain": [
              "                hp       attack     defense   height_m     weight_kg  \\\n",
              "count    57.000000    57.000000   57.000000  57.000000     57.000000   \n",
              "mean     97.403509   109.421053   99.719298   2.359649    211.807018   \n",
              "std      31.870194    32.596531   28.559933   1.586197    235.911157   \n",
              "min      43.000000    29.000000   31.000000   0.100000      0.100000   \n",
              "25%      80.000000    90.000000   85.000000   1.500000     52.600000   \n",
              "50%      91.000000   107.000000  100.000000   1.900000    187.000000   \n",
              "75%     106.000000   130.000000  115.000000   3.200000    260.000000   \n",
              "max     223.000000   180.000000  200.000000   7.000000    999.900000   \n",
              "Moda     80.000000   100.000000  100.000000   2.000000      0.300000   \n",
              "var    1015.709273  1062.533835  815.669799   2.516021  55654.073878   \n",
              "\n",
              "            speed    sp_attack  sp_defense  \n",
              "count   57.000000    57.000000   57.000000  \n",
              "mean    92.649123   115.701754  106.298246  \n",
              "std     22.931179    34.891651   29.228756  \n",
              "min     37.000000    29.000000   31.000000  \n",
              "25%     85.000000    91.000000   90.000000  \n",
              "50%     95.000000   120.000000  100.000000  \n",
              "75%    108.000000   137.000000  120.000000  \n",
              "max    151.000000   194.000000  200.000000  \n",
              "Moda    90.000000    90.000000  100.000000  \n",
              "var    525.838972  1217.427318  854.320175  "
            ],
            "text/html": [
              "\n",
              "  <div id=\"df-237e0237-374b-4135-8cce-1e1504b024c3\">\n",
              "    <div class=\"colab-df-container\">\n",
              "      <div>\n",
              "<style scoped>\n",
              "    .dataframe tbody tr th:only-of-type {\n",
              "        vertical-align: middle;\n",
              "    }\n",
              "\n",
              "    .dataframe tbody tr th {\n",
              "        vertical-align: top;\n",
              "    }\n",
              "\n",
              "    .dataframe thead th {\n",
              "        text-align: right;\n",
              "    }\n",
              "</style>\n",
              "<table border=\"1\" class=\"dataframe\">\n",
              "  <thead>\n",
              "    <tr style=\"text-align: right;\">\n",
              "      <th></th>\n",
              "      <th>hp</th>\n",
              "      <th>attack</th>\n",
              "      <th>defense</th>\n",
              "      <th>height_m</th>\n",
              "      <th>weight_kg</th>\n",
              "      <th>speed</th>\n",
              "      <th>sp_attack</th>\n",
              "      <th>sp_defense</th>\n",
              "    </tr>\n",
              "  </thead>\n",
              "  <tbody>\n",
              "    <tr>\n",
              "      <th>count</th>\n",
              "      <td>57.000000</td>\n",
              "      <td>57.000000</td>\n",
              "      <td>57.000000</td>\n",
              "      <td>57.000000</td>\n",
              "      <td>57.000000</td>\n",
              "      <td>57.000000</td>\n",
              "      <td>57.000000</td>\n",
              "      <td>57.000000</td>\n",
              "    </tr>\n",
              "    <tr>\n",
              "      <th>mean</th>\n",
              "      <td>97.403509</td>\n",
              "      <td>109.421053</td>\n",
              "      <td>99.719298</td>\n",
              "      <td>2.359649</td>\n",
              "      <td>211.807018</td>\n",
              "      <td>92.649123</td>\n",
              "      <td>115.701754</td>\n",
              "      <td>106.298246</td>\n",
              "    </tr>\n",
              "    <tr>\n",
              "      <th>std</th>\n",
              "      <td>31.870194</td>\n",
              "      <td>32.596531</td>\n",
              "      <td>28.559933</td>\n",
              "      <td>1.586197</td>\n",
              "      <td>235.911157</td>\n",
              "      <td>22.931179</td>\n",
              "      <td>34.891651</td>\n",
              "      <td>29.228756</td>\n",
              "    </tr>\n",
              "    <tr>\n",
              "      <th>min</th>\n",
              "      <td>43.000000</td>\n",
              "      <td>29.000000</td>\n",
              "      <td>31.000000</td>\n",
              "      <td>0.100000</td>\n",
              "      <td>0.100000</td>\n",
              "      <td>37.000000</td>\n",
              "      <td>29.000000</td>\n",
              "      <td>31.000000</td>\n",
              "    </tr>\n",
              "    <tr>\n",
              "      <th>25%</th>\n",
              "      <td>80.000000</td>\n",
              "      <td>90.000000</td>\n",
              "      <td>85.000000</td>\n",
              "      <td>1.500000</td>\n",
              "      <td>52.600000</td>\n",
              "      <td>85.000000</td>\n",
              "      <td>91.000000</td>\n",
              "      <td>90.000000</td>\n",
              "    </tr>\n",
              "    <tr>\n",
              "      <th>50%</th>\n",
              "      <td>91.000000</td>\n",
              "      <td>107.000000</td>\n",
              "      <td>100.000000</td>\n",
              "      <td>1.900000</td>\n",
              "      <td>187.000000</td>\n",
              "      <td>95.000000</td>\n",
              "      <td>120.000000</td>\n",
              "      <td>100.000000</td>\n",
              "    </tr>\n",
              "    <tr>\n",
              "      <th>75%</th>\n",
              "      <td>106.000000</td>\n",
              "      <td>130.000000</td>\n",
              "      <td>115.000000</td>\n",
              "      <td>3.200000</td>\n",
              "      <td>260.000000</td>\n",
              "      <td>108.000000</td>\n",
              "      <td>137.000000</td>\n",
              "      <td>120.000000</td>\n",
              "    </tr>\n",
              "    <tr>\n",
              "      <th>max</th>\n",
              "      <td>223.000000</td>\n",
              "      <td>180.000000</td>\n",
              "      <td>200.000000</td>\n",
              "      <td>7.000000</td>\n",
              "      <td>999.900000</td>\n",
              "      <td>151.000000</td>\n",
              "      <td>194.000000</td>\n",
              "      <td>200.000000</td>\n",
              "    </tr>\n",
              "    <tr>\n",
              "      <th>Moda</th>\n",
              "      <td>80.000000</td>\n",
              "      <td>100.000000</td>\n",
              "      <td>100.000000</td>\n",
              "      <td>2.000000</td>\n",
              "      <td>0.300000</td>\n",
              "      <td>90.000000</td>\n",
              "      <td>90.000000</td>\n",
              "      <td>100.000000</td>\n",
              "    </tr>\n",
              "    <tr>\n",
              "      <th>var</th>\n",
              "      <td>1015.709273</td>\n",
              "      <td>1062.533835</td>\n",
              "      <td>815.669799</td>\n",
              "      <td>2.516021</td>\n",
              "      <td>55654.073878</td>\n",
              "      <td>525.838972</td>\n",
              "      <td>1217.427318</td>\n",
              "      <td>854.320175</td>\n",
              "    </tr>\n",
              "  </tbody>\n",
              "</table>\n",
              "</div>\n",
              "      <button class=\"colab-df-convert\" onclick=\"convertToInteractive('df-237e0237-374b-4135-8cce-1e1504b024c3')\"\n",
              "              title=\"Convert this dataframe to an interactive table.\"\n",
              "              style=\"display:none;\">\n",
              "        \n",
              "  <svg xmlns=\"http://www.w3.org/2000/svg\" height=\"24px\"viewBox=\"0 0 24 24\"\n",
              "       width=\"24px\">\n",
              "    <path d=\"M0 0h24v24H0V0z\" fill=\"none\"/>\n",
              "    <path d=\"M18.56 5.44l.94 2.06.94-2.06 2.06-.94-2.06-.94-.94-2.06-.94 2.06-2.06.94zm-11 1L8.5 8.5l.94-2.06 2.06-.94-2.06-.94L8.5 2.5l-.94 2.06-2.06.94zm10 10l.94 2.06.94-2.06 2.06-.94-2.06-.94-.94-2.06-.94 2.06-2.06.94z\"/><path d=\"M17.41 7.96l-1.37-1.37c-.4-.4-.92-.59-1.43-.59-.52 0-1.04.2-1.43.59L10.3 9.45l-7.72 7.72c-.78.78-.78 2.05 0 2.83L4 21.41c.39.39.9.59 1.41.59.51 0 1.02-.2 1.41-.59l7.78-7.78 2.81-2.81c.8-.78.8-2.07 0-2.86zM5.41 20L4 18.59l7.72-7.72 1.47 1.35L5.41 20z\"/>\n",
              "  </svg>\n",
              "      </button>\n",
              "      \n",
              "  <style>\n",
              "    .colab-df-container {\n",
              "      display:flex;\n",
              "      flex-wrap:wrap;\n",
              "      gap: 12px;\n",
              "    }\n",
              "\n",
              "    .colab-df-convert {\n",
              "      background-color: #E8F0FE;\n",
              "      border: none;\n",
              "      border-radius: 50%;\n",
              "      cursor: pointer;\n",
              "      display: none;\n",
              "      fill: #1967D2;\n",
              "      height: 32px;\n",
              "      padding: 0 0 0 0;\n",
              "      width: 32px;\n",
              "    }\n",
              "\n",
              "    .colab-df-convert:hover {\n",
              "      background-color: #E2EBFA;\n",
              "      box-shadow: 0px 1px 2px rgba(60, 64, 67, 0.3), 0px 1px 3px 1px rgba(60, 64, 67, 0.15);\n",
              "      fill: #174EA6;\n",
              "    }\n",
              "\n",
              "    [theme=dark] .colab-df-convert {\n",
              "      background-color: #3B4455;\n",
              "      fill: #D2E3FC;\n",
              "    }\n",
              "\n",
              "    [theme=dark] .colab-df-convert:hover {\n",
              "      background-color: #434B5C;\n",
              "      box-shadow: 0px 1px 3px 1px rgba(0, 0, 0, 0.15);\n",
              "      filter: drop-shadow(0px 1px 2px rgba(0, 0, 0, 0.3));\n",
              "      fill: #FFFFFF;\n",
              "    }\n",
              "  </style>\n",
              "\n",
              "      <script>\n",
              "        const buttonEl =\n",
              "          document.querySelector('#df-237e0237-374b-4135-8cce-1e1504b024c3 button.colab-df-convert');\n",
              "        buttonEl.style.display =\n",
              "          google.colab.kernel.accessAllowed ? 'block' : 'none';\n",
              "\n",
              "        async function convertToInteractive(key) {\n",
              "          const element = document.querySelector('#df-237e0237-374b-4135-8cce-1e1504b024c3');\n",
              "          const dataTable =\n",
              "            await google.colab.kernel.invokeFunction('convertToInteractive',\n",
              "                                                     [key], {});\n",
              "          if (!dataTable) return;\n",
              "\n",
              "          const docLinkHtml = 'Like what you see? Visit the ' +\n",
              "            '<a target=\"_blank\" href=https://colab.research.google.com/notebooks/data_table.ipynb>data table notebook</a>'\n",
              "            + ' to learn more about interactive tables.';\n",
              "          element.innerHTML = '';\n",
              "          dataTable['output_type'] = 'display_data';\n",
              "          await google.colab.output.renderOutput(dataTable, element);\n",
              "          const docLink = document.createElement('div');\n",
              "          docLink.innerHTML = docLinkHtml;\n",
              "          element.appendChild(docLink);\n",
              "        }\n",
              "      </script>\n",
              "    </div>\n",
              "  </div>\n",
              "  "
            ]
          },
          "metadata": {},
          "execution_count": 364
        }
      ]
    },
    {
      "cell_type": "markdown",
      "source": [
        "----------------------------\n",
        "#varianza etc normale"
      ],
      "metadata": {
        "id": "90LoAyzcHvHw"
      }
    },
    {
      "cell_type": "code",
      "source": [
        "T2 =Normals.iloc[:,1:10].describe() #me da gran parte de la lista count... max\n",
        "\n",
        "ModaNormals = Normals.mode(axis=0,numeric_only= True)\n",
        "MdNormals   = ModaNormals.head(1)\n",
        "MdNormals   = MdNormals.drop(['pokedex_number','is_legendary'],axis=1)\n",
        "MdNormals                          #La moda de los legendarios \n",
        "T2= T2.append(MdNormals,ignore_index= True)\n",
        "T2.rename(index={0:'count',1:'mean',2:'std',3:'min',4:'25%',5:'50%',6:'75%',7:'max',8:'Moda'},inplace= True)\n",
        "\n",
        "var=Normals.var()              #varianza\n",
        "var=pd.DataFrame(var, columns = ['Var'])  \n",
        "var = var.drop(['pokedex_number','is_legendary'],axis=0)\n",
        "var = var.transpose( )\n",
        "T2= T2.append(var,ignore_index= True)\n",
        "T2.rename(index={0:'count',1:'mean',2:'std',3:'min',4:'25%',5:'50%',6:'75%',7:'max',8:'Moda',9:'var'},inplace= True)\n",
        "T2"
      ],
      "metadata": {
        "colab": {
          "base_uri": "https://localhost:8080/",
          "height": 0
        },
        "id": "TJPfmKtiIHbP",
        "outputId": "5437d7aa-a8ea-4443-9ffd-f25764efe342"
      },
      "execution_count": 365,
      "outputs": [
        {
          "output_type": "stream",
          "name": "stderr",
          "text": [
            "<ipython-input-365-94f00d5dbd29>:10: FutureWarning: Dropping of nuisance columns in DataFrame reductions (with 'numeric_only=None') is deprecated; in a future version this will raise TypeError.  Select only valid columns before calling the reduction.\n",
            "  var=Normals.var()              #varianza\n"
          ]
        },
        {
          "output_type": "execute_result",
          "data": {
            "text/plain": [
              "               hp      attack     defense    height_m    weight_kg  \\\n",
              "count  745.000000  745.000000  745.000000  745.000000   745.000000   \n",
              "mean    66.824161   75.472483   71.001342    1.061745    48.881879   \n",
              "std     24.854360   30.833312   29.981513    0.961308    80.752140   \n",
              "min      1.000000    5.000000    5.000000    0.100000     0.100000   \n",
              "25%     50.000000   53.000000   50.000000    0.500000     8.500000   \n",
              "50%     65.000000   71.000000   65.000000    0.900000    24.500000   \n",
              "75%     79.000000   95.000000   86.000000    1.400000    55.800000   \n",
              "max    255.000000  185.000000  230.000000   14.500000   999.900000   \n",
              "Moda    60.000000   55.000000   50.000000    0.600000    15.000000   \n",
              "var    617.739200  950.693126  898.891127    0.924113  6520.908152   \n",
              "\n",
              "            speed   sp_attack  sp_defense  \n",
              "count  745.000000  745.000000  745.000000  \n",
              "mean    64.366443   67.947651   68.242953  \n",
              "std     28.347236   29.542091   25.948383  \n",
              "min      5.000000   10.000000   20.000000  \n",
              "25%     43.000000   45.000000   50.000000  \n",
              "50%     60.000000   63.000000   65.000000  \n",
              "75%     84.000000   85.000000   85.000000  \n",
              "max    180.000000  175.000000  230.000000  \n",
              "Moda    60.000000   40.000000   50.000000  \n",
              "var    803.565808  872.735159  673.318583  "
            ],
            "text/html": [
              "\n",
              "  <div id=\"df-1ca6dacd-4a82-451c-8ae8-6a91d8aebc7f\">\n",
              "    <div class=\"colab-df-container\">\n",
              "      <div>\n",
              "<style scoped>\n",
              "    .dataframe tbody tr th:only-of-type {\n",
              "        vertical-align: middle;\n",
              "    }\n",
              "\n",
              "    .dataframe tbody tr th {\n",
              "        vertical-align: top;\n",
              "    }\n",
              "\n",
              "    .dataframe thead th {\n",
              "        text-align: right;\n",
              "    }\n",
              "</style>\n",
              "<table border=\"1\" class=\"dataframe\">\n",
              "  <thead>\n",
              "    <tr style=\"text-align: right;\">\n",
              "      <th></th>\n",
              "      <th>hp</th>\n",
              "      <th>attack</th>\n",
              "      <th>defense</th>\n",
              "      <th>height_m</th>\n",
              "      <th>weight_kg</th>\n",
              "      <th>speed</th>\n",
              "      <th>sp_attack</th>\n",
              "      <th>sp_defense</th>\n",
              "    </tr>\n",
              "  </thead>\n",
              "  <tbody>\n",
              "    <tr>\n",
              "      <th>count</th>\n",
              "      <td>745.000000</td>\n",
              "      <td>745.000000</td>\n",
              "      <td>745.000000</td>\n",
              "      <td>745.000000</td>\n",
              "      <td>745.000000</td>\n",
              "      <td>745.000000</td>\n",
              "      <td>745.000000</td>\n",
              "      <td>745.000000</td>\n",
              "    </tr>\n",
              "    <tr>\n",
              "      <th>mean</th>\n",
              "      <td>66.824161</td>\n",
              "      <td>75.472483</td>\n",
              "      <td>71.001342</td>\n",
              "      <td>1.061745</td>\n",
              "      <td>48.881879</td>\n",
              "      <td>64.366443</td>\n",
              "      <td>67.947651</td>\n",
              "      <td>68.242953</td>\n",
              "    </tr>\n",
              "    <tr>\n",
              "      <th>std</th>\n",
              "      <td>24.854360</td>\n",
              "      <td>30.833312</td>\n",
              "      <td>29.981513</td>\n",
              "      <td>0.961308</td>\n",
              "      <td>80.752140</td>\n",
              "      <td>28.347236</td>\n",
              "      <td>29.542091</td>\n",
              "      <td>25.948383</td>\n",
              "    </tr>\n",
              "    <tr>\n",
              "      <th>min</th>\n",
              "      <td>1.000000</td>\n",
              "      <td>5.000000</td>\n",
              "      <td>5.000000</td>\n",
              "      <td>0.100000</td>\n",
              "      <td>0.100000</td>\n",
              "      <td>5.000000</td>\n",
              "      <td>10.000000</td>\n",
              "      <td>20.000000</td>\n",
              "    </tr>\n",
              "    <tr>\n",
              "      <th>25%</th>\n",
              "      <td>50.000000</td>\n",
              "      <td>53.000000</td>\n",
              "      <td>50.000000</td>\n",
              "      <td>0.500000</td>\n",
              "      <td>8.500000</td>\n",
              "      <td>43.000000</td>\n",
              "      <td>45.000000</td>\n",
              "      <td>50.000000</td>\n",
              "    </tr>\n",
              "    <tr>\n",
              "      <th>50%</th>\n",
              "      <td>65.000000</td>\n",
              "      <td>71.000000</td>\n",
              "      <td>65.000000</td>\n",
              "      <td>0.900000</td>\n",
              "      <td>24.500000</td>\n",
              "      <td>60.000000</td>\n",
              "      <td>63.000000</td>\n",
              "      <td>65.000000</td>\n",
              "    </tr>\n",
              "    <tr>\n",
              "      <th>75%</th>\n",
              "      <td>79.000000</td>\n",
              "      <td>95.000000</td>\n",
              "      <td>86.000000</td>\n",
              "      <td>1.400000</td>\n",
              "      <td>55.800000</td>\n",
              "      <td>84.000000</td>\n",
              "      <td>85.000000</td>\n",
              "      <td>85.000000</td>\n",
              "    </tr>\n",
              "    <tr>\n",
              "      <th>max</th>\n",
              "      <td>255.000000</td>\n",
              "      <td>185.000000</td>\n",
              "      <td>230.000000</td>\n",
              "      <td>14.500000</td>\n",
              "      <td>999.900000</td>\n",
              "      <td>180.000000</td>\n",
              "      <td>175.000000</td>\n",
              "      <td>230.000000</td>\n",
              "    </tr>\n",
              "    <tr>\n",
              "      <th>Moda</th>\n",
              "      <td>60.000000</td>\n",
              "      <td>55.000000</td>\n",
              "      <td>50.000000</td>\n",
              "      <td>0.600000</td>\n",
              "      <td>15.000000</td>\n",
              "      <td>60.000000</td>\n",
              "      <td>40.000000</td>\n",
              "      <td>50.000000</td>\n",
              "    </tr>\n",
              "    <tr>\n",
              "      <th>var</th>\n",
              "      <td>617.739200</td>\n",
              "      <td>950.693126</td>\n",
              "      <td>898.891127</td>\n",
              "      <td>0.924113</td>\n",
              "      <td>6520.908152</td>\n",
              "      <td>803.565808</td>\n",
              "      <td>872.735159</td>\n",
              "      <td>673.318583</td>\n",
              "    </tr>\n",
              "  </tbody>\n",
              "</table>\n",
              "</div>\n",
              "      <button class=\"colab-df-convert\" onclick=\"convertToInteractive('df-1ca6dacd-4a82-451c-8ae8-6a91d8aebc7f')\"\n",
              "              title=\"Convert this dataframe to an interactive table.\"\n",
              "              style=\"display:none;\">\n",
              "        \n",
              "  <svg xmlns=\"http://www.w3.org/2000/svg\" height=\"24px\"viewBox=\"0 0 24 24\"\n",
              "       width=\"24px\">\n",
              "    <path d=\"M0 0h24v24H0V0z\" fill=\"none\"/>\n",
              "    <path d=\"M18.56 5.44l.94 2.06.94-2.06 2.06-.94-2.06-.94-.94-2.06-.94 2.06-2.06.94zm-11 1L8.5 8.5l.94-2.06 2.06-.94-2.06-.94L8.5 2.5l-.94 2.06-2.06.94zm10 10l.94 2.06.94-2.06 2.06-.94-2.06-.94-.94-2.06-.94 2.06-2.06.94z\"/><path d=\"M17.41 7.96l-1.37-1.37c-.4-.4-.92-.59-1.43-.59-.52 0-1.04.2-1.43.59L10.3 9.45l-7.72 7.72c-.78.78-.78 2.05 0 2.83L4 21.41c.39.39.9.59 1.41.59.51 0 1.02-.2 1.41-.59l7.78-7.78 2.81-2.81c.8-.78.8-2.07 0-2.86zM5.41 20L4 18.59l7.72-7.72 1.47 1.35L5.41 20z\"/>\n",
              "  </svg>\n",
              "      </button>\n",
              "      \n",
              "  <style>\n",
              "    .colab-df-container {\n",
              "      display:flex;\n",
              "      flex-wrap:wrap;\n",
              "      gap: 12px;\n",
              "    }\n",
              "\n",
              "    .colab-df-convert {\n",
              "      background-color: #E8F0FE;\n",
              "      border: none;\n",
              "      border-radius: 50%;\n",
              "      cursor: pointer;\n",
              "      display: none;\n",
              "      fill: #1967D2;\n",
              "      height: 32px;\n",
              "      padding: 0 0 0 0;\n",
              "      width: 32px;\n",
              "    }\n",
              "\n",
              "    .colab-df-convert:hover {\n",
              "      background-color: #E2EBFA;\n",
              "      box-shadow: 0px 1px 2px rgba(60, 64, 67, 0.3), 0px 1px 3px 1px rgba(60, 64, 67, 0.15);\n",
              "      fill: #174EA6;\n",
              "    }\n",
              "\n",
              "    [theme=dark] .colab-df-convert {\n",
              "      background-color: #3B4455;\n",
              "      fill: #D2E3FC;\n",
              "    }\n",
              "\n",
              "    [theme=dark] .colab-df-convert:hover {\n",
              "      background-color: #434B5C;\n",
              "      box-shadow: 0px 1px 3px 1px rgba(0, 0, 0, 0.15);\n",
              "      filter: drop-shadow(0px 1px 2px rgba(0, 0, 0, 0.3));\n",
              "      fill: #FFFFFF;\n",
              "    }\n",
              "  </style>\n",
              "\n",
              "      <script>\n",
              "        const buttonEl =\n",
              "          document.querySelector('#df-1ca6dacd-4a82-451c-8ae8-6a91d8aebc7f button.colab-df-convert');\n",
              "        buttonEl.style.display =\n",
              "          google.colab.kernel.accessAllowed ? 'block' : 'none';\n",
              "\n",
              "        async function convertToInteractive(key) {\n",
              "          const element = document.querySelector('#df-1ca6dacd-4a82-451c-8ae8-6a91d8aebc7f');\n",
              "          const dataTable =\n",
              "            await google.colab.kernel.invokeFunction('convertToInteractive',\n",
              "                                                     [key], {});\n",
              "          if (!dataTable) return;\n",
              "\n",
              "          const docLinkHtml = 'Like what you see? Visit the ' +\n",
              "            '<a target=\"_blank\" href=https://colab.research.google.com/notebooks/data_table.ipynb>data table notebook</a>'\n",
              "            + ' to learn more about interactive tables.';\n",
              "          element.innerHTML = '';\n",
              "          dataTable['output_type'] = 'display_data';\n",
              "          await google.colab.output.renderOutput(dataTable, element);\n",
              "          const docLink = document.createElement('div');\n",
              "          docLink.innerHTML = docLinkHtml;\n",
              "          element.appendChild(docLink);\n",
              "        }\n",
              "      </script>\n",
              "    </div>\n",
              "  </div>\n",
              "  "
            ]
          },
          "metadata": {},
          "execution_count": 365
        }
      ]
    },
    {
      "cell_type": "markdown",
      "source": [
        "-----------------------\n",
        "# Diagramas de caja y densidad para cada una de las variables de la base \n"
      ],
      "metadata": {
        "id": "tzzxB-twcf2k"
      }
    },
    {
      "cell_type": "markdown",
      "source": [
        "### Variable `hp`"
      ],
      "metadata": {
        "id": "UQX_AZJqczie"
      }
    },
    {
      "cell_type": "code",
      "source": [
        "fig, (ax1, ax2) = plt.subplots(1, 2)\n",
        "fig.suptitle('Legendarios y Normales')\n",
        "fig.subplots_adjust(hspace=0, wspace=1)    #aca le mueves la distancia \n",
        "ax1.boxplot(Legendarios['hp'])\n",
        "ax2.boxplot(Normals['hp'])\n",
        "\n"
      ],
      "metadata": {
        "colab": {
          "base_uri": "https://localhost:8080/",
          "height": 0
        },
        "id": "3ViBAFEZxTdk",
        "outputId": "035a7a7e-d71a-40ba-e639-4a9c25229b77"
      },
      "execution_count": 366,
      "outputs": [
        {
          "output_type": "execute_result",
          "data": {
            "text/plain": [
              "{'whiskers': [<matplotlib.lines.Line2D at 0x7f4d75cb2e50>,\n",
              "  <matplotlib.lines.Line2D at 0x7f4d75cba1f0>],\n",
              " 'caps': [<matplotlib.lines.Line2D at 0x7f4d75cba550>,\n",
              "  <matplotlib.lines.Line2D at 0x7f4d75cba8b0>],\n",
              " 'boxes': [<matplotlib.lines.Line2D at 0x7f4d75cb2af0>],\n",
              " 'medians': [<matplotlib.lines.Line2D at 0x7f4d75cbac10>],\n",
              " 'fliers': [<matplotlib.lines.Line2D at 0x7f4d75cbaee0>],\n",
              " 'means': []}"
            ]
          },
          "metadata": {},
          "execution_count": 366
        },
        {
          "output_type": "display_data",
          "data": {
            "text/plain": [
              "<Figure size 432x288 with 2 Axes>"
            ],
            "image/png": "[encoded data removed]"
          },
          "metadata": {
            "needs_background": "light"
          }
        }
      ]
    },
    {
      "cell_type": "code",
      "source": [
        "\n",
        "Legendarios.hp.plot.density(color='green')\n",
        "Normals.hp.plot.density(color='blue')"
      ],
      "metadata": {
        "id": "dGYW-voIPUeZ",
        "outputId": "56a808fd-0c3a-4173-a2e8-62e15faf8273",
        "colab": {
          "base_uri": "https://localhost:8080/",
          "height": 0
        }
      },
      "execution_count": 367,
      "outputs": [
        {
          "output_type": "execute_result",
          "data": {
            "text/plain": [
              "<matplotlib.axes._subplots.AxesSubplot at 0x7f4d75c6c040>"
            ]
          },
          "metadata": {},
          "execution_count": 367
        },
        {
          "output_type": "display_data",
          "data": {
            "text/plain": [
              "<Figure size 432x288 with 1 Axes>"
            ],
            "image/png": "[encoded data removed]"
          },
          "metadata": {
            "needs_background": "light"
          }
        }
      ]
    },
    {
      "cell_type": "markdown",
      "source": [
        "##Medidas de tendencia central. ACUERDENSE DE CORREGIR EL DATO xd HOLIIIIII\n",
        "Las medidas de tendencia central son medidas estadísticas que pretenden resumir en un solo valor a un conjunto de valores. A continuación se presentará los valores para la variable `hp` de las medidas de tendencia central más utilizadas.\n",
        "\n",
        "- La **media** de hp es $\\bar{x}=$97,4. En otras palabras, en promedio cada Pokémon puede alcanzar u obtener 97,4 puntos de vida en combate.\n",
        "- La mitad de los Pokemones obtiene puntos de vida menores a $Q_2=$91 (**mediana**), de la misma manera, la otra mitad tiene más de $Q_2=$91 puntos de vida."
      ],
      "metadata": {
        "id": "8HfIXnCKJfP0"
      }
    },
    {
      "cell_type": "markdown",
      "source": [
        "### Variable `attack`"
      ],
      "metadata": {
        "id": "A2sJAdaLKG5X"
      }
    },
    {
      "cell_type": "code",
      "source": [
        "fig, (ax1, ax2) = plt.subplots(1, 2)\n",
        "fig.suptitle('Legendarios y Normales')\n",
        "fig.subplots_adjust(hspace=0, wspace=1)    #aca le mueves la distancia \n",
        "ax1.boxplot(Legendarios['attack'])\n",
        "ax2.boxplot(Normals['attack'])"
      ],
      "metadata": {
        "colab": {
          "base_uri": "https://localhost:8080/",
          "height": 0
        },
        "id": "iJhbbCUBKTRa",
        "outputId": "8134fa62-4a72-48db-f864-6753b4ce808f"
      },
      "execution_count": 368,
      "outputs": [
        {
          "output_type": "execute_result",
          "data": {
            "text/plain": [
              "{'whiskers': [<matplotlib.lines.Line2D at 0x7f4d75bb7ee0>,\n",
              "  <matplotlib.lines.Line2D at 0x7f4d75bc4280>],\n",
              " 'caps': [<matplotlib.lines.Line2D at 0x7f4d75bc45e0>,\n",
              "  <matplotlib.lines.Line2D at 0x7f4d75bc4940>],\n",
              " 'boxes': [<matplotlib.lines.Line2D at 0x7f4d75bb7b80>],\n",
              " 'medians': [<matplotlib.lines.Line2D at 0x7f4d75bc4ca0>],\n",
              " 'fliers': [<matplotlib.lines.Line2D at 0x7f4d75bc4f70>],\n",
              " 'means': []}"
            ]
          },
          "metadata": {},
          "execution_count": 368
        },
        {
          "output_type": "display_data",
          "data": {
            "text/plain": [
              "<Figure size 432x288 with 2 Axes>"
            ],
            "image/png": "[encoded data removed]"
          },
          "metadata": {
            "needs_background": "light"
          }
        }
      ]
    },
    {
      "cell_type": "code",
      "source": [
        "Legendarios.attack.plot.density(color='green')\n",
        "Normals.attack.plot.density(color='blue')"
      ],
      "metadata": {
        "colab": {
          "base_uri": "https://localhost:8080/",
          "height": 0
        },
        "id": "X-Cs6s9zKi36",
        "outputId": "f026a793-9ecf-43bc-86d6-bff6918b527a"
      },
      "execution_count": 369,
      "outputs": [
        {
          "output_type": "execute_result",
          "data": {
            "text/plain": [
              "<matplotlib.axes._subplots.AxesSubplot at 0x7f4d75b88250>"
            ]
          },
          "metadata": {},
          "execution_count": 369
        },
        {
          "output_type": "display_data",
          "data": {
            "text/plain": [
              "<Figure size 432x288 with 1 Axes>"
            ],
            "image/png": "[encoded data removed]"
          },
          "metadata": {
            "needs_background": "light"
          }
        }
      ]
    },
    {
      "cell_type": "markdown",
      "source": [
        "##Medidas de tendencia central. ACUERDENSE DE CORREGIR EL DATO xd HOLIIIIII, holi de nuevo voy a copiar esto en todos pa que se guien XD pero ojo que este es el de hp\n",
        "Las medidas de tendencia central son medidas estadísticas que pretenden resumir en un solo valor a un conjunto de valores. A continuación se presentará los valores para la variable `hp` de las medidas de tendencia central más utilizadas.\n",
        "\n",
        "- La **media** de hp es $\\bar{x}=$97,4. En otras palabras, en promedio cada Pokémon puede alcanzar u obtener 97,4 puntos de vida en combate.\n",
        "- La mitad de los Pokemones obtiene puntos de vida menores a $Q_2=$91 (**mediana**), de la misma manera, la otra mitad tiene más de $Q_2=$91 puntos de vida."
      ],
      "metadata": {
        "id": "WgvziDNbKxUP"
      }
    },
    {
      "cell_type": "markdown",
      "source": [
        "### Variable `defense`\n"
      ],
      "metadata": {
        "id": "DmQkIPVKLElE"
      }
    },
    {
      "cell_type": "code",
      "source": [
        "fig, (ax1, ax2) = plt.subplots(1, 2)\n",
        "fig.suptitle('Legendarios y Normales')\n",
        "fig.subplots_adjust(hspace=0, wspace=1)    #aca le mueves la distancia \n",
        "ax1.boxplot(Legendarios['defense'])\n",
        "ax2.boxplot(Normals['defense'])"
      ],
      "metadata": {
        "colab": {
          "base_uri": "https://localhost:8080/",
          "height": 0
        },
        "id": "t0PQrX_1LW4t",
        "outputId": "10311707-6fff-40ef-d4ec-ec57f847c57f"
      },
      "execution_count": 370,
      "outputs": [
        {
          "output_type": "execute_result",
          "data": {
            "text/plain": [
              "{'whiskers': [<matplotlib.lines.Line2D at 0x7f4d75ace5e0>,\n",
              "  <matplotlib.lines.Line2D at 0x7f4d75ace940>],\n",
              " 'caps': [<matplotlib.lines.Line2D at 0x7f4d75aceca0>,\n",
              "  <matplotlib.lines.Line2D at 0x7f4d75ad6040>],\n",
              " 'boxes': [<matplotlib.lines.Line2D at 0x7f4d75ace280>],\n",
              " 'medians': [<matplotlib.lines.Line2D at 0x7f4d75ad63a0>],\n",
              " 'fliers': [<matplotlib.lines.Line2D at 0x7f4d75ad6670>],\n",
              " 'means': []}"
            ]
          },
          "metadata": {},
          "execution_count": 370
        },
        {
          "output_type": "display_data",
          "data": {
            "text/plain": [
              "<Figure size 432x288 with 2 Axes>"
            ],
            "image/png": "[encoded data removed]"
          },
          "metadata": {
            "needs_background": "light"
          }
        }
      ]
    },
    {
      "cell_type": "code",
      "source": [
        "Legendarios.defense.plot.density(color='green')\n",
        "Normals.defense.plot.density(color='blue')"
      ],
      "metadata": {
        "colab": {
          "base_uri": "https://localhost:8080/",
          "height": 0
        },
        "id": "6vwE-AVdLgKU",
        "outputId": "d628f1d4-95a9-45cf-d463-5d9b1096bbe3"
      },
      "execution_count": 371,
      "outputs": [
        {
          "output_type": "execute_result",
          "data": {
            "text/plain": [
              "<matplotlib.axes._subplots.AxesSubplot at 0x7f4d75a87400>"
            ]
          },
          "metadata": {},
          "execution_count": 371
        },
        {
          "output_type": "display_data",
          "data": {
            "text/plain": [
              "<Figure size 432x288 with 1 Axes>"
            ],
            "image/png": "[encoded data removed]"
          },
          "metadata": {
            "needs_background": "light"
          }
        }
      ]
    },
    {
      "cell_type": "markdown",
      "source": [
        "##Medidas de tendencia central. ACUERDENSE DE CORREGIR EL DATO xd HOLIIIIII\n",
        "Las medidas de tendencia central son medidas estadísticas que pretenden resumir en un solo valor a un conjunto de valores. A continuación se presentará los valores para la variable `hp` de las medidas de tendencia central más utilizadas.\n",
        "\n",
        "- La **media** de hp es $\\bar{x}=$97,4. En otras palabras, en promedio cada Pokémon puede alcanzar u obtener 97,4 puntos de vida en combate.\n",
        "- La mitad de los Pokemones obtiene puntos de vida menores a $Q_2=$91 (**mediana**), de la misma manera, la otra mitad tiene más de $Q_2=$91 puntos de vida."
      ],
      "metadata": {
        "id": "WhpS0Tr9LsJQ"
      }
    },
    {
      "cell_type": "markdown",
      "source": [
        "### Variable `height_m`"
      ],
      "metadata": {
        "id": "dahHldGTLu5V"
      }
    },
    {
      "cell_type": "code",
      "source": [
        "fig, (ax1, ax2) = plt.subplots(1, 2)\n",
        "fig.suptitle('Legendarios y Normales')\n",
        "fig.subplots_adjust(hspace=0, wspace=1)    #aca le mueves la distancia \n",
        "ax1.boxplot(Legendarios['height_m'])\n",
        "ax2.boxplot(Normals['height_m'])"
      ],
      "metadata": {
        "colab": {
          "base_uri": "https://localhost:8080/",
          "height": 0
        },
        "id": "GZojuuQSL1EI",
        "outputId": "070f8d83-09d1-4e3d-91dc-ef5a53cab844"
      },
      "execution_count": 372,
      "outputs": [
        {
          "output_type": "execute_result",
          "data": {
            "text/plain": [
              "{'whiskers': [<matplotlib.lines.Line2D at 0x7f4d759d6610>,\n",
              "  <matplotlib.lines.Line2D at 0x7f4d759d6970>],\n",
              " 'caps': [<matplotlib.lines.Line2D at 0x7f4d759d6cd0>,\n",
              "  <matplotlib.lines.Line2D at 0x7f4d75961070>],\n",
              " 'boxes': [<matplotlib.lines.Line2D at 0x7f4d759d62b0>],\n",
              " 'medians': [<matplotlib.lines.Line2D at 0x7f4d759613d0>],\n",
              " 'fliers': [<matplotlib.lines.Line2D at 0x7f4d759616a0>],\n",
              " 'means': []}"
            ]
          },
          "metadata": {},
          "execution_count": 372
        },
        {
          "output_type": "display_data",
          "data": {
            "text/plain": [
              "<Figure size 432x288 with 2 Axes>"
            ],
            "image/png": "[encoded data removed]"
          },
          "metadata": {
            "needs_background": "light"
          }
        }
      ]
    },
    {
      "cell_type": "code",
      "source": [
        "Legendarios.height_m.plot.density(color='green')\n",
        "Normals.height_m.plot.density(color='blue')"
      ],
      "metadata": {
        "colab": {
          "base_uri": "https://localhost:8080/",
          "height": 0
        },
        "id": "QO754rRiL8wb",
        "outputId": "63d63e65-fb10-4fc9-d284-3668bdc8225c"
      },
      "execution_count": 373,
      "outputs": [
        {
          "output_type": "execute_result",
          "data": {
            "text/plain": [
              "<matplotlib.axes._subplots.AxesSubplot at 0x7f4d75925070>"
            ]
          },
          "metadata": {},
          "execution_count": 373
        },
        {
          "output_type": "display_data",
          "data": {
            "text/plain": [
              "<Figure size 432x288 with 1 Axes>"
            ],
            "image/png": "[encoded data removed]"
          },
          "metadata": {
            "needs_background": "light"
          }
        }
      ]
    },
    {
      "cell_type": "markdown",
      "source": [
        "##Medidas de tendencia central. ACUERDENSE DE CORREGIR EL DATO xd HOLIIIIII\n",
        "Las medidas de tendencia central son medidas estadísticas que pretenden resumir en un solo valor a un conjunto de valores. A continuación se presentará los valores para la variable `hp` de las medidas de tendencia central más utilizadas.\n",
        "\n",
        "- La **media** de hp es $\\bar{x}=$97,4. En otras palabras, en promedio cada Pokémon puede alcanzar u obtener 97,4 puntos de vida en combate.\n",
        "- La mitad de los Pokemones obtiene puntos de vida menores a $Q_2=$91 (**mediana**), de la misma manera, la otra mitad tiene más de $Q_2=$91 puntos de vida."
      ],
      "metadata": {
        "id": "Q94Ho6AsMFEg"
      }
    },
    {
      "cell_type": "markdown",
      "source": [
        "### Variable `weight_kg`"
      ],
      "metadata": {
        "id": "P_PsghynMLTT"
      }
    },
    {
      "cell_type": "code",
      "source": [
        "fig, (ax1, ax2) = plt.subplots(1, 2)\n",
        "fig.suptitle('Legendarios y Normales')\n",
        "fig.subplots_adjust(hspace=0, wspace=1)    #aca le mueves la distancia \n",
        "ax1.boxplot(Legendarios['weight_kg'])\n",
        "ax2.boxplot(Normals['weight_kg'])"
      ],
      "metadata": {
        "colab": {
          "base_uri": "https://localhost:8080/",
          "height": 0
        },
        "id": "Ux3YRbXyMQ5P",
        "outputId": "cb0464fc-7685-4c0f-d2d9-5022da9e09b5"
      },
      "execution_count": 374,
      "outputs": [
        {
          "output_type": "execute_result",
          "data": {
            "text/plain": [
              "{'whiskers': [<matplotlib.lines.Line2D at 0x7f4d7585fb50>,\n",
              "  <matplotlib.lines.Line2D at 0x7f4d7585feb0>],\n",
              " 'caps': [<matplotlib.lines.Line2D at 0x7f4d7586b250>,\n",
              "  <matplotlib.lines.Line2D at 0x7f4d7586b5b0>],\n",
              " 'boxes': [<matplotlib.lines.Line2D at 0x7f4d7585f7f0>],\n",
              " 'medians': [<matplotlib.lines.Line2D at 0x7f4d7586b910>],\n",
              " 'fliers': [<matplotlib.lines.Line2D at 0x7f4d7586bbe0>],\n",
              " 'means': []}"
            ]
          },
          "metadata": {},
          "execution_count": 374
        },
        {
          "output_type": "display_data",
          "data": {
            "text/plain": [
              "<Figure size 432x288 with 2 Axes>"
            ],
            "image/png": "[encoded data removed]"
          },
          "metadata": {
            "needs_background": "light"
          }
        }
      ]
    },
    {
      "cell_type": "code",
      "source": [
        "Legendarios.weight_kg.plot.density(color='green')\n",
        "Normals.weight_kg.plot.density(color='blue')"
      ],
      "metadata": {
        "colab": {
          "base_uri": "https://localhost:8080/",
          "height": 0
        },
        "id": "bG7m0v8PMY7y",
        "outputId": "b4035700-b78e-4251-e9c9-f270cec3e1d2"
      },
      "execution_count": 375,
      "outputs": [
        {
          "output_type": "execute_result",
          "data": {
            "text/plain": [
              "<matplotlib.axes._subplots.AxesSubplot at 0x7f4d758221f0>"
            ]
          },
          "metadata": {},
          "execution_count": 375
        },
        {
          "output_type": "display_data",
          "data": {
            "text/plain": [
              "<Figure size 432x288 with 1 Axes>"
            ],
            "image/png": "[encoded data removed]"
          },
          "metadata": {
            "needs_background": "light"
          }
        }
      ]
    },
    {
      "cell_type": "markdown",
      "source": [
        "##Medidas de tendencia central. ACUERDENSE DE CORREGIR EL DATO xd HOLIIIIII\n",
        "Las medidas de tendencia central son medidas estadísticas que pretenden resumir en un solo valor a un conjunto de valores. A continuación se presentará los valores para la variable `hp` de las medidas de tendencia central más utilizadas.\n",
        "\n",
        "- La **media** de hp es $\\bar{x}=$97,4. En otras palabras, en promedio cada Pokémon puede alcanzar u obtener 97,4 puntos de vida en combate.\n",
        "- La mitad de los Pokemones obtiene puntos de vida menores a $Q_2=$91 (**mediana**), de la misma manera, la otra mitad tiene más de $Q_2=$91 puntos de vida.[texto del vínculo](https://)"
      ],
      "metadata": {
        "id": "TYrIkDLVMgXO"
      }
    },
    {
      "cell_type": "markdown",
      "source": [
        "### Variable `speed`"
      ],
      "metadata": {
        "id": "3leeQmADMm1I"
      }
    },
    {
      "cell_type": "code",
      "source": [
        "fig, (ax1, ax2) = plt.subplots(1, 2)\n",
        "fig.suptitle('Legendarios y Normales')\n",
        "fig.subplots_adjust(hspace=0, wspace=1)    #aca le mueves la distancia \n",
        "ax1.boxplot(Legendarios['speed'])\n",
        "ax2.boxplot(Normals['speed'])"
      ],
      "metadata": {
        "colab": {
          "base_uri": "https://localhost:8080/",
          "height": 0
        },
        "id": "LEdasONXMrBa",
        "outputId": "1b5bb538-f3b4-44c9-9c01-51427e7a56cf"
      },
      "execution_count": 376,
      "outputs": [
        {
          "output_type": "execute_result",
          "data": {
            "text/plain": [
              "{'whiskers': [<matplotlib.lines.Line2D at 0x7f4d75762fa0>,\n",
              "  <matplotlib.lines.Line2D at 0x7f4d7576d340>],\n",
              " 'caps': [<matplotlib.lines.Line2D at 0x7f4d7576d6a0>,\n",
              "  <matplotlib.lines.Line2D at 0x7f4d7576da00>],\n",
              " 'boxes': [<matplotlib.lines.Line2D at 0x7f4d75762c40>],\n",
              " 'medians': [<matplotlib.lines.Line2D at 0x7f4d7576dd60>],\n",
              " 'fliers': [<matplotlib.lines.Line2D at 0x7f4d7577b070>],\n",
              " 'means': []}"
            ]
          },
          "metadata": {},
          "execution_count": 376
        },
        {
          "output_type": "display_data",
          "data": {
            "text/plain": [
              "<Figure size 432x288 with 2 Axes>"
            ],
            "image/png": "[encoded data removed]"
          },
          "metadata": {
            "needs_background": "light"
          }
        }
      ]
    },
    {
      "cell_type": "code",
      "source": [
        "Legendarios.speed.plot.density(color='green')\n",
        "Normals.speed.plot.density(color='blue')"
      ],
      "metadata": {
        "colab": {
          "base_uri": "https://localhost:8080/",
          "height": 0
        },
        "id": "swUJ4TWjMvqs",
        "outputId": "77ce6950-4639-477c-af4a-93aff90bb4dc"
      },
      "execution_count": 377,
      "outputs": [
        {
          "output_type": "execute_result",
          "data": {
            "text/plain": [
              "<matplotlib.axes._subplots.AxesSubplot at 0x7f4d75724e50>"
            ]
          },
          "metadata": {},
          "execution_count": 377
        },
        {
          "output_type": "display_data",
          "data": {
            "text/plain": [
              "<Figure size 432x288 with 1 Axes>"
            ],
            "image/png": "[encoded data removed]"
          },
          "metadata": {
            "needs_background": "light"
          }
        }
      ]
    },
    {
      "cell_type": "markdown",
      "source": [
        "##Medidas de tendencia central. ACUERDENSE DE CORREGIR EL DATO xd HOLIIIIII\n",
        "Las medidas de tendencia central son medidas estadísticas que pretenden resumir en un solo valor a un conjunto de valores. A continuación se presentará los valores para la variable `hp` de las medidas de tendencia central más utilizadas.\n",
        "\n",
        "- La **media** de hp es $\\bar{x}=$97,4. En otras palabras, en promedio cada Pokémon puede alcanzar u obtener 97,4 puntos de vida en combate.\n",
        "- La mitad de los Pokemones obtiene puntos de vida menores a $Q_2=$91 (**mediana**), de la misma manera, la otra mitad tiene más de $Q_2=$91 puntos de vida."
      ],
      "metadata": {
        "id": "b9n4mGgVM06l"
      }
    },
    {
      "cell_type": "markdown",
      "source": [
        "### Variable `sp_attack`"
      ],
      "metadata": {
        "id": "mh6W7E2UM2nT"
      }
    },
    {
      "cell_type": "code",
      "source": [
        "fig, (ax1, ax2) = plt.subplots(1, 2)\n",
        "fig.suptitle('Legendarios y Normales')\n",
        "fig.subplots_adjust(hspace=0, wspace=1)    #aca le mueves la distancia \n",
        "ax1.boxplot(Legendarios['sp_attack'])\n",
        "ax2.boxplot(Normals['sp_attack'])"
      ],
      "metadata": {
        "colab": {
          "base_uri": "https://localhost:8080/",
          "height": 0
        },
        "id": "DplRvchpM7wD",
        "outputId": "5d934569-9f57-4021-9a37-6632c25cffb2"
      },
      "execution_count": 378,
      "outputs": [
        {
          "output_type": "execute_result",
          "data": {
            "text/plain": [
              "{'whiskers': [<matplotlib.lines.Line2D at 0x7f4d7567d340>,\n",
              "  <matplotlib.lines.Line2D at 0x7f4d7567d6a0>],\n",
              " 'caps': [<matplotlib.lines.Line2D at 0x7f4d7567da00>,\n",
              "  <matplotlib.lines.Line2D at 0x7f4d7567dd60>],\n",
              " 'boxes': [<matplotlib.lines.Line2D at 0x7f4d75676fa0>],\n",
              " 'medians': [<matplotlib.lines.Line2D at 0x7f4d756870d0>],\n",
              " 'fliers': [<matplotlib.lines.Line2D at 0x7f4d756873a0>],\n",
              " 'means': []}"
            ]
          },
          "metadata": {},
          "execution_count": 378
        },
        {
          "output_type": "display_data",
          "data": {
            "text/plain": [
              "<Figure size 432x288 with 2 Axes>"
            ],
            "image/png": "[encoded data removed]"
          },
          "metadata": {
            "needs_background": "light"
          }
        }
      ]
    },
    {
      "cell_type": "code",
      "source": [
        "Legendarios.sp_attack.plot.density(color='green')\n",
        "Normals.sp_attack.plot.density(color='blue')"
      ],
      "metadata": {
        "colab": {
          "base_uri": "https://localhost:8080/",
          "height": 0
        },
        "id": "C4kbL5VINBf4",
        "outputId": "c53328e2-5069-4ee3-cdf1-4501c129b251"
      },
      "execution_count": 379,
      "outputs": [
        {
          "output_type": "execute_result",
          "data": {
            "text/plain": [
              "<matplotlib.axes._subplots.AxesSubplot at 0x7f4d75691c10>"
            ]
          },
          "metadata": {},
          "execution_count": 379
        },
        {
          "output_type": "display_data",
          "data": {
            "text/plain": [
              "<Figure size 432x288 with 1 Axes>"
            ],
            "image/png": "[encoded data removed]"
          },
          "metadata": {
            "needs_background": "light"
          }
        }
      ]
    },
    {
      "cell_type": "markdown",
      "source": [
        "##Medidas de tendencia central. ACUERDENSE DE CORREGIR EL DATO xd HOLIIIIII\n",
        "Las medidas de tendencia central son medidas estadísticas que pretenden resumir en un solo valor a un conjunto de valores. A continuación se presentará los valores para la variable `hp` de las medidas de tendencia central más utilizadas.\n",
        "\n",
        "- La **media** de hp es $\\bar{x}=$97,4. En otras palabras, en promedio cada Pokémon puede alcanzar u obtener 97,4 puntos de vida en combate.\n",
        "- La mitad de los Pokemones obtiene puntos de vida menores a $Q_2=$91 (**mediana**), de la misma manera, la otra mitad tiene más de $Q_2=$91 puntos de vida."
      ],
      "metadata": {
        "id": "jXTBFZvENJLh"
      }
    },
    {
      "cell_type": "markdown",
      "source": [
        "### Variable `sp_defense`"
      ],
      "metadata": {
        "id": "Pd3tQjX5NLgD"
      }
    },
    {
      "cell_type": "code",
      "source": [
        "fig, (ax1, ax2) = plt.subplots(1, 2)\n",
        "fig.suptitle('Legendarios y Normales')\n",
        "fig.subplots_adjust(hspace=0, wspace=1)    #aca le mueves la distancia \n",
        "ax1.boxplot(Legendarios['sp_defense'])\n",
        "ax2.boxplot(Normals['sp_defense'])"
      ],
      "metadata": {
        "colab": {
          "base_uri": "https://localhost:8080/",
          "height": 0
        },
        "id": "UjrZPcigNSNN",
        "outputId": "e81e8eec-1ca6-4ce9-e542-50c981be7b07"
      },
      "execution_count": 380,
      "outputs": [
        {
          "output_type": "execute_result",
          "data": {
            "text/plain": [
              "{'whiskers': [<matplotlib.lines.Line2D at 0x7f4d75584f40>,\n",
              "  <matplotlib.lines.Line2D at 0x7f4d7558e2e0>],\n",
              " 'caps': [<matplotlib.lines.Line2D at 0x7f4d7558e640>,\n",
              "  <matplotlib.lines.Line2D at 0x7f4d7558e9a0>],\n",
              " 'boxes': [<matplotlib.lines.Line2D at 0x7f4d75584be0>],\n",
              " 'medians': [<matplotlib.lines.Line2D at 0x7f4d7558ed00>],\n",
              " 'fliers': [<matplotlib.lines.Line2D at 0x7f4d7558efd0>],\n",
              " 'means': []}"
            ]
          },
          "metadata": {},
          "execution_count": 380
        },
        {
          "output_type": "display_data",
          "data": {
            "text/plain": [
              "<Figure size 432x288 with 2 Axes>"
            ],
            "image/png": "[encoded data removed]"
          },
          "metadata": {
            "needs_background": "light"
          }
        }
      ]
    },
    {
      "cell_type": "code",
      "source": [
        "Legendarios.sp_defense.plot.density(color='green')\n",
        "Normals.sp_defense.plot.density(color='blue')"
      ],
      "metadata": {
        "colab": {
          "base_uri": "https://localhost:8080/",
          "height": 0
        },
        "id": "dK5GqnKfNXim",
        "outputId": "69d4bce2-02ce-4fe2-e1b5-d7c5e791acff"
      },
      "execution_count": 381,
      "outputs": [
        {
          "output_type": "execute_result",
          "data": {
            "text/plain": [
              "<matplotlib.axes._subplots.AxesSubplot at 0x7f4d757eebb0>"
            ]
          },
          "metadata": {},
          "execution_count": 381
        },
        {
          "output_type": "display_data",
          "data": {
            "text/plain": [
              "<Figure size 432x288 with 1 Axes>"
            ],
            "image/png": "[encoded data removed]"
          },
          "metadata": {
            "needs_background": "light"
          }
        }
      ]
    },
    {
      "cell_type": "markdown",
      "source": [
        "##Medidas de tendencia central. ACUERDENSE DE CORREGIR EL DATO xd HOLIIIIII\n",
        "Las medidas de tendencia central son medidas estadísticas que pretenden resumir en un solo valor a un conjunto de valores. A continuación se presentará los valores para la variable `hp` de las medidas de tendencia central más utilizadas.\n",
        "\n",
        "- La **media** de hp es $\\bar{x}=$97,4. En otras palabras, en promedio cada Pokémon puede alcanzar u obtener 97,4 puntos de vida en combate.\n",
        "- La mitad de los Pokemones obtiene puntos de vida menores a $Q_2=$91 (**mediana**), de la misma manera, la otra mitad tiene más de $Q_2=$91 puntos de vida."
      ],
      "metadata": {
        "id": "0hId_66iNchL"
      }
    },
    {
      "cell_type": "markdown",
      "source": [
        "# Matriz de correlación de la base Pokemones"
      ],
      "metadata": {
        "id": "QhKI5RqWOBdh"
      }
    },
    {
      "cell_type": "code",
      "source": [
        "# Creación de la Matiz\n",
        "corr_matrix = Puchamon.iloc[:,1:10].corr()\n",
        "corr_matrix\n",
        "plt.figure(figsize=(10,10))\n",
        "sns.heatmap(corr_matrix, annot = True)\n",
        "# Visualización de la matriz\n",
        "plt.show()"
      ],
      "metadata": {
        "colab": {
          "base_uri": "https://localhost:8080/",
          "height": 0
        },
        "id": "klD2_PqmOFA_",
        "outputId": "f77bb623-5966-4790-9468-a530b75b1106"
      },
      "execution_count": 382,
      "outputs": [
        {
          "output_type": "display_data",
          "data": {
            "text/plain": [
              "<Figure size 720x720 with 2 Axes>"
            ],
            "image/png": "[encoded data removed]"
          },
          "metadata": {
            "needs_background": "light"
          }
        }
      ]
    },
    {
      "cell_type": "markdown",
      "source": [
        "__________________________________\n",
        "#Regresion logistica, Analisis predictivo\n"
      ],
      "metadata": {
        "id": "tmnjIqahOTdZ"
      }
    },
    {
      "cell_type": "code",
      "source": [
        "Puchamon=Puchamon.drop(['pokedex_number','name'],axis=1)  #me quiero quedar solo con los datos numericos\n",
        "[n,m]=Puchamon.shape #me dice el tamaño que me quedo\n",
        "Puchamon.columns =[1,2,3,4,5,6,7,8,9] #nombro las columnas como numeros para usar un for\n",
        "Puchamon"
      ],
      "metadata": {
        "colab": {
          "base_uri": "https://localhost:8080/",
          "height": 0
        },
        "id": "SHDkL0ATOcyp",
        "outputId": "2b4af31c-eb7a-4556-e5f8-df7082ef6bf4"
      },
      "execution_count": 383,
      "outputs": [
        {
          "output_type": "execute_result",
          "data": {
            "text/plain": [
              "       1    2    3    4      5    6    7    8  9\n",
              "0     45   49   49  0.7    6.9   45   65   65  0\n",
              "1     60   62   63  1.0   13.0   60   80   80  0\n",
              "2     80  100  123  2.0  100.0   80  122  120  0\n",
              "3     39   52   43  0.6    8.5   65   60   50  0\n",
              "4     58   64   58  1.1   19.0   80   80   65  0\n",
              "..   ...  ...  ...  ...    ...  ...  ...  ... ..\n",
              "797   59  181  131  0.3    0.1  109   59   31  0\n",
              "798  223  101   53  5.5  888.0   43   97   53  1\n",
              "799   97  107  101  2.4  230.0   79  127   89  1\n",
              "800   80   95  115  1.0   80.5   65  130  115  1\n",
              "801  100  100  100  0.6    5.0  100  100  100  1\n",
              "\n",
              "[802 rows x 9 columns]"
            ],
            "text/html": [
              "\n",
              "  <div id=\"df-03234f2a-f6cb-4c2a-8a63-b0f7b36d09ac\">\n",
              "    <div class=\"colab-df-container\">\n",
              "      <div>\n",
              "<style scoped>\n",
              "    .dataframe tbody tr th:only-of-type {\n",
              "        vertical-align: middle;\n",
              "    }\n",
              "\n",
              "    .dataframe tbody tr th {\n",
              "        vertical-align: top;\n",
              "    }\n",
              "\n",
              "    .dataframe thead th {\n",
              "        text-align: right;\n",
              "    }\n",
              "</style>\n",
              "<table border=\"1\" class=\"dataframe\">\n",
              "  <thead>\n",
              "    <tr style=\"text-align: right;\">\n",
              "      <th></th>\n",
              "      <th>1</th>\n",
              "      <th>2</th>\n",
              "      <th>3</th>\n",
              "      <th>4</th>\n",
              "      <th>5</th>\n",
              "      <th>6</th>\n",
              "      <th>7</th>\n",
              "      <th>8</th>\n",
              "      <th>9</th>\n",
              "    </tr>\n",
              "  </thead>\n",
              "  <tbody>\n",
              "    <tr>\n",
              "      <th>0</th>\n",
              "      <td>45</td>\n",
              "      <td>49</td>\n",
              "      <td>49</td>\n",
              "      <td>0.7</td>\n",
              "      <td>6.9</td>\n",
              "      <td>45</td>\n",
              "      <td>65</td>\n",
              "      <td>65</td>\n",
              "      <td>0</td>\n",
              "    </tr>\n",
              "    <tr>\n",
              "      <th>1</th>\n",
              "      <td>60</td>\n",
              "      <td>62</td>\n",
              "      <td>63</td>\n",
              "      <td>1.0</td>\n",
              "      <td>13.0</td>\n",
              "      <td>60</td>\n",
              "      <td>80</td>\n",
              "      <td>80</td>\n",
              "      <td>0</td>\n",
              "    </tr>\n",
              "    <tr>\n",
              "      <th>2</th>\n",
              "      <td>80</td>\n",
              "      <td>100</td>\n",
              "      <td>123</td>\n",
              "      <td>2.0</td>\n",
              "      <td>100.0</td>\n",
              "      <td>80</td>\n",
              "      <td>122</td>\n",
              "      <td>120</td>\n",
              "      <td>0</td>\n",
              "    </tr>\n",
              "    <tr>\n",
              "      <th>3</th>\n",
              "      <td>39</td>\n",
              "      <td>52</td>\n",
              "      <td>43</td>\n",
              "      <td>0.6</td>\n",
              "      <td>8.5</td>\n",
              "      <td>65</td>\n",
              "      <td>60</td>\n",
              "      <td>50</td>\n",
              "      <td>0</td>\n",
              "    </tr>\n",
              "    <tr>\n",
              "      <th>4</th>\n",
              "      <td>58</td>\n",
              "      <td>64</td>\n",
              "      <td>58</td>\n",
              "      <td>1.1</td>\n",
              "      <td>19.0</td>\n",
              "      <td>80</td>\n",
              "      <td>80</td>\n",
              "      <td>65</td>\n",
              "      <td>0</td>\n",
              "    </tr>\n",
              "    <tr>\n",
              "      <th>...</th>\n",
              "      <td>...</td>\n",
              "      <td>...</td>\n",
              "      <td>...</td>\n",
              "      <td>...</td>\n",
              "      <td>...</td>\n",
              "      <td>...</td>\n",
              "      <td>...</td>\n",
              "      <td>...</td>\n",
              "      <td>...</td>\n",
              "    </tr>\n",
              "    <tr>\n",
              "      <th>797</th>\n",
              "      <td>59</td>\n",
              "      <td>181</td>\n",
              "      <td>131</td>\n",
              "      <td>0.3</td>\n",
              "      <td>0.1</td>\n",
              "      <td>109</td>\n",
              "      <td>59</td>\n",
              "      <td>31</td>\n",
              "      <td>0</td>\n",
              "    </tr>\n",
              "    <tr>\n",
              "      <th>798</th>\n",
              "      <td>223</td>\n",
              "      <td>101</td>\n",
              "      <td>53</td>\n",
              "      <td>5.5</td>\n",
              "      <td>888.0</td>\n",
              "      <td>43</td>\n",
              "      <td>97</td>\n",
              "      <td>53</td>\n",
              "      <td>1</td>\n",
              "    </tr>\n",
              "    <tr>\n",
              "      <th>799</th>\n",
              "      <td>97</td>\n",
              "      <td>107</td>\n",
              "      <td>101</td>\n",
              "      <td>2.4</td>\n",
              "      <td>230.0</td>\n",
              "      <td>79</td>\n",
              "      <td>127</td>\n",
              "      <td>89</td>\n",
              "      <td>1</td>\n",
              "    </tr>\n",
              "    <tr>\n",
              "      <th>800</th>\n",
              "      <td>80</td>\n",
              "      <td>95</td>\n",
              "      <td>115</td>\n",
              "      <td>1.0</td>\n",
              "      <td>80.5</td>\n",
              "      <td>65</td>\n",
              "      <td>130</td>\n",
              "      <td>115</td>\n",
              "      <td>1</td>\n",
              "    </tr>\n",
              "    <tr>\n",
              "      <th>801</th>\n",
              "      <td>100</td>\n",
              "      <td>100</td>\n",
              "      <td>100</td>\n",
              "      <td>0.6</td>\n",
              "      <td>5.0</td>\n",
              "      <td>100</td>\n",
              "      <td>100</td>\n",
              "      <td>100</td>\n",
              "      <td>1</td>\n",
              "    </tr>\n",
              "  </tbody>\n",
              "</table>\n",
              "<p>802 rows × 9 columns</p>\n",
              "</div>\n",
              "      <button class=\"colab-df-convert\" onclick=\"convertToInteractive('df-03234f2a-f6cb-4c2a-8a63-b0f7b36d09ac')\"\n",
              "              title=\"Convert this dataframe to an interactive table.\"\n",
              "              style=\"display:none;\">\n",
              "        \n",
              "  <svg xmlns=\"http://www.w3.org/2000/svg\" height=\"24px\"viewBox=\"0 0 24 24\"\n",
              "       width=\"24px\">\n",
              "    <path d=\"M0 0h24v24H0V0z\" fill=\"none\"/>\n",
              "    <path d=\"M18.56 5.44l.94 2.06.94-2.06 2.06-.94-2.06-.94-.94-2.06-.94 2.06-2.06.94zm-11 1L8.5 8.5l.94-2.06 2.06-.94-2.06-.94L8.5 2.5l-.94 2.06-2.06.94zm10 10l.94 2.06.94-2.06 2.06-.94-2.06-.94-.94-2.06-.94 2.06-2.06.94z\"/><path d=\"M17.41 7.96l-1.37-1.37c-.4-.4-.92-.59-1.43-.59-.52 0-1.04.2-1.43.59L10.3 9.45l-7.72 7.72c-.78.78-.78 2.05 0 2.83L4 21.41c.39.39.9.59 1.41.59.51 0 1.02-.2 1.41-.59l7.78-7.78 2.81-2.81c.8-.78.8-2.07 0-2.86zM5.41 20L4 18.59l7.72-7.72 1.47 1.35L5.41 20z\"/>\n",
              "  </svg>\n",
              "      </button>\n",
              "      \n",
              "  <style>\n",
              "    .colab-df-container {\n",
              "      display:flex;\n",
              "      flex-wrap:wrap;\n",
              "      gap: 12px;\n",
              "    }\n",
              "\n",
              "    .colab-df-convert {\n",
              "      background-color: #E8F0FE;\n",
              "      border: none;\n",
              "      border-radius: 50%;\n",
              "      cursor: pointer;\n",
              "      display: none;\n",
              "      fill: #1967D2;\n",
              "      height: 32px;\n",
              "      padding: 0 0 0 0;\n",
              "      width: 32px;\n",
              "    }\n",
              "\n",
              "    .colab-df-convert:hover {\n",
              "      background-color: #E2EBFA;\n",
              "      box-shadow: 0px 1px 2px rgba(60, 64, 67, 0.3), 0px 1px 3px 1px rgba(60, 64, 67, 0.15);\n",
              "      fill: #174EA6;\n",
              "    }\n",
              "\n",
              "    [theme=dark] .colab-df-convert {\n",
              "      background-color: #3B4455;\n",
              "      fill: #D2E3FC;\n",
              "    }\n",
              "\n",
              "    [theme=dark] .colab-df-convert:hover {\n",
              "      background-color: #434B5C;\n",
              "      box-shadow: 0px 1px 3px 1px rgba(0, 0, 0, 0.15);\n",
              "      filter: drop-shadow(0px 1px 2px rgba(0, 0, 0, 0.3));\n",
              "      fill: #FFFFFF;\n",
              "    }\n",
              "  </style>\n",
              "\n",
              "      <script>\n",
              "        const buttonEl =\n",
              "          document.querySelector('#df-03234f2a-f6cb-4c2a-8a63-b0f7b36d09ac button.colab-df-convert');\n",
              "        buttonEl.style.display =\n",
              "          google.colab.kernel.accessAllowed ? 'block' : 'none';\n",
              "\n",
              "        async function convertToInteractive(key) {\n",
              "          const element = document.querySelector('#df-03234f2a-f6cb-4c2a-8a63-b0f7b36d09ac');\n",
              "          const dataTable =\n",
              "            await google.colab.kernel.invokeFunction('convertToInteractive',\n",
              "                                                     [key], {});\n",
              "          if (!dataTable) return;\n",
              "\n",
              "          const docLinkHtml = 'Like what you see? Visit the ' +\n",
              "            '<a target=\"_blank\" href=https://colab.research.google.com/notebooks/data_table.ipynb>data table notebook</a>'\n",
              "            + ' to learn more about interactive tables.';\n",
              "          element.innerHTML = '';\n",
              "          dataTable['output_type'] = 'display_data';\n",
              "          await google.colab.output.renderOutput(dataTable, element);\n",
              "          const docLink = document.createElement('div');\n",
              "          docLink.innerHTML = docLinkHtml;\n",
              "          element.appendChild(docLink);\n",
              "        }\n",
              "      </script>\n",
              "    </div>\n",
              "  </div>\n",
              "  "
            ]
          },
          "metadata": {},
          "execution_count": 383
        }
      ]
    },
    {
      "cell_type": "code",
      "source": [
        "#Me hace la primer ecuacion normal de Gauus\n",
        "A = []\n",
        "for t in range(m+1):\n",
        "     if t == 0:\n",
        "        X = [n]\n",
        "        A = A+X\n",
        "     else: \n",
        "        X = [Puchamon[t].sum()]\n",
        "        A = A+X\n",
        "A = pd.DataFrame(A)       "
      ],
      "metadata": {
        "id": "soE3xZrxRBxp"
      },
      "execution_count": 384,
      "outputs": []
    },
    {
      "cell_type": "code",
      "source": [
        "#me hace el resto de ecuaciones normales de Gauus para un sistema de ecuaciones\n",
        "for t in range(1,m+1):\n",
        "  NN=Puchamon\n",
        "  B = [Puchamon[t].sum()]\n",
        "  Puchamon2 = []\n",
        "  Puchamon2 = pd.DataFrame(Puchamon2)\n",
        "\n",
        "  for i in range(1,m):\n",
        "      Puchamon2[i] = Puchamon[i]*NN[t]\n",
        "      X = [Puchamon2[i].sum()]\n",
        "      B = B + X \n",
        "  B = pd.DataFrame(B)\n",
        "  A = pd.concat([A,B], axis=1)\n",
        "A    #A es la matriz aumentada del sistema de ecuaciones lineales (La novena ecuacion es solo porque el ciclo tiene que acabar en uno mas)"
      ],
      "metadata": {
        "colab": {
          "base_uri": "https://localhost:8080/",
          "height": 0
        },
        "id": "OfHEOUEXWn2K",
        "outputId": "fd9f1adb-d75e-4bdd-cf7e-ec5a1c9f7224"
      },
      "execution_count": 385,
      "outputs": [
        {
          "output_type": "execute_result",
          "data": {
            "text/plain": [
              "         0          0          0          0          0            0  \\\n",
              "0    802.0    55336.0    62464.0    58580.0     925.50     48490.00   \n",
              "1  55336.0  4384036.0  4591294.0  4201269.0   74549.90   4321291.30   \n",
              "2  62464.0  4591294.0  5692868.0  4934310.0   83437.90   4821128.90   \n",
              "3  58580.0  4201269.0  4934310.0  5036944.0   76900.80   4656368.10   \n",
              "4    925.5    74549.9    83437.9    76900.8    1985.65    114173.41   \n",
              "5  48490.0  4321291.3  4821128.9  4656368.1  114173.41  12305461.32   \n",
              "6  53234.0  3772860.0  4409198.0  3894892.0   66206.10   3331373.90   \n",
              "7  57216.0  4200392.0  4763359.0  4372602.0   75563.10   4132738.40   \n",
              "8  56900.0  4144870.0  4623420.0  4518926.0   73318.40   4167872.70   \n",
              "9     57.0        NaN        NaN        NaN        NaN          NaN   \n",
              "\n",
              "           0          0          0        0  \n",
              "0    53234.0    57216.0    56900.0     57.0  \n",
              "1  3772860.0  4200392.0  4144870.0   5552.0  \n",
              "2  4409198.0  4763359.0  4623420.0   6237.0  \n",
              "3  3894892.0  4372602.0  4518926.0   5684.0  \n",
              "4    66206.1    75563.1    73318.4    134.5  \n",
              "5  3331373.9  4132738.4  4167872.7  12073.0  \n",
              "6  4203144.0  4127220.0  3923831.0   5281.0  \n",
              "7  4127220.0  4920122.0  4430106.0   6595.0  \n",
              "8  3923831.0  4430106.0  4662392.0   6059.0  \n",
              "9        NaN        NaN        NaN      NaN  "
            ],
            "text/html": [
              "\n",
              "  <div id=\"df-6d1ae50e-368f-4e82-aa27-809d159d816b\">\n",
              "    <div class=\"colab-df-container\">\n",
              "      <div>\n",
              "<style scoped>\n",
              "    .dataframe tbody tr th:only-of-type {\n",
              "        vertical-align: middle;\n",
              "    }\n",
              "\n",
              "    .dataframe tbody tr th {\n",
              "        vertical-align: top;\n",
              "    }\n",
              "\n",
              "    .dataframe thead th {\n",
              "        text-align: right;\n",
              "    }\n",
              "</style>\n",
              "<table border=\"1\" class=\"dataframe\">\n",
              "  <thead>\n",
              "    <tr style=\"text-align: right;\">\n",
              "      <th></th>\n",
              "      <th>0</th>\n",
              "      <th>0</th>\n",
              "      <th>0</th>\n",
              "      <th>0</th>\n",
              "      <th>0</th>\n",
              "      <th>0</th>\n",
              "      <th>0</th>\n",
              "      <th>0</th>\n",
              "      <th>0</th>\n",
              "      <th>0</th>\n",
              "    </tr>\n",
              "  </thead>\n",
              "  <tbody>\n",
              "    <tr>\n",
              "      <th>0</th>\n",
              "      <td>802.0</td>\n",
              "      <td>55336.0</td>\n",
              "      <td>62464.0</td>\n",
              "      <td>58580.0</td>\n",
              "      <td>925.50</td>\n",
              "      <td>48490.00</td>\n",
              "      <td>53234.0</td>\n",
              "      <td>57216.0</td>\n",
              "      <td>56900.0</td>\n",
              "      <td>57.0</td>\n",
              "    </tr>\n",
              "    <tr>\n",
              "      <th>1</th>\n",
              "      <td>55336.0</td>\n",
              "      <td>4384036.0</td>\n",
              "      <td>4591294.0</td>\n",
              "      <td>4201269.0</td>\n",
              "      <td>74549.90</td>\n",
              "      <td>4321291.30</td>\n",
              "      <td>3772860.0</td>\n",
              "      <td>4200392.0</td>\n",
              "      <td>4144870.0</td>\n",
              "      <td>5552.0</td>\n",
              "    </tr>\n",
              "    <tr>\n",
              "      <th>2</th>\n",
              "      <td>62464.0</td>\n",
              "      <td>4591294.0</td>\n",
              "      <td>5692868.0</td>\n",
              "      <td>4934310.0</td>\n",
              "      <td>83437.90</td>\n",
              "      <td>4821128.90</td>\n",
              "      <td>4409198.0</td>\n",
              "      <td>4763359.0</td>\n",
              "      <td>4623420.0</td>\n",
              "      <td>6237.0</td>\n",
              "    </tr>\n",
              "    <tr>\n",
              "      <th>3</th>\n",
              "      <td>58580.0</td>\n",
              "      <td>4201269.0</td>\n",
              "      <td>4934310.0</td>\n",
              "      <td>5036944.0</td>\n",
              "      <td>76900.80</td>\n",
              "      <td>4656368.10</td>\n",
              "      <td>3894892.0</td>\n",
              "      <td>4372602.0</td>\n",
              "      <td>4518926.0</td>\n",
              "      <td>5684.0</td>\n",
              "    </tr>\n",
              "    <tr>\n",
              "      <th>4</th>\n",
              "      <td>925.5</td>\n",
              "      <td>74549.9</td>\n",
              "      <td>83437.9</td>\n",
              "      <td>76900.8</td>\n",
              "      <td>1985.65</td>\n",
              "      <td>114173.41</td>\n",
              "      <td>66206.1</td>\n",
              "      <td>75563.1</td>\n",
              "      <td>73318.4</td>\n",
              "      <td>134.5</td>\n",
              "    </tr>\n",
              "    <tr>\n",
              "      <th>5</th>\n",
              "      <td>48490.0</td>\n",
              "      <td>4321291.3</td>\n",
              "      <td>4821128.9</td>\n",
              "      <td>4656368.1</td>\n",
              "      <td>114173.41</td>\n",
              "      <td>12305461.32</td>\n",
              "      <td>3331373.9</td>\n",
              "      <td>4132738.4</td>\n",
              "      <td>4167872.7</td>\n",
              "      <td>12073.0</td>\n",
              "    </tr>\n",
              "    <tr>\n",
              "      <th>6</th>\n",
              "      <td>53234.0</td>\n",
              "      <td>3772860.0</td>\n",
              "      <td>4409198.0</td>\n",
              "      <td>3894892.0</td>\n",
              "      <td>66206.10</td>\n",
              "      <td>3331373.90</td>\n",
              "      <td>4203144.0</td>\n",
              "      <td>4127220.0</td>\n",
              "      <td>3923831.0</td>\n",
              "      <td>5281.0</td>\n",
              "    </tr>\n",
              "    <tr>\n",
              "      <th>7</th>\n",
              "      <td>57216.0</td>\n",
              "      <td>4200392.0</td>\n",
              "      <td>4763359.0</td>\n",
              "      <td>4372602.0</td>\n",
              "      <td>75563.10</td>\n",
              "      <td>4132738.40</td>\n",
              "      <td>4127220.0</td>\n",
              "      <td>4920122.0</td>\n",
              "      <td>4430106.0</td>\n",
              "      <td>6595.0</td>\n",
              "    </tr>\n",
              "    <tr>\n",
              "      <th>8</th>\n",
              "      <td>56900.0</td>\n",
              "      <td>4144870.0</td>\n",
              "      <td>4623420.0</td>\n",
              "      <td>4518926.0</td>\n",
              "      <td>73318.40</td>\n",
              "      <td>4167872.70</td>\n",
              "      <td>3923831.0</td>\n",
              "      <td>4430106.0</td>\n",
              "      <td>4662392.0</td>\n",
              "      <td>6059.0</td>\n",
              "    </tr>\n",
              "    <tr>\n",
              "      <th>9</th>\n",
              "      <td>57.0</td>\n",
              "      <td>NaN</td>\n",
              "      <td>NaN</td>\n",
              "      <td>NaN</td>\n",
              "      <td>NaN</td>\n",
              "      <td>NaN</td>\n",
              "      <td>NaN</td>\n",
              "      <td>NaN</td>\n",
              "      <td>NaN</td>\n",
              "      <td>NaN</td>\n",
              "    </tr>\n",
              "  </tbody>\n",
              "</table>\n",
              "</div>\n",
              "      <button class=\"colab-df-convert\" onclick=\"convertToInteractive('df-6d1ae50e-368f-4e82-aa27-809d159d816b')\"\n",
              "              title=\"Convert this dataframe to an interactive table.\"\n",
              "              style=\"display:none;\">\n",
              "        \n",
              "  <svg xmlns=\"http://www.w3.org/2000/svg\" height=\"24px\"viewBox=\"0 0 24 24\"\n",
              "       width=\"24px\">\n",
              "    <path d=\"M0 0h24v24H0V0z\" fill=\"none\"/>\n",
              "    <path d=\"M18.56 5.44l.94 2.06.94-2.06 2.06-.94-2.06-.94-.94-2.06-.94 2.06-2.06.94zm-11 1L8.5 8.5l.94-2.06 2.06-.94-2.06-.94L8.5 2.5l-.94 2.06-2.06.94zm10 10l.94 2.06.94-2.06 2.06-.94-2.06-.94-.94-2.06-.94 2.06-2.06.94z\"/><path d=\"M17.41 7.96l-1.37-1.37c-.4-.4-.92-.59-1.43-.59-.52 0-1.04.2-1.43.59L10.3 9.45l-7.72 7.72c-.78.78-.78 2.05 0 2.83L4 21.41c.39.39.9.59 1.41.59.51 0 1.02-.2 1.41-.59l7.78-7.78 2.81-2.81c.8-.78.8-2.07 0-2.86zM5.41 20L4 18.59l7.72-7.72 1.47 1.35L5.41 20z\"/>\n",
              "  </svg>\n",
              "      </button>\n",
              "      \n",
              "  <style>\n",
              "    .colab-df-container {\n",
              "      display:flex;\n",
              "      flex-wrap:wrap;\n",
              "      gap: 12px;\n",
              "    }\n",
              "\n",
              "    .colab-df-convert {\n",
              "      background-color: #E8F0FE;\n",
              "      border: none;\n",
              "      border-radius: 50%;\n",
              "      cursor: pointer;\n",
              "      display: none;\n",
              "      fill: #1967D2;\n",
              "      height: 32px;\n",
              "      padding: 0 0 0 0;\n",
              "      width: 32px;\n",
              "    }\n",
              "\n",
              "    .colab-df-convert:hover {\n",
              "      background-color: #E2EBFA;\n",
              "      box-shadow: 0px 1px 2px rgba(60, 64, 67, 0.3), 0px 1px 3px 1px rgba(60, 64, 67, 0.15);\n",
              "      fill: #174EA6;\n",
              "    }\n",
              "\n",
              "    [theme=dark] .colab-df-convert {\n",
              "      background-color: #3B4455;\n",
              "      fill: #D2E3FC;\n",
              "    }\n",
              "\n",
              "    [theme=dark] .colab-df-convert:hover {\n",
              "      background-color: #434B5C;\n",
              "      box-shadow: 0px 1px 3px 1px rgba(0, 0, 0, 0.15);\n",
              "      filter: drop-shadow(0px 1px 2px rgba(0, 0, 0, 0.3));\n",
              "      fill: #FFFFFF;\n",
              "    }\n",
              "  </style>\n",
              "\n",
              "      <script>\n",
              "        const buttonEl =\n",
              "          document.querySelector('#df-6d1ae50e-368f-4e82-aa27-809d159d816b button.colab-df-convert');\n",
              "        buttonEl.style.display =\n",
              "          google.colab.kernel.accessAllowed ? 'block' : 'none';\n",
              "\n",
              "        async function convertToInteractive(key) {\n",
              "          const element = document.querySelector('#df-6d1ae50e-368f-4e82-aa27-809d159d816b');\n",
              "          const dataTable =\n",
              "            await google.colab.kernel.invokeFunction('convertToInteractive',\n",
              "                                                     [key], {});\n",
              "          if (!dataTable) return;\n",
              "\n",
              "          const docLinkHtml = 'Like what you see? Visit the ' +\n",
              "            '<a target=\"_blank\" href=https://colab.research.google.com/notebooks/data_table.ipynb>data table notebook</a>'\n",
              "            + ' to learn more about interactive tables.';\n",
              "          element.innerHTML = '';\n",
              "          dataTable['output_type'] = 'display_data';\n",
              "          await google.colab.output.renderOutput(dataTable, element);\n",
              "          const docLink = document.createElement('div');\n",
              "          docLink.innerHTML = docLinkHtml;\n",
              "          element.appendChild(docLink);\n",
              "        }\n",
              "      </script>\n",
              "    </div>\n",
              "  </div>\n",
              "  "
            ]
          },
          "metadata": {},
          "execution_count": 385
        }
      ]
    },
    {
      "cell_type": "code",
      "source": [
        "A=A.drop([9],axis=0)              #La novena ecuacion que tenemos no es necesaria la quitamos\n",
        "A.columns =[1,2,3,4,5,6,7,8,9,'B'] #nombramos columnas\n",
        "A1=A\n",
        "A = A.drop(['B'],axis=1)          #quitamos la columna de soluciones \n",
        "B = A1.drop([1,2,3,4,5,6,7,8,9],axis=1) #y separamos la columna de soluciones\n",
        "\n",
        "Betas = np.linalg.solve(A,B) #nos soluciona el sistema de ecuaciones\n",
        "Betas = pd.DataFrame(Betas) #el dataframe de las soluciones\n",
        "print(Betas)"
      ],
      "metadata": {
        "colab": {
          "base_uri": "https://localhost:8080/"
        },
        "id": "V28nNrpeXhBH",
        "outputId": "419e78f8-5614-40d1-a3ef-e89413f0e4c1"
      },
      "execution_count": 386,
      "outputs": [
        {
          "output_type": "stream",
          "name": "stdout",
          "text": [
            "          0\n",
            "0 -0.259130\n",
            "1  0.000443\n",
            "2  0.000086\n",
            "3 -0.000041\n",
            "4 -0.005453\n",
            "5  0.000694\n",
            "6  0.001107\n",
            "7  0.001379\n",
            "8  0.001245\n"
          ]
        }
      ]
    },
    {
      "cell_type": "code",
      "source": [
        "b0= Betas.iloc[0] #nombro a cada una de las soluciones para hacer la funcion\n",
        "b1= Betas.iloc[1]\n",
        "b2= Betas.iloc[2]\n",
        "b3= Betas.iloc[3]\n",
        "b4= Betas.iloc[4]\n",
        "b5= Betas.iloc[5]\n",
        "b6= Betas.iloc[6]\n",
        "b7= Betas.iloc[7]\n",
        "b8= Betas.iloc[8]\n",
        "def WhoisthatPokemon(x1,x2,x3,x4,x5,x6,x7,x8):\n",
        "  y = b0 + b1*x1 + b2*x2 + b3*x3 + b4*x4 + b5*x5 + b6*x6 + b7*x7 + b8*x8 #esta es la regresion lineal\n",
        "  p = 1/(1+ math.exp(-y)) #esta la transformacion de regresion lineal a regresion logistica\n",
        "  return p"
      ],
      "metadata": {
        "id": "rzGWkUemX25R"
      },
      "execution_count": 387,
      "outputs": []
    },
    {
      "cell_type": "code",
      "source": [
        "WhoisthatPokemon(80,\t95,\t115,\t1.0,\t80.5,\t65,\t130,\t115) #Prueba de la funcion"
      ],
      "metadata": {
        "colab": {
          "base_uri": "https://localhost:8080/"
        },
        "id": "vCjM0fZiYET0",
        "outputId": "ce54fcff-7cad-4021-eb61-f9a8a3b32bec"
      },
      "execution_count": 388,
      "outputs": [
        {
          "output_type": "execute_result",
          "data": {
            "text/plain": [
              "0.5559397182887382"
            ]
          },
          "metadata": {},
          "execution_count": 388
        }
      ]
    },
    {
      "cell_type": "markdown",
      "source": [
        "---------------------------\n",
        "#Analisis del resultado de las predicciones"
      ],
      "metadata": {
        "id": "T_s8QQbjZfpy"
      }
    },
    {
      "cell_type": "code",
      "source": [
        "#Recordar que T tiene los datos estadisticos de los pokeones legendarios, usar el valor medio osea el mean segunda fila\n",
        "mean=T.iloc[1]"
      ],
      "metadata": {
        "id": "jL4mQ-TmZqCk"
      },
      "execution_count": 389,
      "outputs": []
    },
    {
      "cell_type": "code",
      "source": [
        "L = 10000              #si van a hacer pruebas bajen esto pa que no se demore el final dejenlo alto pa que se vea el cambio\n",
        "x = np.linspace(0,L,L+1)\n",
        "y0 = []\n",
        "y1 = []\n",
        "y2 = []\n",
        "y3 = []\n",
        "y4 = []\n",
        "y5 = []\n",
        "y6 = []\n",
        "y7 = []\n",
        "for i in range(0,L+1):\n",
        "  y = [WhoisthatPokemon(i,mean[1],mean[2],mean[3],mean[4],mean[5],mean[6],mean[7])]\n",
        "  y0 = y0+y\n",
        "\n",
        "  y = [WhoisthatPokemon(mean[0],i,mean[2],mean[3],mean[4],mean[5],mean[6],mean[7])]\n",
        "  y1 = y1+y\n",
        "\n",
        "  y = [WhoisthatPokemon(mean[0],mean[1],i,mean[3],mean[4],mean[5],mean[6],mean[7])]\n",
        "  y2 = y2+y\n",
        "\n",
        "  y = [WhoisthatPokemon(mean[0],mean[1],mean[2],i,mean[4],mean[5],mean[6],mean[7])]\n",
        "  y3 = y3+y\n",
        "\n",
        "  y = [WhoisthatPokemon(mean[0],mean[1],mean[2],mean[3],i,mean[5],mean[6],mean[7])]\n",
        "  y4 = y4+y\n",
        "\n",
        "  y = [WhoisthatPokemon(mean[0],mean[1],mean[2],mean[3],mean[4],i,mean[6],mean[7])]\n",
        "  y5 = y5+y\n",
        "\n",
        "  y = [WhoisthatPokemon(mean[0],mean[1],mean[2],mean[3],mean[4],mean[5],i,mean[7])]\n",
        "  y6 = y6+y\n",
        "\n",
        "  y = [WhoisthatPokemon(mean[0],mean[1],mean[2],mean[3],mean[4],mean[5],mean[6],i)]\n",
        "  y7 = y7+y\n",
        "\n",
        "fig, axs = plt.subplots(2, 4)\n",
        "fig.subplots_adjust(hspace=0.2, wspace=0.2) #aca se mueve la distancia entre graficas\n",
        "axs[0, 0].plot(x, y0)\n",
        "axs[0, 0].set_title('hp')\n",
        "axs[0, 1].plot(x, y1, 'tab:orange')\n",
        "axs[0, 1].set_title('attack')\n",
        "axs[0, 2].plot(x, y2, 'tab:green')\n",
        "axs[0, 2].set_title('defense')\n",
        "axs[0, 3].plot(x, y3, 'tab:red')\n",
        "axs[0, 3].set_title('height_m')\n",
        "axs[1, 0].plot(x, y4, 'tab:red')\n",
        "axs[1, 0].set_title('weight_kg')\n",
        "axs[1, 1].plot(x, y5, 'tab:blue')\n",
        "axs[1, 1].set_title('speed')\n",
        "axs[1, 2].plot(x, y6, 'tab:orange')\n",
        "axs[1, 2].set_title('sp_attack')\n",
        "axs[1, 3].plot(x, y7, 'tab:green')\n",
        "axs[1, 3].set_title('sp_defense')\n",
        "fig.suptitle('Vertically stacked subplots')\n",
        "for ax in axs.flat:\n",
        "    ax.set( ylabel='% de legendario')\n",
        "\n",
        "for ax in axs.flat:\n",
        "    ax.label_outer()\n",
        "\n",
        "\n",
        "\n"
      ],
      "metadata": {
        "colab": {
          "base_uri": "https://localhost:8080/",
          "height": 294
        },
        "id": "FXrKpvOeeHmX",
        "outputId": "284c361d-0797-48da-f333-b6ba460f0e43"
      },
      "execution_count": 390,
      "outputs": [
        {
          "output_type": "display_data",
          "data": {
            "text/plain": [
              "<Figure size 432x288 with 8 Axes>"
            ],
            "image/png": "[encoded data removed]"
          },
          "metadata": {
            "needs_background": "light"
          }
        }
      ]
    }
  ]
}